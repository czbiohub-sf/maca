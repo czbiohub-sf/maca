{
 "cells": [
  {
   "cell_type": "code",
   "execution_count": 1,
   "metadata": {},
   "outputs": [],
   "source": [
    "import pandas as pd\n",
    "import os\n",
    "\n",
    "metadata_folder = os.path.join('..', 'metadata' )\n",
    "\n",
    "%load_ext autoreload\n",
    "%autoreload 2\n",
    "\n",
    "pd.options.display.max_columns = 100"
   ]
  },
  {
   "cell_type": "code",
   "execution_count": 2,
   "metadata": {
    "collapsed": true
   },
   "outputs": [],
   "source": [
    "old_to_new_name = {'Mammary_Gland': \"Mammary\",\n",
    "            \"Brain_FACS_microglia\": \"Brain_microglia\",\n",
    "            \"Brain_FACS_neurons\": \"Brain_neurons\"}"
   ]
  },
  {
   "cell_type": "markdown",
   "metadata": {},
   "source": [
    "## Rename plate Metadata"
   ]
  },
  {
   "cell_type": "code",
   "execution_count": 3,
   "metadata": {},
   "outputs": [
    {
     "name": "stdout",
     "output_type": "stream",
     "text": [
      "(4190, 24)\n"
     ]
    },
    {
     "data": {
      "text/html": [
       "<div>\n",
       "<style>\n",
       "    .dataframe thead tr:only-child th {\n",
       "        text-align: right;\n",
       "    }\n",
       "\n",
       "    .dataframe thead th {\n",
       "        text-align: left;\n",
       "    }\n",
       "\n",
       "    .dataframe tbody tr th {\n",
       "        vertical-align: top;\n",
       "    }\n",
       "</style>\n",
       "<table border=\"1\" class=\"dataframe\">\n",
       "  <thead>\n",
       "    <tr style=\"text-align: right;\">\n",
       "      <th></th>\n",
       "      <th>Lysis Plate Batch</th>\n",
       "      <th>dNTP.batch</th>\n",
       "      <th>oligodT.order.no</th>\n",
       "      <th>plate.type</th>\n",
       "      <th>preparation.site</th>\n",
       "      <th>date.prepared</th>\n",
       "      <th>date.sorted</th>\n",
       "      <th>tissue</th>\n",
       "      <th>subtissue</th>\n",
       "      <th>mouse.id</th>\n",
       "      <th>FACS.selection</th>\n",
       "      <th>nozzle.size</th>\n",
       "      <th>FACS.instument</th>\n",
       "      <th>Experiment ID</th>\n",
       "      <th>Columns sorted</th>\n",
       "      <th>Double check</th>\n",
       "      <th>Plate</th>\n",
       "      <th>Location</th>\n",
       "      <th>Comments</th>\n",
       "      <th>mouse.age</th>\n",
       "      <th>mouse.number</th>\n",
       "      <th>mouse.sex</th>\n",
       "      <th>mouse.parabiont</th>\n",
       "      <th>mouse.parabiont_pair</th>\n",
       "    </tr>\n",
       "    <tr>\n",
       "      <th></th>\n",
       "      <th></th>\n",
       "      <th></th>\n",
       "      <th></th>\n",
       "      <th></th>\n",
       "      <th></th>\n",
       "      <th></th>\n",
       "      <th></th>\n",
       "      <th></th>\n",
       "      <th></th>\n",
       "      <th></th>\n",
       "      <th></th>\n",
       "      <th></th>\n",
       "      <th></th>\n",
       "      <th></th>\n",
       "      <th></th>\n",
       "      <th></th>\n",
       "      <th></th>\n",
       "      <th></th>\n",
       "      <th></th>\n",
       "      <th></th>\n",
       "      <th></th>\n",
       "      <th></th>\n",
       "      <th></th>\n",
       "      <th></th>\n",
       "    </tr>\n",
       "  </thead>\n",
       "  <tbody>\n",
       "    <tr>\n",
       "      <th>MAA100002</th>\n",
       "      <td>NaN</td>\n",
       "      <td>NaN</td>\n",
       "      <td>NaN</td>\n",
       "      <td>Biorad 96well</td>\n",
       "      <td>Stanford</td>\n",
       "      <td>NaN</td>\n",
       "      <td>170522</td>\n",
       "      <td>?</td>\n",
       "      <td>?</td>\n",
       "      <td>?</td>\n",
       "      <td>?</td>\n",
       "      <td>?</td>\n",
       "      <td>?</td>\n",
       "      <td>NaN</td>\n",
       "      <td>NaN</td>\n",
       "      <td>NaN</td>\n",
       "      <td>NaN</td>\n",
       "      <td>NaN</td>\n",
       "      <td>NaN</td>\n",
       "      <td>NaN</td>\n",
       "      <td>NaN</td>\n",
       "      <td>NaN</td>\n",
       "      <td>False</td>\n",
       "      <td>NaN</td>\n",
       "    </tr>\n",
       "    <tr>\n",
       "      <th>MAA100021</th>\n",
       "      <td>NaN</td>\n",
       "      <td>NaN</td>\n",
       "      <td>NaN</td>\n",
       "      <td>Biorad 96well</td>\n",
       "      <td>Stanford</td>\n",
       "      <td>NaN</td>\n",
       "      <td>?</td>\n",
       "      <td>?</td>\n",
       "      <td>?</td>\n",
       "      <td>?</td>\n",
       "      <td>?</td>\n",
       "      <td>?</td>\n",
       "      <td>?</td>\n",
       "      <td>NaN</td>\n",
       "      <td>NaN</td>\n",
       "      <td>NaN</td>\n",
       "      <td>NaN</td>\n",
       "      <td>NaN</td>\n",
       "      <td>NaN</td>\n",
       "      <td>NaN</td>\n",
       "      <td>NaN</td>\n",
       "      <td>NaN</td>\n",
       "      <td>False</td>\n",
       "      <td>NaN</td>\n",
       "    </tr>\n",
       "    <tr>\n",
       "      <th>D041901</th>\n",
       "      <td>2</td>\n",
       "      <td>490668</td>\n",
       "      <td>4/25/17</td>\n",
       "      <td>Biorad HSP3805</td>\n",
       "      <td>Biohub</td>\n",
       "      <td>6/9/17</td>\n",
       "      <td>170614</td>\n",
       "      <td>Bladder</td>\n",
       "      <td>NaN</td>\n",
       "      <td>1_7_M</td>\n",
       "      <td>Multiple</td>\n",
       "      <td>NaN</td>\n",
       "      <td>NaN</td>\n",
       "      <td>NaN</td>\n",
       "      <td>NaN</td>\n",
       "      <td>NaN</td>\n",
       "      <td>1</td>\n",
       "      <td>MACA2_2</td>\n",
       "      <td>NaN</td>\n",
       "      <td>1</td>\n",
       "      <td>7</td>\n",
       "      <td>M</td>\n",
       "      <td>False</td>\n",
       "      <td>NaN</td>\n",
       "    </tr>\n",
       "    <tr>\n",
       "      <th>D041914</th>\n",
       "      <td>2</td>\n",
       "      <td>490668</td>\n",
       "      <td>4/25/17</td>\n",
       "      <td>Biorad HSP3805</td>\n",
       "      <td>Biohub</td>\n",
       "      <td>6/9/17</td>\n",
       "      <td>170615</td>\n",
       "      <td>Bladder</td>\n",
       "      <td>NaN</td>\n",
       "      <td>3_8_M</td>\n",
       "      <td>Multiple</td>\n",
       "      <td>100</td>\n",
       "      <td>Aria</td>\n",
       "      <td>exp8</td>\n",
       "      <td>NaN</td>\n",
       "      <td>NaN</td>\n",
       "      <td>NaN</td>\n",
       "      <td>MACA4_7</td>\n",
       "      <td>NaN</td>\n",
       "      <td>3</td>\n",
       "      <td>8</td>\n",
       "      <td>M</td>\n",
       "      <td>False</td>\n",
       "      <td>NaN</td>\n",
       "    </tr>\n",
       "    <tr>\n",
       "      <th>D042205</th>\n",
       "      <td>2</td>\n",
       "      <td>490668</td>\n",
       "      <td>4/25/17</td>\n",
       "      <td>Biorad HSP3805</td>\n",
       "      <td>Biohub</td>\n",
       "      <td>6/9/17</td>\n",
       "      <td>170614</td>\n",
       "      <td>Bladder</td>\n",
       "      <td>NaN</td>\n",
       "      <td>1_6_M</td>\n",
       "      <td>Multiple</td>\n",
       "      <td>NaN</td>\n",
       "      <td>NaN</td>\n",
       "      <td>NaN</td>\n",
       "      <td>NaN</td>\n",
       "      <td>NaN</td>\n",
       "      <td>1</td>\n",
       "      <td>MACA2_2</td>\n",
       "      <td>NaN</td>\n",
       "      <td>1</td>\n",
       "      <td>6</td>\n",
       "      <td>M</td>\n",
       "      <td>False</td>\n",
       "      <td>NaN</td>\n",
       "    </tr>\n",
       "  </tbody>\n",
       "</table>\n",
       "</div>"
      ],
      "text/plain": [
       "          Lysis Plate Batch dNTP.batch oligodT.order.no      plate.type  \\\n",
       "                                                                          \n",
       "MAA100002               NaN        NaN              NaN   Biorad 96well   \n",
       "MAA100021               NaN        NaN              NaN   Biorad 96well   \n",
       "D041901                   2     490668          4/25/17  Biorad HSP3805   \n",
       "D041914                   2     490668          4/25/17  Biorad HSP3805   \n",
       "D042205                   2     490668          4/25/17  Biorad HSP3805   \n",
       "\n",
       "          preparation.site date.prepared date.sorted   tissue subtissue  \\\n",
       "                                                                          \n",
       "MAA100002         Stanford           NaN      170522        ?         ?   \n",
       "MAA100021         Stanford           NaN           ?        ?         ?   \n",
       "D041901             Biohub        6/9/17      170614  Bladder       NaN   \n",
       "D041914             Biohub        6/9/17      170615  Bladder       NaN   \n",
       "D042205             Biohub        6/9/17      170614  Bladder       NaN   \n",
       "\n",
       "          mouse.id FACS.selection nozzle.size FACS.instument Experiment ID   \\\n",
       "                                                                              \n",
       "MAA100002        ?              ?           ?              ?            NaN   \n",
       "MAA100021        ?              ?           ?              ?            NaN   \n",
       "D041901      1_7_M       Multiple         NaN            NaN            NaN   \n",
       "D041914      3_8_M       Multiple         100           Aria           exp8   \n",
       "D042205      1_6_M       Multiple         NaN            NaN            NaN   \n",
       "\n",
       "          Columns sorted Double check Plate Location  Comments mouse.age  \\\n",
       "                                                                           \n",
       "MAA100002            NaN          NaN   NaN       NaN      NaN       NaN   \n",
       "MAA100021            NaN          NaN   NaN       NaN      NaN       NaN   \n",
       "D041901              NaN          NaN     1   MACA2_2      NaN         1   \n",
       "D041914              NaN          NaN   NaN   MACA4_7      NaN         3   \n",
       "D042205              NaN          NaN     1   MACA2_2      NaN         1   \n",
       "\n",
       "          mouse.number mouse.sex  mouse.parabiont mouse.parabiont_pair  \n",
       "                                                                        \n",
       "MAA100002          NaN       NaN            False                  NaN  \n",
       "MAA100021          NaN       NaN            False                  NaN  \n",
       "D041901              7         M            False                  NaN  \n",
       "D041914              8         M            False                  NaN  \n",
       "D042205              6         M            False                  NaN  "
      ]
     },
     "execution_count": 3,
     "metadata": {},
     "output_type": "execute_result"
    }
   ],
   "source": [
    "csv = os.path.join(metadata_folder, 'MACA_Metadata.csv')\n",
    "plates = pd.read_csv(csv, index_col=0)\n",
    "print(plates.shape)\n",
    "plates.head()"
   ]
  },
  {
   "cell_type": "code",
   "execution_count": 4,
   "metadata": {},
   "outputs": [
    {
     "data": {
      "text/plain": [
       "Index(['Lysis Plate Batch', 'dNTP.batch', 'oligodT.order.no', 'plate.type',\n",
       "       'preparation.site', 'date.prepared', 'date.sorted', 'tissue',\n",
       "       'subtissue', 'mouse.id', 'FACS.selection', 'nozzle.size',\n",
       "       'FACS.instument', 'Experiment ID ', 'Columns sorted', 'Double check',\n",
       "       'Plate', 'Location ', 'Comments', 'mouse.age', 'mouse.number',\n",
       "       'mouse.sex', 'mouse.parabiont', 'mouse.parabiont_pair'],\n",
       "      dtype='object')"
      ]
     },
     "execution_count": 4,
     "metadata": {},
     "output_type": "execute_result"
    }
   ],
   "source": [
    "plates.columns"
   ]
  },
  {
   "cell_type": "code",
   "execution_count": 5,
   "metadata": {},
   "outputs": [
    {
     "data": {
      "text/plain": [
       "tissue\n",
       "?                  2\n",
       "Bladder          106\n",
       "Brain            727\n",
       "Colon            242\n",
       "Fat              471\n",
       "Heart            332\n",
       "Kidney           149\n",
       "Liver            181\n",
       "Lung             228\n",
       "Mammary_Gland     47\n",
       "Marrow           422\n",
       "Muscle           462\n",
       "Pancreas         125\n",
       "Skin             170\n",
       "Spleen           149\n",
       "Thymus           173\n",
       "Tongue           108\n",
       "Trachea           96\n",
       "dtype: int64"
      ]
     },
     "execution_count": 5,
     "metadata": {},
     "output_type": "execute_result"
    }
   ],
   "source": [
    "plates.fillna(\".\").groupby('tissue').size()"
   ]
  },
  {
   "cell_type": "code",
   "execution_count": 6,
   "metadata": {},
   "outputs": [
    {
     "data": {
      "text/plain": [
       "FACS.selection\n",
       ".              4\n",
       "Microglia    242\n",
       "Multiple       2\n",
       "Neurons      479\n",
       "dtype: int64"
      ]
     },
     "execution_count": 6,
     "metadata": {},
     "output_type": "execute_result"
    }
   ],
   "source": [
    "subset = plates.query('tissue == \"Brain\"')\n",
    "subset.fillna('.').groupby('FACS.selection').size()"
   ]
  },
  {
   "cell_type": "code",
   "execution_count": 11,
   "metadata": {
    "collapsed": true
   },
   "outputs": [],
   "source": [
    "valid_facs_selections = ('Microglia', 'Neurons')\n",
    "\n",
    "def rename_tissue(row):\n",
    "    if row['tissue'] == 'Brain':\n",
    "        if row['FACS.selection'] in valid_facs_selections:\n",
    "            return row['tissue'] + '_' + row['FACS.selection']\n",
    "        else:\n",
    "            return row['tissue']\n",
    "    elif row['tissue'] in old_to_new_name:\n",
    "        return old_to_new_name[row['tissue']]\n",
    "    else:\n",
    "        return row['tissue']"
   ]
  },
  {
   "cell_type": "code",
   "execution_count": 12,
   "metadata": {},
   "outputs": [
    {
     "data": {
      "text/plain": [
       "tissue         tissue_v2      \n",
       "?              ?                    2\n",
       "Bladder        Bladder            106\n",
       "Brain          Brain                6\n",
       "               Brain_Microglia    242\n",
       "               Brain_Neurons      479\n",
       "Colon          Colon              242\n",
       "Fat            Fat                471\n",
       "Heart          Heart              332\n",
       "Kidney         Kidney             149\n",
       "Liver          Liver              181\n",
       "Lung           Lung               228\n",
       "Mammary_Gland  Mammary             47\n",
       "Marrow         Marrow             422\n",
       "Muscle         Muscle             462\n",
       "Pancreas       Pancreas           125\n",
       "Skin           Skin               170\n",
       "Spleen         Spleen             149\n",
       "Thymus         Thymus             173\n",
       "Tongue         Tongue             108\n",
       "Trachea        Trachea             96\n",
       "dtype: int64"
      ]
     },
     "execution_count": 12,
     "metadata": {},
     "output_type": "execute_result"
    }
   ],
   "source": [
    "plates['tissue_v2'] = plates.apply(rename_tissue, axis=1)\n",
    "plates.groupby(['tissue', 'tissue_v2']).size()"
   ]
  },
  {
   "cell_type": "markdown",
   "metadata": {},
   "source": [
    "### Save the CSV!"
   ]
  },
  {
   "cell_type": "code",
   "execution_count": 16,
   "metadata": {},
   "outputs": [
    {
     "name": "stdout",
     "output_type": "stream",
     "text": [
      "../metadata/MACA_Metadata.csv\n"
     ]
    }
   ],
   "source": [
    "print(csv)\n",
    "plates.to_csv(csv)"
   ]
  },
  {
   "cell_type": "markdown",
   "metadata": {},
   "source": [
    "## Rename 10x metadata"
   ]
  },
  {
   "cell_type": "code",
   "execution_count": 17,
   "metadata": {},
   "outputs": [
    {
     "name": "stdout",
     "output_type": "stream",
     "text": [
      "(94, 13)\n"
     ]
    },
    {
     "data": {
      "text/html": [
       "<div>\n",
       "<style>\n",
       "    .dataframe thead tr:only-child th {\n",
       "        text-align: right;\n",
       "    }\n",
       "\n",
       "    .dataframe thead th {\n",
       "        text-align: left;\n",
       "    }\n",
       "\n",
       "    .dataframe tbody tr th {\n",
       "        vertical-align: top;\n",
       "    }\n",
       "</style>\n",
       "<table border=\"1\" class=\"dataframe\">\n",
       "  <thead>\n",
       "    <tr style=\"text-align: right;\">\n",
       "      <th></th>\n",
       "      <th>tenx.index</th>\n",
       "      <th>mouse.id</th>\n",
       "      <th>tissue</th>\n",
       "      <th>tissue.notes</th>\n",
       "      <th>mouse.age</th>\n",
       "      <th>mouse.sex</th>\n",
       "      <th>mouse.parabiont</th>\n",
       "      <th>mouse.parabiont_pair</th>\n",
       "      <th>pool</th>\n",
       "      <th>url.csv</th>\n",
       "      <th>url.mtx</th>\n",
       "      <th>url.genes</th>\n",
       "      <th>url.barcodes</th>\n",
       "    </tr>\n",
       "    <tr>\n",
       "      <th>channel</th>\n",
       "      <th></th>\n",
       "      <th></th>\n",
       "      <th></th>\n",
       "      <th></th>\n",
       "      <th></th>\n",
       "      <th></th>\n",
       "      <th></th>\n",
       "      <th></th>\n",
       "      <th></th>\n",
       "      <th></th>\n",
       "      <th></th>\n",
       "      <th></th>\n",
       "      <th></th>\n",
       "    </tr>\n",
       "  </thead>\n",
       "  <tbody>\n",
       "    <tr>\n",
       "      <th>10X_P1_1</th>\n",
       "      <td>A3</td>\n",
       "      <td>30-M-2</td>\n",
       "      <td>Kidney</td>\n",
       "      <td>KIDNEY</td>\n",
       "      <td>30</td>\n",
       "      <td>M</td>\n",
       "      <td>False</td>\n",
       "      <td>NaN</td>\n",
       "      <td>1</td>\n",
       "      <td>https://s3.amazonaws.com/czbiohub-maca/10x_dat...</td>\n",
       "      <td>https://s3.amazonaws.com/czbiohub-maca/10x_dat...</td>\n",
       "      <td>https://s3.amazonaws.com/czbiohub-maca/10x_dat...</td>\n",
       "      <td>https://s3.amazonaws.com/czbiohub-maca/10x_dat...</td>\n",
       "    </tr>\n",
       "    <tr>\n",
       "      <th>10X_P1_2</th>\n",
       "      <td>B3</td>\n",
       "      <td>30-M-2</td>\n",
       "      <td>Spleen</td>\n",
       "      <td>SPLEEN</td>\n",
       "      <td>30</td>\n",
       "      <td>M</td>\n",
       "      <td>False</td>\n",
       "      <td>NaN</td>\n",
       "      <td>1</td>\n",
       "      <td>https://s3.amazonaws.com/czbiohub-maca/10x_dat...</td>\n",
       "      <td>https://s3.amazonaws.com/czbiohub-maca/10x_dat...</td>\n",
       "      <td>https://s3.amazonaws.com/czbiohub-maca/10x_dat...</td>\n",
       "      <td>https://s3.amazonaws.com/czbiohub-maca/10x_dat...</td>\n",
       "    </tr>\n",
       "    <tr>\n",
       "      <th>10X_P1_3</th>\n",
       "      <td>C3</td>\n",
       "      <td>30-M-2</td>\n",
       "      <td>Heart</td>\n",
       "      <td>HEART (ALL MINUS AORTA)</td>\n",
       "      <td>30</td>\n",
       "      <td>M</td>\n",
       "      <td>False</td>\n",
       "      <td>NaN</td>\n",
       "      <td>1</td>\n",
       "      <td>https://s3.amazonaws.com/czbiohub-maca/10x_dat...</td>\n",
       "      <td>https://s3.amazonaws.com/czbiohub-maca/10x_dat...</td>\n",
       "      <td>https://s3.amazonaws.com/czbiohub-maca/10x_dat...</td>\n",
       "      <td>https://s3.amazonaws.com/czbiohub-maca/10x_dat...</td>\n",
       "    </tr>\n",
       "    <tr>\n",
       "      <th>10X_P1_4</th>\n",
       "      <td>D3</td>\n",
       "      <td>30-M-2</td>\n",
       "      <td>Heart</td>\n",
       "      <td>HEART (LV+RV ONLY)</td>\n",
       "      <td>30</td>\n",
       "      <td>M</td>\n",
       "      <td>False</td>\n",
       "      <td>NaN</td>\n",
       "      <td>1</td>\n",
       "      <td>https://s3.amazonaws.com/czbiohub-maca/10x_dat...</td>\n",
       "      <td>https://s3.amazonaws.com/czbiohub-maca/10x_dat...</td>\n",
       "      <td>https://s3.amazonaws.com/czbiohub-maca/10x_dat...</td>\n",
       "      <td>https://s3.amazonaws.com/czbiohub-maca/10x_dat...</td>\n",
       "    </tr>\n",
       "    <tr>\n",
       "      <th>10X_P1_5</th>\n",
       "      <td>E3</td>\n",
       "      <td>30-M-2</td>\n",
       "      <td>Marrow</td>\n",
       "      <td>BM (NON-STC)</td>\n",
       "      <td>30</td>\n",
       "      <td>M</td>\n",
       "      <td>False</td>\n",
       "      <td>NaN</td>\n",
       "      <td>1</td>\n",
       "      <td>https://s3.amazonaws.com/czbiohub-maca/10x_dat...</td>\n",
       "      <td>https://s3.amazonaws.com/czbiohub-maca/10x_dat...</td>\n",
       "      <td>https://s3.amazonaws.com/czbiohub-maca/10x_dat...</td>\n",
       "      <td>https://s3.amazonaws.com/czbiohub-maca/10x_dat...</td>\n",
       "    </tr>\n",
       "  </tbody>\n",
       "</table>\n",
       "</div>"
      ],
      "text/plain": [
       "         tenx.index mouse.id  tissue             tissue.notes  mouse.age  \\\n",
       "channel                                                                    \n",
       "10X_P1_1         A3   30-M-2  Kidney                   KIDNEY         30   \n",
       "10X_P1_2         B3   30-M-2  Spleen                   SPLEEN         30   \n",
       "10X_P1_3         C3   30-M-2   Heart  HEART (ALL MINUS AORTA)         30   \n",
       "10X_P1_4         D3   30-M-2   Heart       HEART (LV+RV ONLY)         30   \n",
       "10X_P1_5         E3   30-M-2  Marrow             BM (NON-STC)         30   \n",
       "\n",
       "         mouse.sex  mouse.parabiont mouse.parabiont_pair  pool  \\\n",
       "channel                                                          \n",
       "10X_P1_1         M            False                  NaN     1   \n",
       "10X_P1_2         M            False                  NaN     1   \n",
       "10X_P1_3         M            False                  NaN     1   \n",
       "10X_P1_4         M            False                  NaN     1   \n",
       "10X_P1_5         M            False                  NaN     1   \n",
       "\n",
       "                                                    url.csv  \\\n",
       "channel                                                       \n",
       "10X_P1_1  https://s3.amazonaws.com/czbiohub-maca/10x_dat...   \n",
       "10X_P1_2  https://s3.amazonaws.com/czbiohub-maca/10x_dat...   \n",
       "10X_P1_3  https://s3.amazonaws.com/czbiohub-maca/10x_dat...   \n",
       "10X_P1_4  https://s3.amazonaws.com/czbiohub-maca/10x_dat...   \n",
       "10X_P1_5  https://s3.amazonaws.com/czbiohub-maca/10x_dat...   \n",
       "\n",
       "                                                    url.mtx  \\\n",
       "channel                                                       \n",
       "10X_P1_1  https://s3.amazonaws.com/czbiohub-maca/10x_dat...   \n",
       "10X_P1_2  https://s3.amazonaws.com/czbiohub-maca/10x_dat...   \n",
       "10X_P1_3  https://s3.amazonaws.com/czbiohub-maca/10x_dat...   \n",
       "10X_P1_4  https://s3.amazonaws.com/czbiohub-maca/10x_dat...   \n",
       "10X_P1_5  https://s3.amazonaws.com/czbiohub-maca/10x_dat...   \n",
       "\n",
       "                                                  url.genes  \\\n",
       "channel                                                       \n",
       "10X_P1_1  https://s3.amazonaws.com/czbiohub-maca/10x_dat...   \n",
       "10X_P1_2  https://s3.amazonaws.com/czbiohub-maca/10x_dat...   \n",
       "10X_P1_3  https://s3.amazonaws.com/czbiohub-maca/10x_dat...   \n",
       "10X_P1_4  https://s3.amazonaws.com/czbiohub-maca/10x_dat...   \n",
       "10X_P1_5  https://s3.amazonaws.com/czbiohub-maca/10x_dat...   \n",
       "\n",
       "                                               url.barcodes  \n",
       "channel                                                      \n",
       "10X_P1_1  https://s3.amazonaws.com/czbiohub-maca/10x_dat...  \n",
       "10X_P1_2  https://s3.amazonaws.com/czbiohub-maca/10x_dat...  \n",
       "10X_P1_3  https://s3.amazonaws.com/czbiohub-maca/10x_dat...  \n",
       "10X_P1_4  https://s3.amazonaws.com/czbiohub-maca/10x_dat...  \n",
       "10X_P1_5  https://s3.amazonaws.com/czbiohub-maca/10x_dat...  "
      ]
     },
     "execution_count": 17,
     "metadata": {},
     "output_type": "execute_result"
    }
   ],
   "source": [
    "csv = os.path.join(metadata_folder, 'MACA_10x.csv')\n",
    "tenx = pd.read_csv(csv, index_col=0)\n",
    "print(tenx.shape)\n",
    "tenx.head()"
   ]
  },
  {
   "cell_type": "code",
   "execution_count": 18,
   "metadata": {},
   "outputs": [
    {
     "data": {
      "text/plain": [
       "tissue\n",
       "Bladder           4\n",
       "Brain             9\n",
       "Colon             3\n",
       "Fat               2\n",
       "Heart             6\n",
       "Kidney           11\n",
       "Liver            11\n",
       "Lung             12\n",
       "Mammary_Gland     2\n",
       "Marrow            8\n",
       "Muscle            6\n",
       "Pancreas          3\n",
       "Spleen            9\n",
       "Thymus            1\n",
       "Tongue            5\n",
       "Trachea           2\n",
       "dtype: int64"
      ]
     },
     "execution_count": 18,
     "metadata": {},
     "output_type": "execute_result"
    }
   ],
   "source": [
    "tenx.groupby('tissue').size()"
   ]
  },
  {
   "cell_type": "code",
   "execution_count": 20,
   "metadata": {},
   "outputs": [
    {
     "data": {
      "text/plain": [
       "tissue         tissue_v2\n",
       "Bladder        Bladder       4\n",
       "Brain          Brain         9\n",
       "Colon          Colon         3\n",
       "Fat            Fat           2\n",
       "Heart          Heart         6\n",
       "Kidney         Kidney       11\n",
       "Liver          Liver        11\n",
       "Lung           Lung         12\n",
       "Mammary_Gland  Mammary       2\n",
       "Marrow         Marrow        8\n",
       "Muscle         Muscle        6\n",
       "Pancreas       Pancreas      3\n",
       "Spleen         Spleen        9\n",
       "Thymus         Thymus        1\n",
       "Tongue         Tongue        5\n",
       "Trachea        Trachea       2\n",
       "dtype: int64"
      ]
     },
     "execution_count": 20,
     "metadata": {},
     "output_type": "execute_result"
    }
   ],
   "source": [
    "tenx['tissue_v2'] = tenx['tissue'].map(lambda x: old_to_new_name[x] if x in old_to_new_name else x)\n",
    "tenx.groupby(['tissue', 'tissue_v2']).size()"
   ]
  },
  {
   "cell_type": "markdown",
   "metadata": {},
   "source": [
    "### Save the CSV!"
   ]
  },
  {
   "cell_type": "code",
   "execution_count": 21,
   "metadata": {},
   "outputs": [
    {
     "name": "stdout",
     "output_type": "stream",
     "text": [
      "../metadata/MACA_10x.csv\n"
     ]
    }
   ],
   "source": [
    "print(csv)\n",
    "tenx.to_csv(csv)"
   ]
  },
  {
   "cell_type": "markdown",
   "metadata": {},
   "source": [
    "## Rename manual annotations"
   ]
  },
  {
   "cell_type": "code",
   "execution_count": 27,
   "metadata": {},
   "outputs": [
    {
     "name": "stdout",
     "output_type": "stream",
     "text": [
      "\u001b[1m\u001b[36mAorta\u001b[m\u001b[m                \u001b[1m\u001b[36mHeart\u001b[m\u001b[m                \u001b[1m\u001b[36mPancreas\u001b[m\u001b[m\r\n",
      "\u001b[1m\u001b[36mBladder\u001b[m\u001b[m              \u001b[1m\u001b[36mKidney\u001b[m\u001b[m               \u001b[1m\u001b[36mSkin\u001b[m\u001b[m\r\n",
      "\u001b[1m\u001b[36mBrain_FACS_microglia\u001b[m\u001b[m \u001b[1m\u001b[36mLiver\u001b[m\u001b[m                \u001b[1m\u001b[36mSpleen\u001b[m\u001b[m\r\n",
      "\u001b[1m\u001b[36mBrain_FACS_neurons\u001b[m\u001b[m   \u001b[1m\u001b[36mLung\u001b[m\u001b[m                 \u001b[1m\u001b[36mThymus\u001b[m\u001b[m\r\n",
      "\u001b[1m\u001b[36mColon\u001b[m\u001b[m                \u001b[1m\u001b[36mMammary_Gland\u001b[m\u001b[m        \u001b[1m\u001b[36mTongue\u001b[m\u001b[m\r\n",
      "\u001b[1m\u001b[36mDiaphragm\u001b[m\u001b[m            \u001b[1m\u001b[36mMarrow\u001b[m\u001b[m               \u001b[1m\u001b[36mTrachea\u001b[m\u001b[m\r\n",
      "\u001b[1m\u001b[36mFat\u001b[m\u001b[m                  \u001b[1m\u001b[36mMuscle\u001b[m\u001b[m\r\n"
     ]
    }
   ],
   "source": [
    "! ls $metadata_folder/manual_annotations"
   ]
  },
  {
   "cell_type": "code",
   "execution_count": 14,
   "metadata": {},
   "outputs": [
    {
     "name": "stdout",
     "output_type": "stream",
     "text": [
      "Aorta\n",
      "Bladder\n",
      "Brain_FACS_microglia\n",
      "Brain_FACS_neurons\n",
      "Colon\n",
      "Diaphragm\n",
      "Fat\n",
      "Heart\n",
      "Kidney\n",
      "Liver\n",
      "Lung\n",
      "Mammary_Gland\n",
      "Marrow\n",
      "Muscle\n",
      "Pancreas\n",
      "Skin\n",
      "Spleen\n",
      "Thymus\n",
      "Tongue\n",
      "Trachea\n"
     ]
    }
   ],
   "source": [
    "tissue_folders = ! ls $metadata_folder/manual_annotations\n",
    "\n",
    "base_folder = os.path.join(metadata_folder, 'manual_annotations')\n",
    "\n",
    "for folder in tissue_folders:\n",
    "    print(folder)\n",
    "    if folder in old_to_new_name:\n",
    "        renamed_folder = old_to_new_name[folder]\n",
    "        ! mv $base_folder/$folder $base_folder/$renamed_folder"
   ]
  },
  {
   "cell_type": "code",
   "execution_count": 15,
   "metadata": {},
   "outputs": [
    {
     "name": "stdout",
     "output_type": "stream",
     "text": [
      "\u001b[1m\u001b[36mAorta\u001b[m\u001b[m           \u001b[1m\u001b[36mColon\u001b[m\u001b[m           \u001b[1m\u001b[36mKidney\u001b[m\u001b[m          \u001b[1m\u001b[36mMarrow\u001b[m\u001b[m          \u001b[1m\u001b[36mSpleen\u001b[m\u001b[m\r\n",
      "\u001b[1m\u001b[36mBladder\u001b[m\u001b[m         \u001b[1m\u001b[36mDiaphragm\u001b[m\u001b[m       \u001b[1m\u001b[36mLiver\u001b[m\u001b[m           \u001b[1m\u001b[36mMuscle\u001b[m\u001b[m          \u001b[1m\u001b[36mThymus\u001b[m\u001b[m\r\n",
      "\u001b[1m\u001b[36mBrain_microglia\u001b[m\u001b[m \u001b[1m\u001b[36mFat\u001b[m\u001b[m             \u001b[1m\u001b[36mLung\u001b[m\u001b[m            \u001b[1m\u001b[36mPancreas\u001b[m\u001b[m        \u001b[1m\u001b[36mTongue\u001b[m\u001b[m\r\n",
      "\u001b[1m\u001b[36mBrain_neurons\u001b[m\u001b[m   \u001b[1m\u001b[36mHeart\u001b[m\u001b[m           \u001b[1m\u001b[36mMammary\u001b[m\u001b[m         \u001b[1m\u001b[36mSkin\u001b[m\u001b[m            \u001b[1m\u001b[36mTrachea\u001b[m\u001b[m\r\n"
     ]
    }
   ],
   "source": [
    "! ls $metadata_folder/manual_annotations"
   ]
  },
  {
   "cell_type": "code",
   "execution_count": null,
   "metadata": {
    "collapsed": true
   },
   "outputs": [],
   "source": []
  }
 ],
 "metadata": {
  "kernelspec": {
   "display_name": "Python 3 (MACA)",
   "language": "python",
   "name": "maca"
  },
  "language_info": {
   "codemirror_mode": {
    "name": "ipython",
    "version": 3
   },
   "file_extension": ".py",
   "mimetype": "text/x-python",
   "name": "python",
   "nbconvert_exporter": "python",
   "pygments_lexer": "ipython3",
   "version": "3.6.1"
  }
 },
 "nbformat": 4,
 "nbformat_minor": 2
}
