{
 "cells": [
  {
   "cell_type": "code",
   "execution_count": 1,
   "metadata": {},
   "outputs": [
    {
     "name": "stderr",
     "output_type": "stream",
     "text": [
      "/Users/olgabot/anaconda3/envs/maca/lib/python3.6/site-packages/IPython/html.py:14: ShimWarning: The `IPython.html` package has been deprecated since IPython 4.0. You should import from `notebook` instead. `IPython.html.widgets` has moved to `ipywidgets`.\n",
      "  \"`IPython.html.widgets` has moved to `ipywidgets`.\", ShimWarning)\n"
     ]
    }
   ],
   "source": [
    "import pandas as pd\n",
    "import matplotlib.pyplot as plt\n",
    "import seaborn as sns\n",
    "%matplotlib inline\n",
    "\n",
    "sns.set(style='whitegrid', context='paper')"
   ]
  },
  {
   "cell_type": "code",
   "execution_count": 69,
   "metadata": {},
   "outputs": [
    {
     "name": "stdout",
     "output_type": "stream",
     "text": [
      "(94, 13)\n"
     ]
    },
    {
     "data": {
      "text/html": [
       "<div>\n",
       "<style>\n",
       "    .dataframe thead tr:only-child th {\n",
       "        text-align: right;\n",
       "    }\n",
       "\n",
       "    .dataframe thead th {\n",
       "        text-align: left;\n",
       "    }\n",
       "\n",
       "    .dataframe tbody tr th {\n",
       "        vertical-align: top;\n",
       "    }\n",
       "</style>\n",
       "<table border=\"1\" class=\"dataframe\">\n",
       "  <thead>\n",
       "    <tr style=\"text-align: right;\">\n",
       "      <th></th>\n",
       "      <th>tenx.index</th>\n",
       "      <th>mouse.id</th>\n",
       "      <th>tissue</th>\n",
       "      <th>tissue.notes</th>\n",
       "      <th>mouse.age</th>\n",
       "      <th>mouse.sex</th>\n",
       "      <th>mouse.parabiont</th>\n",
       "      <th>mouse.parabiont_pair</th>\n",
       "      <th>pool</th>\n",
       "      <th>url.csv</th>\n",
       "      <th>url.mtx</th>\n",
       "      <th>url.genes</th>\n",
       "      <th>url.barcodes</th>\n",
       "    </tr>\n",
       "    <tr>\n",
       "      <th>channel</th>\n",
       "      <th></th>\n",
       "      <th></th>\n",
       "      <th></th>\n",
       "      <th></th>\n",
       "      <th></th>\n",
       "      <th></th>\n",
       "      <th></th>\n",
       "      <th></th>\n",
       "      <th></th>\n",
       "      <th></th>\n",
       "      <th></th>\n",
       "      <th></th>\n",
       "      <th></th>\n",
       "    </tr>\n",
       "  </thead>\n",
       "  <tbody>\n",
       "    <tr>\n",
       "      <th>10X_P1_1</th>\n",
       "      <td>A3</td>\n",
       "      <td>30-M-2</td>\n",
       "      <td>Kidney</td>\n",
       "      <td>KIDNEY</td>\n",
       "      <td>30</td>\n",
       "      <td>M</td>\n",
       "      <td>False</td>\n",
       "      <td>NaN</td>\n",
       "      <td>1</td>\n",
       "      <td>https://s3.amazonaws.com/czbiohub-maca/10x_dat...</td>\n",
       "      <td>https://s3.amazonaws.com/czbiohub-maca/10x_dat...</td>\n",
       "      <td>https://s3.amazonaws.com/czbiohub-maca/10x_dat...</td>\n",
       "      <td>https://s3.amazonaws.com/czbiohub-maca/10x_dat...</td>\n",
       "    </tr>\n",
       "    <tr>\n",
       "      <th>10X_P1_2</th>\n",
       "      <td>B3</td>\n",
       "      <td>30-M-2</td>\n",
       "      <td>Spleen</td>\n",
       "      <td>SPLEEN</td>\n",
       "      <td>30</td>\n",
       "      <td>M</td>\n",
       "      <td>False</td>\n",
       "      <td>NaN</td>\n",
       "      <td>1</td>\n",
       "      <td>https://s3.amazonaws.com/czbiohub-maca/10x_dat...</td>\n",
       "      <td>https://s3.amazonaws.com/czbiohub-maca/10x_dat...</td>\n",
       "      <td>https://s3.amazonaws.com/czbiohub-maca/10x_dat...</td>\n",
       "      <td>https://s3.amazonaws.com/czbiohub-maca/10x_dat...</td>\n",
       "    </tr>\n",
       "    <tr>\n",
       "      <th>10X_P1_3</th>\n",
       "      <td>C3</td>\n",
       "      <td>30-M-2</td>\n",
       "      <td>Heart</td>\n",
       "      <td>HEART (ALL MINUS AORTA)</td>\n",
       "      <td>30</td>\n",
       "      <td>M</td>\n",
       "      <td>False</td>\n",
       "      <td>NaN</td>\n",
       "      <td>1</td>\n",
       "      <td>https://s3.amazonaws.com/czbiohub-maca/10x_dat...</td>\n",
       "      <td>https://s3.amazonaws.com/czbiohub-maca/10x_dat...</td>\n",
       "      <td>https://s3.amazonaws.com/czbiohub-maca/10x_dat...</td>\n",
       "      <td>https://s3.amazonaws.com/czbiohub-maca/10x_dat...</td>\n",
       "    </tr>\n",
       "    <tr>\n",
       "      <th>10X_P1_4</th>\n",
       "      <td>D3</td>\n",
       "      <td>30-M-2</td>\n",
       "      <td>Heart</td>\n",
       "      <td>HEART (LV+RV ONLY)</td>\n",
       "      <td>30</td>\n",
       "      <td>M</td>\n",
       "      <td>False</td>\n",
       "      <td>NaN</td>\n",
       "      <td>1</td>\n",
       "      <td>https://s3.amazonaws.com/czbiohub-maca/10x_dat...</td>\n",
       "      <td>https://s3.amazonaws.com/czbiohub-maca/10x_dat...</td>\n",
       "      <td>https://s3.amazonaws.com/czbiohub-maca/10x_dat...</td>\n",
       "      <td>https://s3.amazonaws.com/czbiohub-maca/10x_dat...</td>\n",
       "    </tr>\n",
       "    <tr>\n",
       "      <th>10X_P1_5</th>\n",
       "      <td>E3</td>\n",
       "      <td>30-M-2</td>\n",
       "      <td>Marrow</td>\n",
       "      <td>BM (NON-STC)</td>\n",
       "      <td>30</td>\n",
       "      <td>M</td>\n",
       "      <td>False</td>\n",
       "      <td>NaN</td>\n",
       "      <td>1</td>\n",
       "      <td>https://s3.amazonaws.com/czbiohub-maca/10x_dat...</td>\n",
       "      <td>https://s3.amazonaws.com/czbiohub-maca/10x_dat...</td>\n",
       "      <td>https://s3.amazonaws.com/czbiohub-maca/10x_dat...</td>\n",
       "      <td>https://s3.amazonaws.com/czbiohub-maca/10x_dat...</td>\n",
       "    </tr>\n",
       "  </tbody>\n",
       "</table>\n",
       "</div>"
      ],
      "text/plain": [
       "         tenx.index mouse.id  tissue             tissue.notes  mouse.age  \\\n",
       "channel                                                                    \n",
       "10X_P1_1         A3   30-M-2  Kidney                   KIDNEY         30   \n",
       "10X_P1_2         B3   30-M-2  Spleen                   SPLEEN         30   \n",
       "10X_P1_3         C3   30-M-2   Heart  HEART (ALL MINUS AORTA)         30   \n",
       "10X_P1_4         D3   30-M-2   Heart       HEART (LV+RV ONLY)         30   \n",
       "10X_P1_5         E3   30-M-2  Marrow             BM (NON-STC)         30   \n",
       "\n",
       "         mouse.sex  mouse.parabiont mouse.parabiont_pair  pool  \\\n",
       "channel                                                          \n",
       "10X_P1_1         M            False                  NaN     1   \n",
       "10X_P1_2         M            False                  NaN     1   \n",
       "10X_P1_3         M            False                  NaN     1   \n",
       "10X_P1_4         M            False                  NaN     1   \n",
       "10X_P1_5         M            False                  NaN     1   \n",
       "\n",
       "                                                    url.csv  \\\n",
       "channel                                                       \n",
       "10X_P1_1  https://s3.amazonaws.com/czbiohub-maca/10x_dat...   \n",
       "10X_P1_2  https://s3.amazonaws.com/czbiohub-maca/10x_dat...   \n",
       "10X_P1_3  https://s3.amazonaws.com/czbiohub-maca/10x_dat...   \n",
       "10X_P1_4  https://s3.amazonaws.com/czbiohub-maca/10x_dat...   \n",
       "10X_P1_5  https://s3.amazonaws.com/czbiohub-maca/10x_dat...   \n",
       "\n",
       "                                                    url.mtx  \\\n",
       "channel                                                       \n",
       "10X_P1_1  https://s3.amazonaws.com/czbiohub-maca/10x_dat...   \n",
       "10X_P1_2  https://s3.amazonaws.com/czbiohub-maca/10x_dat...   \n",
       "10X_P1_3  https://s3.amazonaws.com/czbiohub-maca/10x_dat...   \n",
       "10X_P1_4  https://s3.amazonaws.com/czbiohub-maca/10x_dat...   \n",
       "10X_P1_5  https://s3.amazonaws.com/czbiohub-maca/10x_dat...   \n",
       "\n",
       "                                                  url.genes  \\\n",
       "channel                                                       \n",
       "10X_P1_1  https://s3.amazonaws.com/czbiohub-maca/10x_dat...   \n",
       "10X_P1_2  https://s3.amazonaws.com/czbiohub-maca/10x_dat...   \n",
       "10X_P1_3  https://s3.amazonaws.com/czbiohub-maca/10x_dat...   \n",
       "10X_P1_4  https://s3.amazonaws.com/czbiohub-maca/10x_dat...   \n",
       "10X_P1_5  https://s3.amazonaws.com/czbiohub-maca/10x_dat...   \n",
       "\n",
       "                                               url.barcodes  \n",
       "channel                                                      \n",
       "10X_P1_1  https://s3.amazonaws.com/czbiohub-maca/10x_dat...  \n",
       "10X_P1_2  https://s3.amazonaws.com/czbiohub-maca/10x_dat...  \n",
       "10X_P1_3  https://s3.amazonaws.com/czbiohub-maca/10x_dat...  \n",
       "10X_P1_4  https://s3.amazonaws.com/czbiohub-maca/10x_dat...  \n",
       "10X_P1_5  https://s3.amazonaws.com/czbiohub-maca/10x_dat...  "
      ]
     },
     "execution_count": 69,
     "metadata": {},
     "output_type": "execute_result"
    }
   ],
   "source": [
    "tenx_metadata = pd.read_csv('/Users/olgabot/code/maca/metadata/MACA_10x.csv', index_col=0)\n",
    "print(tenx_metadata.shape)\n",
    "tenx_metadata.head()"
   ]
  },
  {
   "cell_type": "code",
   "execution_count": 111,
   "metadata": {
    "collapsed": true
   },
   "outputs": [],
   "source": [
    "tenx_metadata = tenx_metadata.replace(\"Mammary\", 'Mammary_Gland')"
   ]
  },
  {
   "cell_type": "code",
   "execution_count": 112,
   "metadata": {},
   "outputs": [
    {
     "name": "stdout",
     "output_type": "stream",
     "text": [
      "(28, 13)\n"
     ]
    },
    {
     "data": {
      "text/html": [
       "<div>\n",
       "<style>\n",
       "    .dataframe thead tr:only-child th {\n",
       "        text-align: right;\n",
       "    }\n",
       "\n",
       "    .dataframe thead th {\n",
       "        text-align: left;\n",
       "    }\n",
       "\n",
       "    .dataframe tbody tr th {\n",
       "        vertical-align: top;\n",
       "    }\n",
       "</style>\n",
       "<table border=\"1\" class=\"dataframe\">\n",
       "  <thead>\n",
       "    <tr style=\"text-align: right;\">\n",
       "      <th></th>\n",
       "      <th>tenx.index</th>\n",
       "      <th>mouse.id</th>\n",
       "      <th>tissue</th>\n",
       "      <th>tissue.notes</th>\n",
       "      <th>mouse.age</th>\n",
       "      <th>mouse.sex</th>\n",
       "      <th>mouse.parabiont</th>\n",
       "      <th>mouse.parabiont_pair</th>\n",
       "      <th>pool</th>\n",
       "      <th>url.csv</th>\n",
       "      <th>url.mtx</th>\n",
       "      <th>url.genes</th>\n",
       "      <th>url.barcodes</th>\n",
       "    </tr>\n",
       "    <tr>\n",
       "      <th>channel</th>\n",
       "      <th></th>\n",
       "      <th></th>\n",
       "      <th></th>\n",
       "      <th></th>\n",
       "      <th></th>\n",
       "      <th></th>\n",
       "      <th></th>\n",
       "      <th></th>\n",
       "      <th></th>\n",
       "      <th></th>\n",
       "      <th></th>\n",
       "      <th></th>\n",
       "      <th></th>\n",
       "    </tr>\n",
       "  </thead>\n",
       "  <tbody>\n",
       "    <tr>\n",
       "      <th>10X_P4_0</th>\n",
       "      <td>A8</td>\n",
       "      <td>3-M-8</td>\n",
       "      <td>Tongue</td>\n",
       "      <td>TONGUE</td>\n",
       "      <td>3</td>\n",
       "      <td>M</td>\n",
       "      <td>False</td>\n",
       "      <td>NaN</td>\n",
       "      <td>4</td>\n",
       "      <td>https://s3.amazonaws.com/czbiohub-maca/10x_dat...</td>\n",
       "      <td>https://s3.amazonaws.com/czbiohub-maca/10x_dat...</td>\n",
       "      <td>https://s3.amazonaws.com/czbiohub-maca/10x_dat...</td>\n",
       "      <td>https://s3.amazonaws.com/czbiohub-maca/10x_dat...</td>\n",
       "    </tr>\n",
       "    <tr>\n",
       "      <th>10X_P4_1</th>\n",
       "      <td>B8</td>\n",
       "      <td>3-M-9</td>\n",
       "      <td>Tongue</td>\n",
       "      <td>TONGUE</td>\n",
       "      <td>3</td>\n",
       "      <td>M</td>\n",
       "      <td>False</td>\n",
       "      <td>NaN</td>\n",
       "      <td>4</td>\n",
       "      <td>https://s3.amazonaws.com/czbiohub-maca/10x_dat...</td>\n",
       "      <td>https://s3.amazonaws.com/czbiohub-maca/10x_dat...</td>\n",
       "      <td>https://s3.amazonaws.com/czbiohub-maca/10x_dat...</td>\n",
       "      <td>https://s3.amazonaws.com/czbiohub-maca/10x_dat...</td>\n",
       "    </tr>\n",
       "    <tr>\n",
       "      <th>10X_P4_2</th>\n",
       "      <td>C8</td>\n",
       "      <td>3-M-8/9</td>\n",
       "      <td>Liver</td>\n",
       "      <td>HEPATOCYTES</td>\n",
       "      <td>3</td>\n",
       "      <td>M</td>\n",
       "      <td>False</td>\n",
       "      <td>NaN</td>\n",
       "      <td>4</td>\n",
       "      <td>https://s3.amazonaws.com/czbiohub-maca/10x_dat...</td>\n",
       "      <td>https://s3.amazonaws.com/czbiohub-maca/10x_dat...</td>\n",
       "      <td>https://s3.amazonaws.com/czbiohub-maca/10x_dat...</td>\n",
       "      <td>https://s3.amazonaws.com/czbiohub-maca/10x_dat...</td>\n",
       "    </tr>\n",
       "    <tr>\n",
       "      <th>10X_P4_3</th>\n",
       "      <td>D8</td>\n",
       "      <td>3-M-8</td>\n",
       "      <td>Bladder</td>\n",
       "      <td>BLADDER</td>\n",
       "      <td>3</td>\n",
       "      <td>M</td>\n",
       "      <td>False</td>\n",
       "      <td>NaN</td>\n",
       "      <td>4</td>\n",
       "      <td>https://s3.amazonaws.com/czbiohub-maca/10x_dat...</td>\n",
       "      <td>https://s3.amazonaws.com/czbiohub-maca/10x_dat...</td>\n",
       "      <td>https://s3.amazonaws.com/czbiohub-maca/10x_dat...</td>\n",
       "      <td>https://s3.amazonaws.com/czbiohub-maca/10x_dat...</td>\n",
       "    </tr>\n",
       "    <tr>\n",
       "      <th>10X_P4_4</th>\n",
       "      <td>E8</td>\n",
       "      <td>3-M-9</td>\n",
       "      <td>Bladder</td>\n",
       "      <td>BLADDER</td>\n",
       "      <td>3</td>\n",
       "      <td>M</td>\n",
       "      <td>False</td>\n",
       "      <td>NaN</td>\n",
       "      <td>4</td>\n",
       "      <td>https://s3.amazonaws.com/czbiohub-maca/10x_dat...</td>\n",
       "      <td>https://s3.amazonaws.com/czbiohub-maca/10x_dat...</td>\n",
       "      <td>https://s3.amazonaws.com/czbiohub-maca/10x_dat...</td>\n",
       "      <td>https://s3.amazonaws.com/czbiohub-maca/10x_dat...</td>\n",
       "    </tr>\n",
       "  </tbody>\n",
       "</table>\n",
       "</div>"
      ],
      "text/plain": [
       "         tenx.index mouse.id   tissue tissue.notes  mouse.age mouse.sex  \\\n",
       "channel                                                                   \n",
       "10X_P4_0         A8    3-M-8   Tongue       TONGUE          3         M   \n",
       "10X_P4_1         B8    3-M-9   Tongue       TONGUE          3         M   \n",
       "10X_P4_2         C8  3-M-8/9    Liver  HEPATOCYTES          3         M   \n",
       "10X_P4_3         D8    3-M-8  Bladder      BLADDER          3         M   \n",
       "10X_P4_4         E8    3-M-9  Bladder      BLADDER          3         M   \n",
       "\n",
       "          mouse.parabiont mouse.parabiont_pair  pool  \\\n",
       "channel                                                \n",
       "10X_P4_0            False                  NaN     4   \n",
       "10X_P4_1            False                  NaN     4   \n",
       "10X_P4_2            False                  NaN     4   \n",
       "10X_P4_3            False                  NaN     4   \n",
       "10X_P4_4            False                  NaN     4   \n",
       "\n",
       "                                                    url.csv  \\\n",
       "channel                                                       \n",
       "10X_P4_0  https://s3.amazonaws.com/czbiohub-maca/10x_dat...   \n",
       "10X_P4_1  https://s3.amazonaws.com/czbiohub-maca/10x_dat...   \n",
       "10X_P4_2  https://s3.amazonaws.com/czbiohub-maca/10x_dat...   \n",
       "10X_P4_3  https://s3.amazonaws.com/czbiohub-maca/10x_dat...   \n",
       "10X_P4_4  https://s3.amazonaws.com/czbiohub-maca/10x_dat...   \n",
       "\n",
       "                                                    url.mtx  \\\n",
       "channel                                                       \n",
       "10X_P4_0  https://s3.amazonaws.com/czbiohub-maca/10x_dat...   \n",
       "10X_P4_1  https://s3.amazonaws.com/czbiohub-maca/10x_dat...   \n",
       "10X_P4_2  https://s3.amazonaws.com/czbiohub-maca/10x_dat...   \n",
       "10X_P4_3  https://s3.amazonaws.com/czbiohub-maca/10x_dat...   \n",
       "10X_P4_4  https://s3.amazonaws.com/czbiohub-maca/10x_dat...   \n",
       "\n",
       "                                                  url.genes  \\\n",
       "channel                                                       \n",
       "10X_P4_0  https://s3.amazonaws.com/czbiohub-maca/10x_dat...   \n",
       "10X_P4_1  https://s3.amazonaws.com/czbiohub-maca/10x_dat...   \n",
       "10X_P4_2  https://s3.amazonaws.com/czbiohub-maca/10x_dat...   \n",
       "10X_P4_3  https://s3.amazonaws.com/czbiohub-maca/10x_dat...   \n",
       "10X_P4_4  https://s3.amazonaws.com/czbiohub-maca/10x_dat...   \n",
       "\n",
       "                                               url.barcodes  \n",
       "channel                                                      \n",
       "10X_P4_0  https://s3.amazonaws.com/czbiohub-maca/10x_dat...  \n",
       "10X_P4_1  https://s3.amazonaws.com/czbiohub-maca/10x_dat...  \n",
       "10X_P4_2  https://s3.amazonaws.com/czbiohub-maca/10x_dat...  \n",
       "10X_P4_3  https://s3.amazonaws.com/czbiohub-maca/10x_dat...  \n",
       "10X_P4_4  https://s3.amazonaws.com/czbiohub-maca/10x_dat...  "
      ]
     },
     "execution_count": 112,
     "metadata": {},
     "output_type": "execute_result"
    }
   ],
   "source": [
    "tenx_metadata_3month = tenx_metadata.loc[tenx_metadata['mouse.age'] == 3]\n",
    "print(tenx_metadata_3month.shape)\n",
    "tenx_metadata_3month.head()"
   ]
  },
  {
   "cell_type": "code",
   "execution_count": 113,
   "metadata": {},
   "outputs": [
    {
     "data": {
      "text/plain": [
       "tissue\n",
       "Bladder          3\n",
       "Heart            1\n",
       "Kidney           3\n",
       "Liver            3\n",
       "Lung             4\n",
       "Mammary_Gland    2\n",
       "Marrow           2\n",
       "Muscle           2\n",
       "Spleen           2\n",
       "Thymus           1\n",
       "Tongue           3\n",
       "Trachea          2\n",
       "dtype: int64"
      ]
     },
     "execution_count": 113,
     "metadata": {},
     "output_type": "execute_result"
    }
   ],
   "source": [
    "tissue_n_channels = tenx_metadata_3month.groupby('tissue').size()\n",
    "tissue_n_channels"
   ]
  },
  {
   "cell_type": "code",
   "execution_count": 114,
   "metadata": {
    "collapsed": true
   },
   "outputs": [],
   "source": [
    "tissues = tissue_n_channels.index"
   ]
  },
  {
   "cell_type": "code",
   "execution_count": 115,
   "metadata": {},
   "outputs": [
    {
     "data": {
      "text/plain": [
       "12"
      ]
     },
     "execution_count": 115,
     "metadata": {},
     "output_type": "execute_result"
    }
   ],
   "source": [
    "len(tissue_n_channels)"
   ]
  },
  {
   "cell_type": "code",
   "execution_count": 116,
   "metadata": {},
   "outputs": [
    {
     "name": "stdout",
     "output_type": "stream",
     "text": [
      "(11756, 4)\n"
     ]
    },
    {
     "data": {
      "text/html": [
       "<div>\n",
       "<style>\n",
       "    .dataframe thead tr:only-child th {\n",
       "        text-align: right;\n",
       "    }\n",
       "\n",
       "    .dataframe thead th {\n",
       "        text-align: left;\n",
       "    }\n",
       "\n",
       "    .dataframe tbody tr th {\n",
       "        vertical-align: top;\n",
       "    }\n",
       "</style>\n",
       "<table border=\"1\" class=\"dataframe\">\n",
       "  <thead>\n",
       "    <tr style=\"text-align: right;\">\n",
       "      <th></th>\n",
       "      <th>annotation</th>\n",
       "      <th>subannotation</th>\n",
       "      <th>tissue</th>\n",
       "      <th>annotation_subannotation</th>\n",
       "    </tr>\n",
       "  </thead>\n",
       "  <tbody>\n",
       "    <tr>\n",
       "      <th>10X_P4_3_AAAGTAGAGATGCCAG</th>\n",
       "      <td>mesenchymal_cells</td>\n",
       "      <td>b</td>\n",
       "      <td>Bladder</td>\n",
       "      <td>mesenchymal_cells: b</td>\n",
       "    </tr>\n",
       "    <tr>\n",
       "      <th>10X_P4_3_AACCGCGTCCAACCAA</th>\n",
       "      <td>mesenchymal_cells</td>\n",
       "      <td>a</td>\n",
       "      <td>Bladder</td>\n",
       "      <td>mesenchymal_cells: a</td>\n",
       "    </tr>\n",
       "    <tr>\n",
       "      <th>10X_P4_3_AACTCCCGTCGGGTCT</th>\n",
       "      <td>mesenchymal_cells</td>\n",
       "      <td>a</td>\n",
       "      <td>Bladder</td>\n",
       "      <td>mesenchymal_cells: a</td>\n",
       "    </tr>\n",
       "    <tr>\n",
       "      <th>10X_P4_3_AACTCTTAGTTGCAGG</th>\n",
       "      <td>luminal_cells</td>\n",
       "      <td>a</td>\n",
       "      <td>Bladder</td>\n",
       "      <td>luminal_cells: a</td>\n",
       "    </tr>\n",
       "    <tr>\n",
       "      <th>10X_P4_3_AACTCTTTCATAACCG</th>\n",
       "      <td>mesenchymal_cells</td>\n",
       "      <td>a</td>\n",
       "      <td>Bladder</td>\n",
       "      <td>mesenchymal_cells: a</td>\n",
       "    </tr>\n",
       "  </tbody>\n",
       "</table>\n",
       "</div>"
      ],
      "text/plain": [
       "                                  annotation subannotation   tissue  \\\n",
       "10X_P4_3_AAAGTAGAGATGCCAG  mesenchymal_cells             b  Bladder   \n",
       "10X_P4_3_AACCGCGTCCAACCAA  mesenchymal_cells             a  Bladder   \n",
       "10X_P4_3_AACTCCCGTCGGGTCT  mesenchymal_cells             a  Bladder   \n",
       "10X_P4_3_AACTCTTAGTTGCAGG      luminal_cells             a  Bladder   \n",
       "10X_P4_3_AACTCTTTCATAACCG  mesenchymal_cells             a  Bladder   \n",
       "\n",
       "                          annotation_subannotation  \n",
       "10X_P4_3_AAAGTAGAGATGCCAG     mesenchymal_cells: b  \n",
       "10X_P4_3_AACCGCGTCCAACCAA     mesenchymal_cells: a  \n",
       "10X_P4_3_AACTCCCGTCGGGTCT     mesenchymal_cells: a  \n",
       "10X_P4_3_AACTCTTAGTTGCAGG         luminal_cells: a  \n",
       "10X_P4_3_AACTCTTTCATAACCG     mesenchymal_cells: a  "
      ]
     },
     "execution_count": 116,
     "metadata": {},
     "output_type": "execute_result"
    }
   ],
   "source": [
    "cell_annotations = pd.read_csv('/Users/olgabot/code/maca/metadata/maca_3month_combined_cell_annotations_10x.csv', \n",
    "                               index_col=0)\n",
    "print(cell_annotations.shape)\n",
    "cell_annotations.head()"
   ]
  },
  {
   "cell_type": "code",
   "execution_count": 117,
   "metadata": {},
   "outputs": [
    {
     "name": "stdout",
     "output_type": "stream",
     "text": [
      "figure1_folder: \"/Users/olgabot/googledrive/MACA_3mo_manuscript/Main figures/figure1/10x\"\n",
      "figure2_folder: \"/Users/olgabot/googledrive/MACA_3mo_manuscript/Main figures/figure2/10x\"\n"
     ]
    }
   ],
   "source": [
    "figure_folder = '/Users/olgabot/googledrive/MACA_3mo_manuscript/Main figures'\n",
    "\n",
    "figure1_folder = f'{figure_folder}/figure1/10x'\n",
    "figure2_folder = f'{figure_folder}/figure2/10x'\n",
    "\n",
    "print(f'figure1_folder: \"{figure1_folder}\"')\n",
    "print(f'figure2_folder: \"{figure2_folder}\"')\n",
    "\n",
    "! mkdir -p \"$figure1_folder\"\n",
    "! mkdir -p \"$figure2_folder\""
   ]
  },
  {
   "cell_type": "code",
   "execution_count": 118,
   "metadata": {
    "collapsed": true
   },
   "outputs": [],
   "source": [
    "folder = '/Users/olgabot/code/maca/metadata/number_of_cells_reads_genes_10x/'"
   ]
  },
  {
   "cell_type": "code",
   "execution_count": 119,
   "metadata": {},
   "outputs": [
    {
     "name": "stdout",
     "output_type": "stream",
     "text": [
      "/Users/olgabot/code/maca/metadata/number_of_cells_reads_genes_10x//Bladder_nreads_ngenes.csv\r\n",
      "/Users/olgabot/code/maca/metadata/number_of_cells_reads_genes_10x//Heart_nreads_ngenes.csv\r\n",
      "/Users/olgabot/code/maca/metadata/number_of_cells_reads_genes_10x//Kidney_nreads_ngenes.csv\r\n",
      "/Users/olgabot/code/maca/metadata/number_of_cells_reads_genes_10x//Liver_nreads_ngenes.csv\r\n",
      "/Users/olgabot/code/maca/metadata/number_of_cells_reads_genes_10x//Lung_nreads_ngenes.csv\r\n",
      "/Users/olgabot/code/maca/metadata/number_of_cells_reads_genes_10x//Mammary_Gland_nreads_ngenes.csv\r\n",
      "/Users/olgabot/code/maca/metadata/number_of_cells_reads_genes_10x//Marrow_nreads_ngenes.csv\r\n",
      "/Users/olgabot/code/maca/metadata/number_of_cells_reads_genes_10x//Muscle_nreads_ngenes.csv\r\n",
      "/Users/olgabot/code/maca/metadata/number_of_cells_reads_genes_10x//Spleen_nreads_ngenes.csv\r\n",
      "/Users/olgabot/code/maca/metadata/number_of_cells_reads_genes_10x//Thymus_nreads_ngenes.csv\r\n",
      "/Users/olgabot/code/maca/metadata/number_of_cells_reads_genes_10x//Trachea_nreads_ngenes.csv\r\n"
     ]
    }
   ],
   "source": [
    "ls $folder/*_nreads_ngenes.csv"
   ]
  },
  {
   "cell_type": "code",
   "execution_count": 120,
   "metadata": {
    "collapsed": true
   },
   "outputs": [],
   "source": [
    "import hermione as hm"
   ]
  },
  {
   "cell_type": "code",
   "execution_count": 121,
   "metadata": {},
   "outputs": [
    {
     "name": "stdout",
     "output_type": "stream",
     "text": [
      "==> /Users/olgabot/code/maca/metadata/number_of_cells_reads_genes_10x//Bladder_cell_numbers.csv <==\r\n",
      "\"\",\"Bladder\"\r\n",
      "\"n_genes\",14749\r\n",
      "\"n_cells_pass_qc\",2500\r\n",
      "\"n_cells_sequenced\",2500\r\n",
      "\r\n",
      "==> /Users/olgabot/code/maca/metadata/number_of_cells_reads_genes_10x//Bladder_nreads_ngenes.csv <==\r\n",
      "\"\",\"nGene\",\"nUMI\",\"orig.ident\"\r\n",
      "\"10X_P4_3_AAAGTAGAGATGCCAG\",2853,10291,\"10X\"\r\n",
      "\"10X_P4_3_AACCGCGTCCAACCAA\",4194,17520,\"10X\"\r\n",
      "\"10X_P4_3_AACTCCCGTCGGGTCT\",3347,12944,\"10X\"\r\n",
      "\"10X_P4_3_AACTCTTAGTTGCAGG\",3851,19594,\"10X\"\r\n",
      "\"10X_P4_3_AACTCTTTCATAACCG\",3809,14594,\"10X\"\r\n",
      "\"10X_P4_3_AAGACCTAGATCCGAG\",3608,19190,\"10X\"\r\n",
      "\"10X_P4_3_AAGACCTAGGTGGGTT\",4347,24484,\"10X\"\r\n",
      "\"10X_P4_3_AAGGAGCGTGCAACTT\",1960,5005,\"10X\"\r\n",
      "\"10X_P4_3_AAGTCTGAGATAGTCA\",2236,6253,\"10X\"\r\n"
     ]
    }
   ],
   "source": [
    "! head $folder/Bladder*"
   ]
  },
  {
   "cell_type": "code",
   "execution_count": 122,
   "metadata": {},
   "outputs": [
    {
     "name": "stdout",
     "output_type": "stream",
     "text": [
      "(43991, 4)\n",
      "number of tissues:  11\n"
     ]
    },
    {
     "data": {
      "text/html": [
       "<div>\n",
       "<style>\n",
       "    .dataframe thead tr:only-child th {\n",
       "        text-align: right;\n",
       "    }\n",
       "\n",
       "    .dataframe thead th {\n",
       "        text-align: left;\n",
       "    }\n",
       "\n",
       "    .dataframe tbody tr th {\n",
       "        vertical-align: top;\n",
       "    }\n",
       "</style>\n",
       "<table border=\"1\" class=\"dataframe\">\n",
       "  <thead>\n",
       "    <tr style=\"text-align: right;\">\n",
       "      <th></th>\n",
       "      <th>nGene</th>\n",
       "      <th>nUMI</th>\n",
       "      <th>orig.ident</th>\n",
       "      <th>tissue</th>\n",
       "    </tr>\n",
       "  </thead>\n",
       "  <tbody>\n",
       "    <tr>\n",
       "      <th>10X_P4_3_AAAGTAGAGATGCCAG</th>\n",
       "      <td>2853</td>\n",
       "      <td>10291</td>\n",
       "      <td>10X</td>\n",
       "      <td>Bladder</td>\n",
       "    </tr>\n",
       "    <tr>\n",
       "      <th>10X_P4_3_AACCGCGTCCAACCAA</th>\n",
       "      <td>4194</td>\n",
       "      <td>17520</td>\n",
       "      <td>10X</td>\n",
       "      <td>Bladder</td>\n",
       "    </tr>\n",
       "    <tr>\n",
       "      <th>10X_P4_3_AACTCCCGTCGGGTCT</th>\n",
       "      <td>3347</td>\n",
       "      <td>12944</td>\n",
       "      <td>10X</td>\n",
       "      <td>Bladder</td>\n",
       "    </tr>\n",
       "    <tr>\n",
       "      <th>10X_P4_3_AACTCTTAGTTGCAGG</th>\n",
       "      <td>3851</td>\n",
       "      <td>19594</td>\n",
       "      <td>10X</td>\n",
       "      <td>Bladder</td>\n",
       "    </tr>\n",
       "    <tr>\n",
       "      <th>10X_P4_3_AACTCTTTCATAACCG</th>\n",
       "      <td>3809</td>\n",
       "      <td>14594</td>\n",
       "      <td>10X</td>\n",
       "      <td>Bladder</td>\n",
       "    </tr>\n",
       "  </tbody>\n",
       "</table>\n",
       "</div>"
      ],
      "text/plain": [
       "                           nGene   nUMI orig.ident   tissue\n",
       "10X_P4_3_AAAGTAGAGATGCCAG   2853  10291        10X  Bladder\n",
       "10X_P4_3_AACCGCGTCCAACCAA   4194  17520        10X  Bladder\n",
       "10X_P4_3_AACTCCCGTCGGGTCT   3347  12944        10X  Bladder\n",
       "10X_P4_3_AACTCTTAGTTGCAGG   3851  19594        10X  Bladder\n",
       "10X_P4_3_AACTCTTTCATAACCG   3809  14594        10X  Bladder"
      ]
     },
     "execution_count": 122,
     "metadata": {},
     "output_type": "execute_result"
    }
   ],
   "source": [
    "import glob\n",
    "import os \n",
    " \n",
    "globber = f'{folder}/*_nreads_ngenes.csv'\n",
    "\n",
    "dfs = []\n",
    "\n",
    "for filename in glob.iglob(globber):\n",
    "    df = pd.read_csv(filename, index_col=0)\n",
    "    df['tissue'] = os.path.basename(filename).split('_nreads_ngenes.csv')[0]\n",
    "    dfs.append(df)\n",
    "nreads_ngenes = pd.concat(dfs)\n",
    "print(nreads_ngenes.shape)\n",
    "print('number of tissues: ', len(nreads_ngenes.groupby('tissue')))\n",
    "nreads_ngenes.head()"
   ]
  },
  {
   "cell_type": "code",
   "execution_count": 123,
   "metadata": {
    "collapsed": true
   },
   "outputs": [],
   "source": [
    "import numpy as np"
   ]
  },
  {
   "cell_type": "code",
   "execution_count": 124,
   "metadata": {},
   "outputs": [],
   "source": [
    "nreads_ngenes['log10_nUMI'] = np.log10(nreads_ngenes['nUMI'])"
   ]
  },
  {
   "cell_type": "code",
   "execution_count": 125,
   "metadata": {},
   "outputs": [
    {
     "data": {
      "text/plain": [
       "Aorta                   #1f77b4\n",
       "Bladder                 #aec7e8\n",
       "Brain_FACS_microglia    #ff7f0e\n",
       "Brain_FACS_neurons      #ffbb78\n",
       "Colon                   #2ca02c\n",
       "Diaphragm               #98df8a\n",
       "Fat                     #d62728\n",
       "Heart                   #ff9896\n",
       "Kidney                  #9467bd\n",
       "Liver                   #c5b0d5\n",
       "Lung                    #8c564b\n",
       "Mammary_Gland           #c49c94\n",
       "Marrow                  #e377c2\n",
       "Muscle                  #f7b6d2\n",
       "Pancreas                #7f7f7f\n",
       "Skin                    #c7c7c7\n",
       "Spleen                  #bcbd22\n",
       "Thymus                  #dbdb8d\n",
       "Tongue                  #17becf\n",
       "Trachea                 #9edae5\n",
       "Name: color, dtype: object"
      ]
     },
     "execution_count": 125,
     "metadata": {},
     "output_type": "execute_result"
    }
   ],
   "source": [
    "colors = pd.read_csv('/Users/olgabot/code/maca/metadata/tissue_colors.csv', index_col=0, squeeze=True)\n",
    "colors"
   ]
  },
  {
   "cell_type": "code",
   "execution_count": 126,
   "metadata": {},
   "outputs": [
    {
     "data": {
      "text/plain": [
       "Index(['Bladder', 'Heart', 'Kidney', 'Liver', 'Lung', 'Mammary_Gland',\n",
       "       'Marrow', 'Muscle', 'Spleen', 'Thymus', 'Tongue', 'Trachea'],\n",
       "      dtype='object', name='tissue')"
      ]
     },
     "execution_count": 126,
     "metadata": {},
     "output_type": "execute_result"
    }
   ],
   "source": [
    "# tissues = sorted(nreads_ngenes['tissue'].unique())\n",
    "tissues"
   ]
  },
  {
   "cell_type": "code",
   "execution_count": 127,
   "metadata": {
    "collapsed": true
   },
   "outputs": [],
   "source": [
    "kwargs = dict(data=nreads_ngenes, row='tissue', \n",
    "               row_order=tissues, palette=colors, xlabel_suffix='')"
   ]
  },
  {
   "cell_type": "code",
   "execution_count": 128,
   "metadata": {},
   "outputs": [
    {
     "data": {
      "image/png": "[encoded data removed]",
      "text/plain": [
       "<matplotlib.figure.Figure at 0x11cb8ffd0>"
      ]
     },
     "metadata": {},
     "output_type": "display_data"
    }
   ],
   "source": [
    "g = hm.horizonplot(x='nGene', **kwargs)\n",
    "g.set_xlabels('Genes per cell')\n",
    "g.savefig(f'{figure1_folder}/horizonplot_genes_per_cell.pdf')"
   ]
  },
  {
   "cell_type": "code",
   "execution_count": 129,
   "metadata": {
    "collapsed": true
   },
   "outputs": [],
   "source": [
    "# hm.horizonplot(x='nReads', **kwargs)"
   ]
  },
  {
   "cell_type": "code",
   "execution_count": 130,
   "metadata": {},
   "outputs": [
    {
     "data": {
      "image/png": "[encoded data removed]",
      "text/plain": [
       "<matplotlib.figure.Figure at 0x11cf4c400>"
      ]
     },
     "metadata": {},
     "output_type": "display_data"
    }
   ],
   "source": [
    "g = hm.horizonplot(x='log10_nUMI', **kwargs)\n",
    "g.set_xlabels('log10(UMI per cell)')\n",
    "g.savefig(f'{figure1_folder}/horizonplot_log10_UMI_per_cell.pdf')"
   ]
  },
  {
   "cell_type": "code",
   "execution_count": 131,
   "metadata": {},
   "outputs": [
    {
     "data": {
      "text/html": [
       "<div>\n",
       "<style>\n",
       "    .dataframe thead tr:only-child th {\n",
       "        text-align: right;\n",
       "    }\n",
       "\n",
       "    .dataframe thead th {\n",
       "        text-align: left;\n",
       "    }\n",
       "\n",
       "    .dataframe tbody tr th {\n",
       "        vertical-align: top;\n",
       "    }\n",
       "</style>\n",
       "<table border=\"1\" class=\"dataframe\">\n",
       "  <thead>\n",
       "    <tr style=\"text-align: right;\">\n",
       "      <th></th>\n",
       "      <th>tissue</th>\n",
       "      <th>n_cells</th>\n",
       "    </tr>\n",
       "  </thead>\n",
       "  <tbody>\n",
       "    <tr>\n",
       "      <th>0</th>\n",
       "      <td>Bladder</td>\n",
       "      <td>2500</td>\n",
       "    </tr>\n",
       "    <tr>\n",
       "      <th>1</th>\n",
       "      <td>Heart</td>\n",
       "      <td>624</td>\n",
       "    </tr>\n",
       "    <tr>\n",
       "      <th>2</th>\n",
       "      <td>Kidney</td>\n",
       "      <td>2781</td>\n",
       "    </tr>\n",
       "    <tr>\n",
       "      <th>3</th>\n",
       "      <td>Liver</td>\n",
       "      <td>1026</td>\n",
       "    </tr>\n",
       "    <tr>\n",
       "      <th>4</th>\n",
       "      <td>Lung</td>\n",
       "      <td>2141</td>\n",
       "    </tr>\n",
       "    <tr>\n",
       "      <th>5</th>\n",
       "      <td>Mammary_Gland</td>\n",
       "      <td>4481</td>\n",
       "    </tr>\n",
       "    <tr>\n",
       "      <th>6</th>\n",
       "      <td>Marrow</td>\n",
       "      <td>3652</td>\n",
       "    </tr>\n",
       "    <tr>\n",
       "      <th>7</th>\n",
       "      <td>Muscle</td>\n",
       "      <td>4536</td>\n",
       "    </tr>\n",
       "    <tr>\n",
       "      <th>8</th>\n",
       "      <td>Spleen</td>\n",
       "      <td>9552</td>\n",
       "    </tr>\n",
       "    <tr>\n",
       "      <th>9</th>\n",
       "      <td>Thymus</td>\n",
       "      <td>1429</td>\n",
       "    </tr>\n",
       "    <tr>\n",
       "      <th>10</th>\n",
       "      <td>Trachea</td>\n",
       "      <td>11269</td>\n",
       "    </tr>\n",
       "  </tbody>\n",
       "</table>\n",
       "</div>"
      ],
      "text/plain": [
       "           tissue  n_cells\n",
       "0         Bladder     2500\n",
       "1           Heart      624\n",
       "2          Kidney     2781\n",
       "3           Liver     1026\n",
       "4            Lung     2141\n",
       "5   Mammary_Gland     4481\n",
       "6          Marrow     3652\n",
       "7          Muscle     4536\n",
       "8          Spleen     9552\n",
       "9          Thymus     1429\n",
       "10        Trachea    11269"
      ]
     },
     "execution_count": 131,
     "metadata": {},
     "output_type": "execute_result"
    }
   ],
   "source": [
    "n_cells_per_tissue = nreads_ngenes.groupby('tissue').size().reset_index()\n",
    "n_cells_per_tissue = n_cells_per_tissue.rename(columns={0: 'n_cells'})\n",
    "n_cells_per_tissue"
   ]
  },
  {
   "cell_type": "code",
   "execution_count": 132,
   "metadata": {},
   "outputs": [
    {
     "data": {
      "image/png": "[encoded data removed]",
      "text/plain": [
       "<matplotlib.figure.Figure at 0x11cb8fcc0>"
      ]
     },
     "metadata": {},
     "output_type": "display_data"
    }
   ],
   "source": [
    "fig, ax = plt.subplots()\n",
    "sns.barplot(x='n_cells', y='tissue', data=n_cells_per_tissue, palette=colors, order=tissues)\n",
    "ax.set(xlabel='Number of cells')\n",
    "fig.tight_layout()\n",
    "fig.savefig(f'{figure1_folder}/barplot_n_cells_per_tissue.pdf')"
   ]
  },
  {
   "cell_type": "code",
   "execution_count": 140,
   "metadata": {
    "scrolled": false
   },
   "outputs": [
    {
     "name": "stdout",
     "output_type": "stream",
     "text": [
      "\n",
      "--- Bladder ---\n",
      "  annotation_subannotation  n_cells\n",
      "0              basal_cells      266\n",
      "1        endothelial_cells       68\n",
      "2             immune_cells       57\n",
      "3         luminal_cells: a      532\n",
      "4         luminal_cells: b      391\n",
      "5     mesenchymal_cells: a      670\n",
      "6     mesenchymal_cells: b      516\n",
      "7\n",
      "\n",
      "--- Kidney ---\n",
      "            annotation_subannotation  n_cells\n",
      "0              collecting_duct_cells       72\n",
      "1                  endothelial_cells       45\n",
      "2        fenestrated_capillary_cells      345\n",
      "3                        fibroblasts      113\n",
      "4                       immune_cells       54\n",
      "5                        macrophages      181\n",
      "6                smooth_muscle_cells       50\n",
      "7           tubule_cells: connecting      245\n",
      "8             tubule_cells: proximal      851\n",
      "9   tubule_cells: proximal_ascending      352\n",
      "10     tubule_cells: thick_ascending      473\n",
      "11\n",
      "\n",
      "--- Liver ---\n",
      "   annotation_subannotation  n_cells\n",
      "0         endothelial_cells       20\n",
      "1    hepatocytes: midlobule      264\n",
      "2  hepatocytes: pericentral      373\n",
      "3   hepatocytes: periportal      369\n",
      "4\n",
      "\n",
      "--- Lung ---\n",
      "              annotation_subannotation  n_cells\n",
      "0                              b_cells      205\n",
      "1                       ciliated_cells       41\n",
      "2                           club_cells        5\n",
      "3                      dendritic_cells      225\n",
      "4                    endothelial_cells      425\n",
      "5   epithelial_cells: alveolar_type_ii       89\n",
      "6                         immune_cells      151\n",
      "7                macrophages: alveolar      345\n",
      "8            macrophages: interstitial      111\n",
      "9                           mast_cells       22\n",
      "10                   mesothelial_cells       24\n",
      "11                           monocytes      145\n",
      "12                       stromal_cells     2534\n",
      "13                             t_cells      246\n",
      "14       t_cells: natural_killer_cells      832\n",
      "15                             unknown       49\n",
      "16\n"
     ]
    },
    {
     "data": {
      "image/png": "[encoded data removed]",
      "text/plain": [
       "<matplotlib.figure.Figure at 0x11ae44c50>"
      ]
     },
     "metadata": {},
     "output_type": "display_data"
    },
    {
     "data": {
      "image/png": "[encoded data removed]",
      "text/plain": [
       "<matplotlib.figure.Figure at 0x1191b22e8>"
      ]
     },
     "metadata": {},
     "output_type": "display_data"
    },
    {
     "data": {
      "image/png": "[encoded data removed]",
      "text/plain": [
       "<matplotlib.figure.Figure at 0x11a245390>"
      ]
     },
     "metadata": {},
     "output_type": "display_data"
    },
    {
     "data": {
      "image/png": "[encoded data removed]",
      "text/plain": [
       "<matplotlib.figure.Figure at 0x11ad238d0>"
      ]
     },
     "metadata": {},
     "output_type": "display_data"
    }
   ],
   "source": [
    "for tissue, df in cell_annotations.groupby('tissue'):\n",
    "    print(f'\\n--- {tissue} ---')\n",
    "    annotation_subannotation = df.groupby('annotation_subannotation').size().reset_index()\n",
    "    annotation_subannotation = annotation_subannotation.rename(columns={0: 'n_cells'})\n",
    "    print(annotation_subannotation)\n",
    "    print(len(annotation_subannotation))\n",
    "    \n",
    "    fig, ax = plt.subplots()\n",
    "    sns.barplot(x='n_cells', y='annotation_subannotation', data=annotation_subannotation, palette='husl')\n",
    "    fig.tight_layout()\n",
    "    fig.savefig(f'{figure2_folder}/barplot_n_cells_per_annotation_{tissue}.pdf')\n"
   ]
  },
  {
   "cell_type": "code",
   "execution_count": 27,
   "metadata": {},
   "outputs": [
    {
     "data": {
      "text/html": [
       "<div>\n",
       "<style>\n",
       "    .dataframe thead tr:only-child th {\n",
       "        text-align: right;\n",
       "    }\n",
       "\n",
       "    .dataframe thead th {\n",
       "        text-align: left;\n",
       "    }\n",
       "\n",
       "    .dataframe tbody tr th {\n",
       "        vertical-align: top;\n",
       "    }\n",
       "</style>\n",
       "<table border=\"1\" class=\"dataframe\">\n",
       "  <thead>\n",
       "    <tr style=\"text-align: right;\">\n",
       "      <th></th>\n",
       "      <th>annotation_subannotation</th>\n",
       "      <th>n_cells</th>\n",
       "    </tr>\n",
       "  </thead>\n",
       "  <tbody>\n",
       "    <tr>\n",
       "      <th>0</th>\n",
       "      <td>endothelial_cells</td>\n",
       "      <td>33</td>\n",
       "    </tr>\n",
       "    <tr>\n",
       "      <th>1</th>\n",
       "      <td>epithelial_cells</td>\n",
       "      <td>33</td>\n",
       "    </tr>\n",
       "    <tr>\n",
       "      <th>2</th>\n",
       "      <td>epithelial_cells: basal</td>\n",
       "      <td>21</td>\n",
       "    </tr>\n",
       "    <tr>\n",
       "      <th>3</th>\n",
       "      <td>epithelial_cells: ciliated</td>\n",
       "      <td>25</td>\n",
       "    </tr>\n",
       "    <tr>\n",
       "      <th>4</th>\n",
       "      <td>epithelial_cells: secretory</td>\n",
       "      <td>36</td>\n",
       "    </tr>\n",
       "    <tr>\n",
       "      <th>5</th>\n",
       "      <td>immune_cells</td>\n",
       "      <td>118</td>\n",
       "    </tr>\n",
       "    <tr>\n",
       "      <th>6</th>\n",
       "      <td>stromal_cells</td>\n",
       "      <td>580</td>\n",
       "    </tr>\n",
       "  </tbody>\n",
       "</table>\n",
       "</div>"
      ],
      "text/plain": [
       "      annotation_subannotation  n_cells\n",
       "0            endothelial_cells       33\n",
       "1             epithelial_cells       33\n",
       "2      epithelial_cells: basal       21\n",
       "3   epithelial_cells: ciliated       25\n",
       "4  epithelial_cells: secretory       36\n",
       "5                 immune_cells      118\n",
       "6                stromal_cells      580"
      ]
     },
     "execution_count": 27,
     "metadata": {},
     "output_type": "execute_result"
    }
   ],
   "source": [
    "annotation_subannotation"
   ]
  },
  {
   "cell_type": "code",
   "execution_count": null,
   "metadata": {
    "collapsed": true
   },
   "outputs": [],
   "source": []
  },
  {
   "cell_type": "code",
   "execution_count": null,
   "metadata": {
    "collapsed": true
   },
   "outputs": [],
   "source": []
  }
 ],
 "metadata": {
  "kernelspec": {
   "display_name": "Python 3 (MACA)",
   "language": "python",
   "name": "maca"
  },
  "language_info": {
   "codemirror_mode": {
    "name": "ipython",
    "version": 3
   },
   "file_extension": ".py",
   "mimetype": "text/x-python",
   "name": "python",
   "nbconvert_exporter": "python",
   "pygments_lexer": "ipython3",
   "version": "3.6.1"
  }
 },
 "nbformat": 4,
 "nbformat_minor": 2
}
