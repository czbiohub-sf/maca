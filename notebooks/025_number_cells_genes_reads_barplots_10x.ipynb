{
 "cells": [
  {
   "cell_type": "code",
   "execution_count": null,
   "metadata": {
    "collapsed": true
   },
   "outputs": [],
   "source": [
    "import pandas as pd\n",
    "import os\n",
    "\n",
    "from maca import clean_annotation, clean_labels\n",
    "\n",
    "metadata_folder = os.path.join('..', 'metadata' )"
   ]
  },
  {
   "cell_type": "code",
   "execution_count": null,
   "metadata": {},
   "outputs": [],
   "source": [
    "import pandas as pd\n",
    "import matplotlib.pyplot as plt\n",
    "import seaborn as sns\n",
    "%matplotlib inline\n",
    "\n",
    "sns.set(style='whitegrid', context='paper')"
   ]
  },
  {
   "cell_type": "code",
   "execution_count": null,
   "metadata": {},
   "outputs": [],
   "source": [
    "csv = os.path.join(metadata_folder, 'MACA_10x.csv')\n",
    "tenx_metadata = pd.read_csv(csv, index_col=0)\n",
    "print(tenx_metadata.shape)\n",
    "tenx_metadata.head()"
   ]
  },
  {
   "cell_type": "code",
   "execution_count": null,
   "metadata": {
    "collapsed": true
   },
   "outputs": [],
   "source": [
    "tenx_metadata = tenx_metadata.replace(\"Mammary\", 'Mammary_Gland')"
   ]
  },
  {
   "cell_type": "code",
   "execution_count": null,
   "metadata": {},
   "outputs": [],
   "source": [
    "tenx_metadata_3month = tenx_metadata.loc[tenx_metadata['mouse.age'] == 3]\n",
    "print(tenx_metadata_3month.shape)\n",
    "tenx_metadata_3month.head()"
   ]
  },
  {
   "cell_type": "code",
   "execution_count": null,
   "metadata": {},
   "outputs": [],
   "source": [
    "tissue_n_channels = tenx_metadata_3month.groupby('tissue').size()\n",
    "tissue_n_channels"
   ]
  },
  {
   "cell_type": "code",
   "execution_count": null,
   "metadata": {
    "collapsed": true
   },
   "outputs": [],
   "source": [
    "tissues = tissue_n_channels.index"
   ]
  },
  {
   "cell_type": "code",
   "execution_count": null,
   "metadata": {},
   "outputs": [],
   "source": [
    "len(tissue_n_channels)"
   ]
  },
  {
   "cell_type": "code",
   "execution_count": null,
   "metadata": {},
   "outputs": [],
   "source": [
    "csv = os.path.join(metadata_folder, 'maca_3month_annotations_10x.csv')\n",
    "cell_annotations = pd.read_csv(csv, index_col=0)\n",
    "print(cell_annotations.shape)\n",
    "cell_annotations.head()"
   ]
  },
  {
   "cell_type": "code",
   "execution_count": null,
   "metadata": {},
   "outputs": [],
   "source": [
    "figure_folder = '/Users/olgabot/googledrive/MACA_3mo_manuscript/Main figures'\n",
    "\n",
    "figure1_folder = f'{figure_folder}/figure1/10x'\n",
    "figure2_folder = f'{figure_folder}/figure2/10x'\n",
    "\n",
    "print(f'figure1_folder: \"{figure1_folder}\"')\n",
    "print(f'figure2_folder: \"{figure2_folder}\"')\n",
    "\n",
    "! mkdir -p \"$figure1_folder\"\n",
    "! mkdir -p \"$figure2_folder\""
   ]
  },
  {
   "cell_type": "code",
   "execution_count": null,
   "metadata": {
    "collapsed": true
   },
   "outputs": [],
   "source": [
    "folder = '/Users/olgabot/code/maca/metadata/number_of_cells_reads_genes_10x/'"
   ]
  },
  {
   "cell_type": "code",
   "execution_count": null,
   "metadata": {},
   "outputs": [],
   "source": [
    "ls $folder/*_nreads_ngenes.csv"
   ]
  },
  {
   "cell_type": "code",
   "execution_count": null,
   "metadata": {
    "collapsed": true
   },
   "outputs": [],
   "source": [
    "import hermione as hm"
   ]
  },
  {
   "cell_type": "code",
   "execution_count": null,
   "metadata": {},
   "outputs": [],
   "source": [
    "! head $folder/Bladder*"
   ]
  },
  {
   "cell_type": "code",
   "execution_count": null,
   "metadata": {},
   "outputs": [],
   "source": [
    "import glob\n",
    "import os \n",
    " \n",
    "globber = f'{folder}/*_nreads_ngenes.csv'\n",
    "\n",
    "dfs = []\n",
    "\n",
    "for filename in glob.iglob(globber):\n",
    "    df = pd.read_csv(filename, index_col=0)\n",
    "    df['tissue'] = os.path.basename(filename).split('_nreads_ngenes.csv')[0]\n",
    "    dfs.append(df)\n",
    "nreads_ngenes = pd.concat(dfs)\n",
    "print(nreads_ngenes.shape)\n",
    "print('number of tissues: ', len(nreads_ngenes.groupby('tissue')))\n",
    "nreads_ngenes.head()"
   ]
  },
  {
   "cell_type": "code",
   "execution_count": null,
   "metadata": {
    "collapsed": true
   },
   "outputs": [],
   "source": [
    "import numpy as np"
   ]
  },
  {
   "cell_type": "code",
   "execution_count": null,
   "metadata": {
    "collapsed": true
   },
   "outputs": [],
   "source": [
    "nreads_ngenes['log10_nUMI'] = np.log10(nreads_ngenes['nUMI'])"
   ]
  },
  {
   "cell_type": "code",
   "execution_count": null,
   "metadata": {},
   "outputs": [],
   "source": [
    "colors = pd.read_csv(os.path.join(metadata_folder, 'tissue_colors.csv'), index_col=0, squeeze=True)\n",
    "\n",
    "# Convert to dictionary to make sure the colors match up\n",
    "colors = colors.to_dict()\n",
    "colors"
   ]
  },
  {
   "cell_type": "code",
   "execution_count": null,
   "metadata": {},
   "outputs": [],
   "source": [
    "# tissues = sorted(nreads_ngenes['tissue'].unique())\n",
    "tissues"
   ]
  },
  {
   "cell_type": "code",
   "execution_count": null,
   "metadata": {
    "collapsed": true
   },
   "outputs": [],
   "source": [
    "kwargs = dict(data=nreads_ngenes, row='tissue', \n",
    "               row_order=tissues, palette=colors, xlabel_suffix='')"
   ]
  },
  {
   "cell_type": "code",
   "execution_count": null,
   "metadata": {},
   "outputs": [],
   "source": [
    "g = hm.horizonplot(x='nGene', **kwargs)\n",
    "g.set_xlabels('Genes per cell')\n",
    "for ax in g.axes.flatten():\n",
    "    if not ax.is_last_row():\n",
    "        ax.set(xticks=[])\n",
    "g.savefig(f'{figure1_folder}/horizonplot_genes_per_cell.pdf')"
   ]
  },
  {
   "cell_type": "code",
   "execution_count": null,
   "metadata": {
    "collapsed": true
   },
   "outputs": [],
   "source": [
    "# hm.horizonplot(x='nReads', **kwargs)"
   ]
  },
  {
   "cell_type": "code",
   "execution_count": null,
   "metadata": {},
   "outputs": [],
   "source": [
    "g = hm.horizonplot(x='log10_nUMI', **kwargs)\n",
    "g.set_xlabels('log10(UMI per cell)')\n",
    "for ax in g.axes.flatten():\n",
    "    if not ax.is_last_row():\n",
    "        ax.set(xticks=[])\n",
    "g.savefig(f'{figure1_folder}/horizonplot_log10_UMI_per_cell.pdf')"
   ]
  },
  {
   "cell_type": "code",
   "execution_count": null,
   "metadata": {},
   "outputs": [],
   "source": [
    "n_cells_per_tissue = nreads_ngenes.groupby('tissue').size().reset_index()\n",
    "n_cells_per_tissue = n_cells_per_tissue.rename(columns={0: 'n_cells'})\n",
    "n_cells_per_tissue"
   ]
  },
  {
   "cell_type": "code",
   "execution_count": null,
   "metadata": {},
   "outputs": [],
   "source": [
    "fig, ax = plt.subplots()\n",
    "sns.barplot(x='n_cells', y='tissue', data=n_cells_per_tissue, palette=colors, order=tissues)\n",
    "ax.set(xlabel='Number of cells')\n",
    "fig.tight_layout()\n",
    "fig.savefig(f'{figure1_folder}/barplot_n_cells_per_tissue.pdf')"
   ]
  },
  {
   "cell_type": "code",
   "execution_count": null,
   "metadata": {},
   "outputs": [],
   "source": [
    "width = 2.40157   # ~61mm\n",
    "# height = 7.87402  # ~200mm\n",
    "height = 9.72441  # ~247mm\n",
    "\n",
    "col = 'annotation'\n",
    "\n",
    "height_ratios = cell_annotations.groupby('tissue').apply(lambda x: len(x[col].unique()))\n",
    "\n",
    "fig, axes = plt.subplots(figsize=(width, height), nrows=len(tissues), sharex=True, \n",
    "                         gridspec_kw=dict(hspace=.15, height_ratios=height_ratios))\n",
    "\n",
    "for (tissue, df), ax in zip(cell_annotations.groupby('tissue'), axes):\n",
    "#     print(f'\\n--- {tissue} ---')\n",
    "    annotation_subannotation = np.log10(df.groupby(col).size()).reset_index()\n",
    "    annotation_subannotation = annotation_subannotation.rename(columns={0: 'n_cells'})\n",
    "#     print(annotation_subannotation)\n",
    "#     print(len(annotation_subannotation))\n",
    "    \n",
    "    \n",
    "#     fig, ax = plt.subplots(figsize=(width, height))\n",
    "    sns.barplot(x='n_cells', y=col, data=annotation_subannotation, palette='husl', ax=ax)\n",
    "#     fig.tight_layout()\n",
    "    ax.set(xlabel='')\n",
    "\n",
    "    ax.yaxis.set_ticks_position(\"right\")\n",
    "    ax.set_ylabel(tissue, rotation=0, ha='right')\n",
    "    \n",
    "    # only y-axis grid\n",
    "#     ax.grid(axis='x')\n",
    "    ax.grid('off', axis='y')\n",
    "    if ax.is_first_row():\n",
    "        ax.spines['bottom'].set_visible(False)\n",
    "    elif ax.is_last_row():\n",
    "        ax.set(xlabel='log10(# cells)')\n",
    "        ax.spines['top'].set_visible(False)\n",
    "    else:\n",
    "        ax.spines['top'].set_visible(False)\n",
    "        ax.spines['bottom'].set_visible(False)\n",
    "\n",
    "ax.invert_xaxis()\n",
    "fig.tight_layout()\n",
    "fig.savefig(f'{figure2_folder}/barplot_n_cells_per_annotation_all.pdf')\n"
   ]
  },
  {
   "cell_type": "code",
   "execution_count": null,
   "metadata": {
    "scrolled": false
   },
   "outputs": [],
   "source": [
    "mm_to_inch = 0.03937007874\n",
    "\n",
    "width = 76 * mm_to_inch\n",
    "height = 196 * mm_to_inch\n",
    "\n",
    "print(f'width: {width}, height: {height}')\n",
    "\n",
    "col = 'annotation'\n",
    "\n",
    "height_ratios = cell_annotations.groupby('tissue').apply(lambda x: len(x[col].unique()))\n",
    "\n",
    "fig, axes = plt.subplots(figsize=(width, height), nrows=len(tissues), sharex=True, \n",
    "                         gridspec_kw=dict(height_ratios=height_ratios))\n",
    "\n",
    "for (tissue, df), ax in zip(cell_annotations.groupby('tissue'), axes):\n",
    "#     print(f'\\n--- {tissue} ---')\n",
    "    annotation_subannotation = np.log10(df.groupby(col).size()).reset_index()\n",
    "    annotation_subannotation = annotation_subannotation.rename(columns={0: 'n_cells'})\n",
    "    annotation_subannotation['annotation'] = annotation_subannotation['annotation'].str.replace('_', ' ')\n",
    "#     print(annotation_subannotation)\n",
    "#     print(len(annotation_subannotation))\n",
    "    \n",
    "    \n",
    "#     fig, ax = plt.subplots(figsize=(width, height))\n",
    "    sns.barplot(x='n_cells', y=col, data=annotation_subannotation, palette='husl', ax=ax, zorder=-1)\n",
    "#     fig.tight_layout()\n",
    "    ax.set(xlabel='', ylabel='')\n",
    "\n",
    "    # Remove \"FACS\"\n",
    "    tissue = tissue.replace('_FACS', '').replace('_', ' ')\n",
    "    ax.set_title(tissue, va='top', fontweight='bold', size=8)\n",
    "    \n",
    "    ax.yaxis.set_ticks_position(\"right\")\n",
    "#     ax.set_ylabel(tissue, rotation=0, ha='right')\n",
    "    \n",
    "    # only y-axis grid\n",
    "#     ax.grid(axis='x')\n",
    "    ax.grid(axis='x', zorder=100, color='white')\n",
    "    ax.grid('off', axis='y')\n",
    "    \n",
    "    ax.spines['left'].set_visible(False)\n",
    "\n",
    "    if ax.is_last_row():\n",
    "        \n",
    "        xticklabels = [f'$10^{int(i)}$' for i in ax.get_xticks()]\n",
    "        ax.set_xlabel('Number of cells', va='center')\n",
    "        ax.set_xticklabels(xticklabels, va='center')\n",
    "\n",
    "    ax.spines['top'].set_visible(False)\n",
    "    ax.spines['bottom'].set_visible(False)\n",
    "        \n",
    " \n",
    "ax.invert_xaxis()\n",
    "fig.tight_layout(h_pad=0)\n",
    "fig.savefig(f'{figure2_folder}/barplot_n_cells_per_annotation_all.pdf')\n"
   ]
  },
  {
   "cell_type": "code",
   "execution_count": null,
   "metadata": {},
   "outputs": [],
   "source": [
    "ax.get_xticks()"
   ]
  },
  {
   "cell_type": "code",
   "execution_count": null,
   "metadata": {},
   "outputs": [],
   "source": [
    "annotation_subannotation"
   ]
  },
  {
   "cell_type": "code",
   "execution_count": null,
   "metadata": {},
   "outputs": [],
   "source": [
    "annotation_subannotation"
   ]
  },
  {
   "cell_type": "code",
   "execution_count": null,
   "metadata": {
    "collapsed": true
   },
   "outputs": [],
   "source": []
  },
  {
   "cell_type": "code",
   "execution_count": null,
   "metadata": {
    "collapsed": true
   },
   "outputs": [],
   "source": []
  }
 ],
 "metadata": {
  "kernelspec": {
   "display_name": "Python 3 (MACA)",
   "language": "python",
   "name": "maca"
  },
  "language_info": {
   "codemirror_mode": {
    "name": "ipython",
    "version": 3
   },
   "file_extension": ".py",
   "mimetype": "text/x-python",
   "name": "python",
   "nbconvert_exporter": "python",
   "pygments_lexer": "ipython3",
   "version": "3.6.1"
  }
 },
 "nbformat": 4,
 "nbformat_minor": 2
}
