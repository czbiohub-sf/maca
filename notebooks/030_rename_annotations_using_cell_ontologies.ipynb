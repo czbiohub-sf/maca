{
 "cells": [
  {
   "cell_type": "markdown",
   "metadata": {},
   "source": [
    "Spyros has gone through the plate annotations and re-annotated the cells using the controlled vocabulary of the [Cell Ontology](http://cellontology.org)"
   ]
  },
  {
   "cell_type": "code",
   "execution_count": 1,
   "metadata": {
    "collapsed": true
   },
   "outputs": [],
   "source": [
    "import pandas as pd\n",
    "import os\n",
    "\n",
    "from maca import clean_annotation, clean_labels\n",
    "\n",
    "metadata_folder = os.path.join('..', 'metadata' )\n",
    "\n",
    "summary_folder = os.path.join(metadata_folder, 'summary')\n",
    "\n",
    "%load_ext autoreload\n",
    "%autoreload 2"
   ]
  },
  {
   "cell_type": "code",
   "execution_count": 6,
   "metadata": {},
   "outputs": [
    {
     "name": "stdout",
     "output_type": "stream",
     "text": [
      "(211, 8)\n"
     ]
    },
    {
     "data": {
      "text/html": [
       "<div>\n",
       "<style>\n",
       "    .dataframe thead tr:only-child th {\n",
       "        text-align: right;\n",
       "    }\n",
       "\n",
       "    .dataframe thead th {\n",
       "        text-align: left;\n",
       "    }\n",
       "\n",
       "    .dataframe tbody tr th {\n",
       "        vertical-align: top;\n",
       "    }\n",
       "</style>\n",
       "<table border=\"1\" class=\"dataframe\">\n",
       "  <thead>\n",
       "    <tr style=\"text-align: right;\">\n",
       "      <th></th>\n",
       "      <th>tissue</th>\n",
       "      <th>annotation_original</th>\n",
       "      <th>subannotation_original</th>\n",
       "      <th>annotation_cleaned</th>\n",
       "      <th>subannotation_cleaned</th>\n",
       "      <th>n_cells</th>\n",
       "      <th>Class</th>\n",
       "      <th>Term IRI</th>\n",
       "    </tr>\n",
       "  </thead>\n",
       "  <tbody>\n",
       "    <tr>\n",
       "      <th>0</th>\n",
       "      <td>Pancreas</td>\n",
       "      <td>exocrine cells</td>\n",
       "      <td>.</td>\n",
       "      <td>acinar_cells</td>\n",
       "      <td>.</td>\n",
       "      <td>177</td>\n",
       "      <td>pancreatic acinar cell</td>\n",
       "      <td>http://purl.obolibrary.org/obo/CL_0002064</td>\n",
       "    </tr>\n",
       "    <tr>\n",
       "      <th>1</th>\n",
       "      <td>Aorta</td>\n",
       "      <td>adipocytes</td>\n",
       "      <td>.</td>\n",
       "      <td>adipocytes</td>\n",
       "      <td>.</td>\n",
       "      <td>54</td>\n",
       "      <td>epicardial adipocyte</td>\n",
       "      <td>http://purl.obolibrary.org/obo/CL_1000309</td>\n",
       "    </tr>\n",
       "    <tr>\n",
       "      <th>2</th>\n",
       "      <td>Aorta</td>\n",
       "      <td>heterogenous group of cells</td>\n",
       "      <td>adipocytes</td>\n",
       "      <td>adipocytes</td>\n",
       "      <td>.</td>\n",
       "      <td>39</td>\n",
       "      <td>epicardial adipocyte</td>\n",
       "      <td>http://purl.obolibrary.org/obo/CL_1000309</td>\n",
       "    </tr>\n",
       "    <tr>\n",
       "      <th>3</th>\n",
       "      <td>Pancreas</td>\n",
       "      <td>alpha cells</td>\n",
       "      <td>Alpha - female</td>\n",
       "      <td>alpha_cells</td>\n",
       "      <td>.</td>\n",
       "      <td>159</td>\n",
       "      <td>pancreatic A cell</td>\n",
       "      <td>http://purl.obolibrary.org/obo/CL_0000171</td>\n",
       "    </tr>\n",
       "    <tr>\n",
       "      <th>4</th>\n",
       "      <td>Pancreas</td>\n",
       "      <td>alpha cells</td>\n",
       "      <td>Alpha - male</td>\n",
       "      <td>alpha_cells</td>\n",
       "      <td>.</td>\n",
       "      <td>128</td>\n",
       "      <td>pancreatic A cell</td>\n",
       "      <td>http://purl.obolibrary.org/obo/CL_0000171</td>\n",
       "    </tr>\n",
       "  </tbody>\n",
       "</table>\n",
       "</div>"
      ],
      "text/plain": [
       "     tissue          annotation_original subannotation_original  \\\n",
       "0  Pancreas               exocrine cells                      .   \n",
       "1     Aorta                   adipocytes                      .   \n",
       "2     Aorta  heterogenous group of cells             adipocytes   \n",
       "3  Pancreas                  alpha cells         Alpha - female   \n",
       "4  Pancreas                  alpha cells           Alpha - male   \n",
       "\n",
       "  annotation_cleaned subannotation_cleaned  n_cells                   Class  \\\n",
       "0       acinar_cells                     .      177  pancreatic acinar cell   \n",
       "1         adipocytes                     .       54    epicardial adipocyte   \n",
       "2         adipocytes                     .       39    epicardial adipocyte   \n",
       "3        alpha_cells                     .      159       pancreatic A cell   \n",
       "4        alpha_cells                     .      128       pancreatic A cell   \n",
       "\n",
       "                                    Term IRI  \n",
       "0  http://purl.obolibrary.org/obo/CL_0002064  \n",
       "1  http://purl.obolibrary.org/obo/CL_1000309  \n",
       "2  http://purl.obolibrary.org/obo/CL_1000309  \n",
       "3  http://purl.obolibrary.org/obo/CL_0000171  \n",
       "4  http://purl.obolibrary.org/obo/CL_0000171  "
      ]
     },
     "execution_count": 6,
     "metadata": {},
     "output_type": "execute_result"
    }
   ],
   "source": [
    "csv = '/Users/olgabot/Downloads/maca_3month_original_vs_cleaned_plates.csv'\n",
    "plates_with_ontology = pd.read_csv(csv, encoding=\"ISO-8859-1\")\n",
    "cols_to_drop = [x for x in plates_with_ontology if x.startswith('Unnamed')]\n",
    "plates_with_ontology = plates_with_ontology.drop(cols_to_drop, axis=1)\n",
    "print(plates_with_ontology.shape)\n",
    "plates_with_ontology.head()"
   ]
  },
  {
   "cell_type": "code",
   "execution_count": 7,
   "metadata": {
    "scrolled": false
   },
   "outputs": [
    {
     "data": {
      "text/plain": [
       "tissue                annotation_cleaned                                Class                                 \n",
       "Aorta                 adipocytes                                        epicardial adipocyte                       2\n",
       "                      endothelial_cells                                 endothelial cell                           1\n",
       "                      fibroblasts                                       fibroblast                                 1\n",
       "                      hematopoietic_cells                               hematopoietic cell                         1\n",
       "                      smooth_muscle_cells                               smooth muscle cell                         1\n",
       "Bladder               basal_cells                                       basal cell of urothelium                   1\n",
       "                      luminal_cells                                     bladder cell                               3\n",
       "                      mesenchymal_cells                                 mesenchymal cell                           4\n",
       "Brain_FACS_microglia  macrophages                                       macrophage                                 1\n",
       "                      microglia_cells                                   microglial cell                            1\n",
       "Brain_FACS_neurons    astrocytes                                        Bergmann glial cell                        1\n",
       "                                                                        astrocyte of the cerebral cortex           1\n",
       "                      endothelial_cells                                 endothelial cell                           1\n",
       "                                                                        smooth muscle cell                         1\n",
       "                      neural_progenitor_cells                           neuronal stem cell                         1\n",
       "                      neurons                                           neuron                                     4\n",
       "                      oligodendrocyte_progenitor_cells                  oligodendrocyte precursor cell             1\n",
       "                      oligodendrocytes                                  oligodendrocyte                            2\n",
       "                      pericytes                                         brain pericyte                             1\n",
       "Colon                 amplifying_cells                                  intestinal crypt stem cell                 1\n",
       "                      chromaffin_cells                                  type EC enteroendocrine cell               1\n",
       "                      enterocytes                                       enterocyte                                 2\n",
       "                      goblet_cells                                      goblet cell                                5\n",
       "                      tuft_cells                                        brush cell                                 1\n",
       "Diaphragm             b_cells                                           B cell                                     1\n",
       "                      endothelial_cells                                 endothelial cell                           1\n",
       "                      macrophages                                       macrophage                                 1\n",
       "                      mesenchymal_stem_cells                            mesenchymal stem cell                      1\n",
       "                      satellite_cells                                   skeletal muscle satellite stem cell        2\n",
       "Fat                   b_cells                                           B cell                                     1\n",
       "                                                                                                                  ..\n",
       "Marrow                progenitors                                       hematopoietic stem cell                   10\n",
       "                      t_cells                                           T cell                                     4\n",
       "Muscle                b_cells                                           B cell                                     1\n",
       "                      endothelial_cells                                 endothelial cell                           3\n",
       "                      macrophages                                       macrophage                                 1\n",
       "                      mesenchymal_stem_cells                            mesenchymal stem cell                      1\n",
       "                      muscle_stem_cells                                 multi-potent skeletal muscle stem cell     1\n",
       "                      t_cells                                           T cell                                     1\n",
       "Pancreas              acinar_cells                                      pancreatic acinar cell                     1\n",
       "                      alpha_cells                                       pancreatic A cell                          2\n",
       "                      beta_cells                                        pancreatic B cell                          1\n",
       "                      delta_cells                                       pancreatic D cell                          1\n",
       "                      ductal_cells                                      pancreatic ductal cell                     1\n",
       "                      endothelial_cells                                 endothelial cell                           1\n",
       "                      immune_cells                                      leukocyte                                  2\n",
       "                      pp_cells                                          pancreatic PP cell                         2\n",
       "                      stellate_cells                                    pancreatic stellate cell                   1\n",
       "Skin                  hair_follicle_cells                               hair follicle cell                         2\n",
       "                      interfollicular_epidermis                         epidermal cell                             4\n",
       "Spleen                b_cells                                           B cell                                     2\n",
       "                      macrophages/dendritic_cells/monocytes_and_others  myeloid cell                               1\n",
       "                      t_cells                                           T cell                                     3\n",
       "Thymus                stromal_mesenchymal_stem_cell_cells               mesenchymal stem cell                      1\n",
       "                      t_cells                                           T cell                                     8\n",
       "Tongue                basal_cells                                       basal cell                                 2\n",
       "                      keratinocytes                                     keratinocyte                               3\n",
       "Trachea               endothelial_cells                                 endothelial cell                           1\n",
       "                      epithelial_cells                                  epithelial cell                            3\n",
       "                      immune_cells                                      leukocyte                                  1\n",
       "                      stromal_cells                                     stromal cell                               1\n",
       "Length: 112, dtype: int64"
      ]
     },
     "execution_count": 7,
     "metadata": {},
     "output_type": "execute_result"
    }
   ],
   "source": [
    "plates_with_ontology.groupby(['tissue', 'annotation_cleaned', 'Class']).size()"
   ]
  },
  {
   "cell_type": "code",
   "execution_count": null,
   "metadata": {
    "collapsed": true
   },
   "outputs": [],
   "source": [
    "tissue_annotation_to_onotology = plates_with_ontology[['tissue', 'annotation_cleaned']]"
   ]
  },
  {
   "cell_type": "code",
   "execution_count": 4,
   "metadata": {},
   "outputs": [
    {
     "name": "stdout",
     "output_type": "stream",
     "text": [
      "(125, 6)\n"
     ]
    },
    {
     "data": {
      "text/html": [
       "<div>\n",
       "<style>\n",
       "    .dataframe thead tr:only-child th {\n",
       "        text-align: right;\n",
       "    }\n",
       "\n",
       "    .dataframe thead th {\n",
       "        text-align: left;\n",
       "    }\n",
       "\n",
       "    .dataframe tbody tr th {\n",
       "        vertical-align: top;\n",
       "    }\n",
       "</style>\n",
       "<table border=\"1\" class=\"dataframe\">\n",
       "  <thead>\n",
       "    <tr style=\"text-align: right;\">\n",
       "      <th></th>\n",
       "      <th>tissue</th>\n",
       "      <th>annotation_original</th>\n",
       "      <th>subannotation_original</th>\n",
       "      <th>annotation_cleaned</th>\n",
       "      <th>subannotation_cleaned</th>\n",
       "      <th>n_cells</th>\n",
       "    </tr>\n",
       "  </thead>\n",
       "  <tbody>\n",
       "    <tr>\n",
       "      <th>0</th>\n",
       "      <td>Bladder</td>\n",
       "      <td>Basal</td>\n",
       "      <td>.</td>\n",
       "      <td>basal</td>\n",
       "      <td>.</td>\n",
       "      <td>266</td>\n",
       "    </tr>\n",
       "    <tr>\n",
       "      <th>1</th>\n",
       "      <td>Bladder</td>\n",
       "      <td>Endothelial cells</td>\n",
       "      <td>.</td>\n",
       "      <td>endothelial</td>\n",
       "      <td>.</td>\n",
       "      <td>68</td>\n",
       "    </tr>\n",
       "    <tr>\n",
       "      <th>2</th>\n",
       "      <td>Bladder</td>\n",
       "      <td>Immune cells</td>\n",
       "      <td>.</td>\n",
       "      <td>immune</td>\n",
       "      <td>.</td>\n",
       "      <td>57</td>\n",
       "    </tr>\n",
       "    <tr>\n",
       "      <th>3</th>\n",
       "      <td>Bladder</td>\n",
       "      <td>LuminalA1</td>\n",
       "      <td>.</td>\n",
       "      <td>luminal</td>\n",
       "      <td>a</td>\n",
       "      <td>313</td>\n",
       "    </tr>\n",
       "    <tr>\n",
       "      <th>4</th>\n",
       "      <td>Bladder</td>\n",
       "      <td>LuminalA2</td>\n",
       "      <td>.</td>\n",
       "      <td>luminal</td>\n",
       "      <td>a</td>\n",
       "      <td>219</td>\n",
       "    </tr>\n",
       "  </tbody>\n",
       "</table>\n",
       "</div>"
      ],
      "text/plain": [
       "    tissue annotation_original subannotation_original annotation_cleaned  \\\n",
       "0  Bladder               Basal                      .              basal   \n",
       "1  Bladder   Endothelial cells                      .        endothelial   \n",
       "2  Bladder        Immune cells                      .             immune   \n",
       "3  Bladder           LuminalA1                      .            luminal   \n",
       "4  Bladder           LuminalA2                      .            luminal   \n",
       "\n",
       "  subannotation_cleaned  n_cells  \n",
       "0                     .      266  \n",
       "1                     .       68  \n",
       "2                     .       57  \n",
       "3                     a      313  \n",
       "4                     a      219  "
      ]
     },
     "execution_count": 4,
     "metadata": {},
     "output_type": "execute_result"
    }
   ],
   "source": [
    "csv = os.path.join(summary_folder, 'maca_3month_original_vs_cleaned_10x.csv')\n",
    "tenx = pd.read_csv(csv)\n",
    "print(tenx.shape)\n",
    "tenx.head()"
   ]
  },
  {
   "cell_type": "code",
   "execution_count": null,
   "metadata": {
    "collapsed": true
   },
   "outputs": [],
   "source": []
  }
 ],
 "metadata": {
  "kernelspec": {
   "display_name": "Python 3 (MACA)",
   "language": "python",
   "name": "maca"
  },
  "language_info": {
   "codemirror_mode": {
    "name": "ipython",
    "version": 3
   },
   "file_extension": ".py",
   "mimetype": "text/x-python",
   "name": "python",
   "nbconvert_exporter": "python",
   "pygments_lexer": "ipython3",
   "version": "3.6.1"
  }
 },
 "nbformat": 4,
 "nbformat_minor": 2
}
