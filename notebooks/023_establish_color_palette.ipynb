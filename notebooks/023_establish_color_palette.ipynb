{
 "cells": [
  {
   "cell_type": "code",
   "execution_count": 18,
   "metadata": {},
   "outputs": [],
   "source": [
    "import pandas as pd\n",
    "import matplotlib.pyplot as plt\n",
    "import seaborn as sns\n",
    "import os\n",
    "\n",
    "metadata_folder = os.path.join('..', 'metadata' )\n",
    "\n",
    "\n",
    "%matplotlib inline\n"
   ]
  },
  {
   "cell_type": "code",
   "execution_count": 19,
   "metadata": {},
   "outputs": [
    {
     "name": "stdout",
     "output_type": "stream",
     "text": [
      "(42192, 5)\n"
     ]
    },
    {
     "data": {
      "text/html": [
       "<div>\n",
       "<style>\n",
       "    .dataframe thead tr:only-child th {\n",
       "        text-align: right;\n",
       "    }\n",
       "\n",
       "    .dataframe thead th {\n",
       "        text-align: left;\n",
       "    }\n",
       "\n",
       "    .dataframe tbody tr th {\n",
       "        vertical-align: top;\n",
       "    }\n",
       "</style>\n",
       "<table border=\"1\" class=\"dataframe\">\n",
       "  <thead>\n",
       "    <tr style=\"text-align: right;\">\n",
       "      <th></th>\n",
       "      <th>annotation</th>\n",
       "      <th>plate.barcode</th>\n",
       "      <th>subannotation</th>\n",
       "      <th>tissue</th>\n",
       "      <th>annotation_subannotation</th>\n",
       "    </tr>\n",
       "  </thead>\n",
       "  <tbody>\n",
       "    <tr>\n",
       "      <th>A21.MAA000594.3_8_M.1.1</th>\n",
       "      <td>fibroblasts</td>\n",
       "      <td>MAA000594</td>\n",
       "      <td>NaN</td>\n",
       "      <td>Aorta</td>\n",
       "      <td>fibroblasts</td>\n",
       "    </tr>\n",
       "    <tr>\n",
       "      <th>F8.MAA000594.3_8_M.1.1</th>\n",
       "      <td>unknown</td>\n",
       "      <td>MAA000594</td>\n",
       "      <td>NaN</td>\n",
       "      <td>Aorta</td>\n",
       "      <td>unknown</td>\n",
       "    </tr>\n",
       "    <tr>\n",
       "      <th>H11.MAA000594.3_8_M.1.1</th>\n",
       "      <td>unknown</td>\n",
       "      <td>MAA000594</td>\n",
       "      <td>NaN</td>\n",
       "      <td>Aorta</td>\n",
       "      <td>unknown</td>\n",
       "    </tr>\n",
       "    <tr>\n",
       "      <th>A22.MAA000594.3_8_M.1.1</th>\n",
       "      <td>unknown</td>\n",
       "      <td>MAA000594</td>\n",
       "      <td>NaN</td>\n",
       "      <td>Aorta</td>\n",
       "      <td>unknown</td>\n",
       "    </tr>\n",
       "    <tr>\n",
       "      <th>H12.MAA000594.3_8_M.1.1</th>\n",
       "      <td>adipocytes</td>\n",
       "      <td>MAA000594</td>\n",
       "      <td>NaN</td>\n",
       "      <td>Aorta</td>\n",
       "      <td>adipocytes</td>\n",
       "    </tr>\n",
       "  </tbody>\n",
       "</table>\n",
       "</div>"
      ],
      "text/plain": [
       "                          annotation plate.barcode subannotation tissue  \\\n",
       "A21.MAA000594.3_8_M.1.1  fibroblasts     MAA000594           NaN  Aorta   \n",
       "F8.MAA000594.3_8_M.1.1       unknown     MAA000594           NaN  Aorta   \n",
       "H11.MAA000594.3_8_M.1.1      unknown     MAA000594           NaN  Aorta   \n",
       "A22.MAA000594.3_8_M.1.1      unknown     MAA000594           NaN  Aorta   \n",
       "H12.MAA000594.3_8_M.1.1   adipocytes     MAA000594           NaN  Aorta   \n",
       "\n",
       "                        annotation_subannotation  \n",
       "A21.MAA000594.3_8_M.1.1              fibroblasts  \n",
       "F8.MAA000594.3_8_M.1.1                   unknown  \n",
       "H11.MAA000594.3_8_M.1.1                  unknown  \n",
       "A22.MAA000594.3_8_M.1.1                  unknown  \n",
       "H12.MAA000594.3_8_M.1.1               adipocytes  "
      ]
     },
     "execution_count": 19,
     "metadata": {},
     "output_type": "execute_result"
    }
   ],
   "source": [
    "csv = os.path.join(metadata_folder, 'maca_3month_annotations_plates.csv')\n",
    "\n",
    "cell_annotations = pd.read_csv(csv, index_col=0)\n",
    "print(cell_annotations.shape)\n",
    "cell_annotations.head()"
   ]
  },
  {
   "cell_type": "code",
   "execution_count": 20,
   "metadata": {},
   "outputs": [
    {
     "data": {
      "text/plain": [
       "['Aorta',\n",
       " 'Bladder',\n",
       " 'Brain_Microglia',\n",
       " 'Brain_Neurons',\n",
       " 'Colon',\n",
       " 'Diaphragm',\n",
       " 'Fat',\n",
       " 'Heart',\n",
       " 'Kidney',\n",
       " 'Liver',\n",
       " 'Lung',\n",
       " 'Mammary',\n",
       " 'Marrow',\n",
       " 'Muscle',\n",
       " 'Pancreas',\n",
       " 'Skin',\n",
       " 'Spleen',\n",
       " 'Thymus',\n",
       " 'Tongue',\n",
       " 'Trachea']"
      ]
     },
     "execution_count": 20,
     "metadata": {},
     "output_type": "execute_result"
    }
   ],
   "source": [
    "tissues = sorted(cell_annotations['tissue'].unique())\n",
    "tissues"
   ]
  },
  {
   "cell_type": "code",
   "execution_count": 21,
   "metadata": {},
   "outputs": [
    {
     "data": {
      "text/plain": [
       "20"
      ]
     },
     "execution_count": 21,
     "metadata": {},
     "output_type": "execute_result"
    }
   ],
   "source": [
    "n_tissues = len(tissues)\n",
    "n_tissues"
   ]
  },
  {
   "cell_type": "code",
   "execution_count": 22,
   "metadata": {
    "collapsed": true
   },
   "outputs": [],
   "source": [
    "from matplotlib.colors import rgb2hex"
   ]
  },
  {
   "cell_type": "code",
   "execution_count": 23,
   "metadata": {},
   "outputs": [
    {
     "data": {
      "text/plain": [
       "Aorta              #1f77b4\n",
       "Bladder            #aec7e8\n",
       "Brain_Microglia    #ff7f0e\n",
       "Brain_Neurons      #ffbb78\n",
       "Colon              #2ca02c\n",
       "Diaphragm          #98df8a\n",
       "Fat                #d62728\n",
       "Heart              #ff9896\n",
       "Kidney             #9467bd\n",
       "Liver              #c5b0d5\n",
       "Lung               #8c564b\n",
       "Mammary            #c49c94\n",
       "Marrow             #e377c2\n",
       "Muscle             #f7b6d2\n",
       "Pancreas           #7f7f7f\n",
       "Skin               #c7c7c7\n",
       "Spleen             #bcbd22\n",
       "Thymus             #dbdb8d\n",
       "Tongue             #17becf\n",
       "Trachea            #9edae5\n",
       "Name: color, dtype: object"
      ]
     },
     "execution_count": 23,
     "metadata": {},
     "output_type": "execute_result"
    }
   ],
   "source": [
    "palette = pd.Series(map(rgb2hex, sns.color_palette('tab20', n_colors=n_tissues)), index=tissues, name='color')\n",
    "palette"
   ]
  },
  {
   "cell_type": "code",
   "execution_count": 24,
   "metadata": {
    "collapsed": true
   },
   "outputs": [],
   "source": [
    "palette.to_csv('/Users/olgabot/code/maca/metadata/tissue_colors.csv', header=True)"
   ]
  },
  {
   "cell_type": "code",
   "execution_count": 25,
   "metadata": {},
   "outputs": [
    {
     "name": "stdout",
     "output_type": "stream",
     "text": [
      ",color\r\n",
      "Aorta,#1f77b4\r\n",
      "Bladder,#aec7e8\r\n",
      "Brain_Microglia,#ff7f0e\r\n",
      "Brain_Neurons,#ffbb78\r\n",
      "Colon,#2ca02c\r\n",
      "Diaphragm,#98df8a\r\n",
      "Fat,#d62728\r\n",
      "Heart,#ff9896\r\n",
      "Kidney,#9467bd\r\n"
     ]
    }
   ],
   "source": [
    "! head /Users/olgabot/code/maca/metadata/tissue_colors.csv"
   ]
  },
  {
   "cell_type": "code",
   "execution_count": 26,
   "metadata": {},
   "outputs": [
    {
     "data": {
      "text/plain": [
       "0               Aorta\n",
       "1             Bladder\n",
       "2     Brain_Microglia\n",
       "3       Brain_Neurons\n",
       "4               Colon\n",
       "5           Diaphragm\n",
       "6                 Fat\n",
       "7               Heart\n",
       "8              Kidney\n",
       "9               Liver\n",
       "10               Lung\n",
       "11            Mammary\n",
       "12             Marrow\n",
       "13             Muscle\n",
       "14           Pancreas\n",
       "15               Skin\n",
       "16             Spleen\n",
       "17             Thymus\n",
       "18             Tongue\n",
       "19            Trachea\n",
       "dtype: object"
      ]
     },
     "execution_count": 26,
     "metadata": {},
     "output_type": "execute_result"
    }
   ],
   "source": [
    "pd.Series(tissues)"
   ]
  },
  {
   "cell_type": "code",
   "execution_count": 27,
   "metadata": {},
   "outputs": [
    {
     "data": {
      "text/plain": [
       "tissue\n",
       "Aorta               6\n",
       "Bladder             5\n",
       "Brain_Microglia     2\n",
       "Brain_Neurons      14\n",
       "Colon               8\n",
       "Diaphragm           5\n",
       "Fat                10\n",
       "Heart               9\n",
       "Kidney              7\n",
       "Liver               5\n",
       "Lung               17\n",
       "Mammary            10\n",
       "Marrow             12\n",
       "Muscle              6\n",
       "Pancreas            9\n",
       "Skin                6\n",
       "Spleen              6\n",
       "Thymus              8\n",
       "Tongue              5\n",
       "Trachea             6\n",
       "dtype: int64"
      ]
     },
     "execution_count": 27,
     "metadata": {},
     "output_type": "execute_result"
    }
   ],
   "source": [
    "cell_annotations.groupby('tissue').apply(lambda x: len(x.groupby('annotation_subannotation')))"
   ]
  },
  {
   "cell_type": "code",
   "execution_count": 28,
   "metadata": {
    "scrolled": false
   },
   "outputs": [
    {
     "name": "stdout",
     "output_type": "stream",
     "text": [
      "\n",
      "--- Aorta ---\n",
      "annotation_subannotation\n",
      "adipocytes        93\n",
      "endothelial      131\n",
      "fibroblasts       35\n",
      "hematopoietic     17\n",
      "smooth_muscle     37\n",
      "unknown           51\n",
      "dtype: int64\n",
      "6\n",
      "\n",
      "--- Bladder ---\n",
      "annotation_subannotation\n",
      "basal              99\n",
      "luminal: a        436\n",
      "luminal: b         96\n",
      "mesenchymal: a    335\n",
      "mesenchymal: b    321\n",
      "dtype: int64\n",
      "5\n",
      "\n",
      "--- Brain_Microglia ---\n",
      "annotation_subannotation\n",
      "macrophages      36\n",
      "microglia      4329\n",
      "dtype: int64\n",
      "2\n",
      "\n",
      "--- Brain_Neurons ---\n",
      "annotation_subannotation\n",
      "astrocytes: berg_glia                         30\n",
      "astrocytes: cerebral_astrocytes              403\n",
      "astrocytes: myelinating_oligodendrocytes      11\n",
      "endothelial: vascular                        625\n",
      "endothelial: vsmcs                            14\n",
      "neurons: doublet                               2\n",
      "neurons: excitatory                           73\n",
      "neurons: inhibitory                           98\n",
      "neurons: undetermined                         23\n",
      "npcs                                          36\n",
      "oligodendrocytes                            1175\n",
      "opcs                                         202\n",
      "pericytes                                    132\n",
      "unknown                                      176\n",
      "dtype: int64\n",
      "14\n",
      "\n",
      "--- Colon ---\n",
      "annotation_subannotation\n",
      "amplifying                         889\n",
      "chromaffin                          25\n",
      "enterocytes                        782\n",
      "goblet                             814\n",
      "tuft                                45\n",
      "undifferentiated                   127\n",
      "undifferentiated: proliferating    206\n",
      "undifferentiated: quiescent        571\n",
      "dtype: int64\n",
      "8\n",
      "\n",
      "--- Diaphragm ---\n",
      "annotation_subannotation\n",
      "b_cells              80\n",
      "endothelial          77\n",
      "macrophages          31\n",
      "mesenchymal_stem    240\n",
      "satellite           442\n",
      "dtype: int64\n",
      "5\n",
      "\n",
      "--- Fat ---\n",
      "annotation_subannotation\n",
      "b_cells                     513\n",
      "endothelial                 590\n",
      "epithelial                   51\n",
      "granulocytes                409\n",
      "multipotent_progenitors    1924\n",
      "muscle                       27\n",
      "myeloid                     479\n",
      "natural_killer              129\n",
      "neutrophils                 221\n",
      "t_cells                     366\n",
      "dtype: int64\n",
      "10\n",
      "\n",
      "--- Heart ---\n",
      "annotation_subannotation\n",
      "cardiomyocytes                         140\n",
      "endothelial                            844\n",
      "endothelial: coronary_vascular         293\n",
      "endothelial: endocardial               175\n",
      "erythrocytes                            11\n",
      "fibroblasts                           2052\n",
      "immune                                 488\n",
      "smooth_muscle: myofibroblast           175\n",
      "smooth_muscle: smooth_muscle_cells      43\n",
      "dtype: int64\n",
      "9\n",
      "\n",
      "--- Kidney ---\n",
      "annotation_subannotation\n",
      "collecting_duct             44\n",
      "endothelial                 40\n",
      "fenestrated_capillary       69\n",
      "fibroblasts                 65\n",
      "immune                      38\n",
      "tubule: proximal           194\n",
      "tubule: thick_ascending     67\n",
      "dtype: int64\n",
      "7\n",
      "\n",
      "--- Liver ---\n",
      "annotation_subannotation\n",
      "b_cells            29\n",
      "endothelial       196\n",
      "hepatocytes       399\n",
      "kuppfer            51\n",
      "natural_killer     35\n",
      "dtype: int64\n",
      "5\n",
      "\n",
      "--- Lung ---\n",
      "annotation_subannotation\n",
      "b_cells                          55\n",
      "ciliated                         14\n",
      "club                             13\n",
      "dendritic                        69\n",
      "endothelial                     738\n",
      "epithelial: alveolar_type_i       2\n",
      "epithelial: alveolar_type_ii     94\n",
      "immune                           31\n",
      "macrophages: alveolar            13\n",
      "macrophages: interstitial        56\n",
      "mesothelial                       2\n",
      "monocytes                        65\n",
      "natural_killer                   36\n",
      "neuroendocrine                    2\n",
      "remaining_epithelial              9\n",
      "stromal                         366\n",
      "t_cells                          55\n",
      "dtype: int64\n",
      "17\n",
      "\n",
      "--- Mammary ---\n",
      "annotation_subannotation\n",
      "basal                           588\n",
      "basal: chac1+mthfd2+            390\n",
      "basal: cxcl2+vcam+procr+         57\n",
      "basal: fos+                     111\n",
      "basal: id1+id2+pdfgrl+wnt10a     52\n",
      "basal: ifgbp2+igfbp              77\n",
      "endothelial                      49\n",
      "hormone_responsive_luminal      156\n",
      "luminal_progenitors             396\n",
      "stromal                         428\n",
      "dtype: int64\n",
      "10\n",
      "\n",
      "--- Marrow ---\n",
      "annotation_subannotation\n",
      "b_cells: immature              285\n",
      "b_cells: immature_mature       863\n",
      "b_cells: mature                700\n",
      "b_cells: prepro                177\n",
      "granulocytes: quiescent        380\n",
      "monocytes: mature              205\n",
      "monocytes: progenitor          119\n",
      "natural_killer                 136\n",
      "neutrophils: proliferating     209\n",
      "neutrophils: quiescent         390\n",
      "progenitors                   1291\n",
      "t_cells                        142\n",
      "dtype: int64\n",
      "12\n",
      "\n",
      "--- Muscle ---\n",
      "annotation_subannotation\n",
      "b_cells              71\n",
      "endothelial         129\n",
      "macrophages          40\n",
      "mesenchymal_stem    246\n",
      "muscle_stem         546\n",
      "t_cells              35\n",
      "dtype: int64\n",
      "6\n",
      "\n",
      "--- Pancreas ---\n",
      "annotation_subannotation\n",
      "acinar         177\n",
      "alpha          287\n",
      "beta           411\n",
      "delta           91\n",
      "ductal         131\n",
      "endothelial     49\n",
      "immune          45\n",
      "pp             107\n",
      "stellate        29\n",
      "dtype: int64\n",
      "9\n",
      "\n",
      "--- Skin ---\n",
      "annotation_subannotation\n",
      "hair_follicle: inner_bulge                           824\n",
      "hair_follicle: outer_bulge                           547\n",
      "interfollicular_epidermis: basal_ife_cells           402\n",
      "interfollicular_epidermis: intermediate_ife_cells    259\n",
      "interfollicular_epidermis: outer_ife_cells           186\n",
      "interfollicular_epidermis: proliferating              45\n",
      "dtype: int64\n",
      "6\n",
      "\n",
      "--- Spleen ---\n",
      "annotation_subannotation\n",
      "b_cells: follicular              1085\n",
      "b_cells: marginal_zone            153\n",
      "myeloid                            48\n",
      "t_cells: cd4+                     273\n",
      "t_cells: cd8+                      81\n",
      "t_cells: natural_killer_cells      49\n",
      "dtype: int64\n",
      "6\n",
      "\n",
      "--- Thymus ---\n",
      "annotation_subannotation\n",
      "stromal_stem                                                33\n",
      "t_cells: double_negative1                                   32\n",
      "t_cells: double_negative4                                   92\n",
      "t_cells: double_positive                                    44\n",
      "t_cells: double_positive_favoring_cd8+                     637\n",
      "t_cells: double_positive_rapidly_dividing_favoring_cd8+    103\n",
      "t_cells: immature_single_positive_cd4+                     280\n",
      "t_cells: immature_single_positive_cd8+                      62\n",
      "dtype: int64\n",
      "8\n",
      "\n",
      "--- Tongue ---\n",
      "annotation_subannotation\n",
      "basal: basal                       831\n",
      "basal: proliferating               202\n",
      "keratinocytes: filiform_cells       35\n",
      "keratinocytes: suprabasal          178\n",
      "keratinocytes: suprabasal_cells    148\n",
      "dtype: int64\n",
      "5\n",
      "\n",
      "--- Trachea ---\n",
      "annotation_subannotation\n",
      "endothelial                     33\n",
      "epithelial: basal_cells         29\n",
      "epithelial: no_krt5             44\n",
      "epithelial: secretory_cells     55\n",
      "immune                         116\n",
      "stromal                        569\n",
      "dtype: int64\n",
      "6\n"
     ]
    }
   ],
   "source": [
    "for tissue, df in cell_annotations.groupby('tissue'):\n",
    "    print(f'\\n--- {tissue} ---')\n",
    "    annotation_subannotation = df.groupby('annotation_subannotation').size()\n",
    "    print(annotation_subannotation)\n",
    "    print(len(annotation_subannotation))"
   ]
  },
  {
   "cell_type": "code",
   "execution_count": null,
   "metadata": {
    "collapsed": true
   },
   "outputs": [],
   "source": []
  },
  {
   "cell_type": "code",
   "execution_count": null,
   "metadata": {
    "collapsed": true
   },
   "outputs": [],
   "source": []
  },
  {
   "cell_type": "code",
   "execution_count": null,
   "metadata": {
    "collapsed": true
   },
   "outputs": [],
   "source": []
  }
 ],
 "metadata": {
  "kernelspec": {
   "display_name": "Python 3 (MACA)",
   "language": "python",
   "name": "maca"
  },
  "language_info": {
   "codemirror_mode": {
    "name": "ipython",
    "version": 3
   },
   "file_extension": ".py",
   "mimetype": "text/x-python",
   "name": "python",
   "nbconvert_exporter": "python",
   "pygments_lexer": "ipython3",
   "version": "3.6.1"
  }
 },
 "nbformat": 4,
 "nbformat_minor": 2
}
