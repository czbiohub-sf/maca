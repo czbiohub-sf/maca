{
 "cells": [
  {
   "cell_type": "code",
   "execution_count": 59,
   "metadata": {},
   "outputs": [],
   "source": [
    "import pandas as pd\n",
    "import matplotlib.pyplot as plt\n",
    "import seaborn as sns\n",
    "%matplotlib inline"
   ]
  },
  {
   "cell_type": "code",
   "execution_count": 60,
   "metadata": {},
   "outputs": [
    {
     "name": "stdout",
     "output_type": "stream",
     "text": [
      "(42187, 5)\n"
     ]
    },
    {
     "data": {
      "text/html": [
       "<div>\n",
       "<style>\n",
       "    .dataframe thead tr:only-child th {\n",
       "        text-align: right;\n",
       "    }\n",
       "\n",
       "    .dataframe thead th {\n",
       "        text-align: left;\n",
       "    }\n",
       "\n",
       "    .dataframe tbody tr th {\n",
       "        vertical-align: top;\n",
       "    }\n",
       "</style>\n",
       "<table border=\"1\" class=\"dataframe\">\n",
       "  <thead>\n",
       "    <tr style=\"text-align: right;\">\n",
       "      <th></th>\n",
       "      <th>annotation</th>\n",
       "      <th>plate.barcode</th>\n",
       "      <th>subannotation</th>\n",
       "      <th>tissue</th>\n",
       "      <th>annotation_subannotation</th>\n",
       "    </tr>\n",
       "  </thead>\n",
       "  <tbody>\n",
       "    <tr>\n",
       "      <th>A21.MAA000594.3_8_M.1.1</th>\n",
       "      <td>extracellular_matrix</td>\n",
       "      <td>maa</td>\n",
       "      <td>NaN</td>\n",
       "      <td>Aorta</td>\n",
       "      <td>extracellular_matrix</td>\n",
       "    </tr>\n",
       "    <tr>\n",
       "      <th>F8.MAA000594.3_8_M.1.1</th>\n",
       "      <td>extracellular_matrix</td>\n",
       "      <td>maa</td>\n",
       "      <td>connective_tissue</td>\n",
       "      <td>Aorta</td>\n",
       "      <td>extracellular_matrix: connective_tissue</td>\n",
       "    </tr>\n",
       "    <tr>\n",
       "      <th>H11.MAA000594.3_8_M.1.1</th>\n",
       "      <td>extracellular_matrix</td>\n",
       "      <td>maa</td>\n",
       "      <td>lamin</td>\n",
       "      <td>Aorta</td>\n",
       "      <td>extracellular_matrix: lamin</td>\n",
       "    </tr>\n",
       "    <tr>\n",
       "      <th>A22.MAA000594.3_8_M.1.1</th>\n",
       "      <td>extracellular_matrix</td>\n",
       "      <td>maa</td>\n",
       "      <td>connective_tissue</td>\n",
       "      <td>Aorta</td>\n",
       "      <td>extracellular_matrix: connective_tissue</td>\n",
       "    </tr>\n",
       "    <tr>\n",
       "      <th>H12.MAA000594.3_8_M.1.1</th>\n",
       "      <td>adipocytes</td>\n",
       "      <td>maa</td>\n",
       "      <td>NaN</td>\n",
       "      <td>Aorta</td>\n",
       "      <td>adipocytes</td>\n",
       "    </tr>\n",
       "  </tbody>\n",
       "</table>\n",
       "</div>"
      ],
      "text/plain": [
       "                                   annotation plate.barcode  \\\n",
       "A21.MAA000594.3_8_M.1.1  extracellular_matrix           maa   \n",
       "F8.MAA000594.3_8_M.1.1   extracellular_matrix           maa   \n",
       "H11.MAA000594.3_8_M.1.1  extracellular_matrix           maa   \n",
       "A22.MAA000594.3_8_M.1.1  extracellular_matrix           maa   \n",
       "H12.MAA000594.3_8_M.1.1            adipocytes           maa   \n",
       "\n",
       "                             subannotation tissue  \\\n",
       "A21.MAA000594.3_8_M.1.1                NaN  Aorta   \n",
       "F8.MAA000594.3_8_M.1.1   connective_tissue  Aorta   \n",
       "H11.MAA000594.3_8_M.1.1              lamin  Aorta   \n",
       "A22.MAA000594.3_8_M.1.1  connective_tissue  Aorta   \n",
       "H12.MAA000594.3_8_M.1.1                NaN  Aorta   \n",
       "\n",
       "                                        annotation_subannotation  \n",
       "A21.MAA000594.3_8_M.1.1                     extracellular_matrix  \n",
       "F8.MAA000594.3_8_M.1.1   extracellular_matrix: connective_tissue  \n",
       "H11.MAA000594.3_8_M.1.1              extracellular_matrix: lamin  \n",
       "A22.MAA000594.3_8_M.1.1  extracellular_matrix: connective_tissue  \n",
       "H12.MAA000594.3_8_M.1.1                               adipocytes  "
      ]
     },
     "execution_count": 60,
     "metadata": {},
     "output_type": "execute_result"
    }
   ],
   "source": [
    "cell_annotations = pd.read_csv('/Users/olgabot/code/maca/metadata/maca_3month_combined_cell_annotations.csv', \n",
    "                               index_col=0)\n",
    "print(cell_annotations.shape)\n",
    "cell_annotations.head()"
   ]
  },
  {
   "cell_type": "code",
   "execution_count": 61,
   "metadata": {},
   "outputs": [
    {
     "data": {
      "text/plain": [
       "['Aorta',\n",
       " 'Bladder',\n",
       " 'Brain_FACS_microglia',\n",
       " 'Brain_FACS_neurons',\n",
       " 'Colon',\n",
       " 'Diaphragm',\n",
       " 'Fat',\n",
       " 'Heart',\n",
       " 'Kidney',\n",
       " 'Liver',\n",
       " 'Lung',\n",
       " 'Mammary_Gland',\n",
       " 'Marrow',\n",
       " 'Muscle',\n",
       " 'Pancreas',\n",
       " 'Skin',\n",
       " 'Spleen',\n",
       " 'Thymus',\n",
       " 'Tongue',\n",
       " 'Trachea']"
      ]
     },
     "execution_count": 61,
     "metadata": {},
     "output_type": "execute_result"
    }
   ],
   "source": [
    "tissues = sorted(cell_annotations['tissue'].unique())\n",
    "tissues"
   ]
  },
  {
   "cell_type": "code",
   "execution_count": 62,
   "metadata": {},
   "outputs": [
    {
     "data": {
      "text/plain": [
       "20"
      ]
     },
     "execution_count": 62,
     "metadata": {},
     "output_type": "execute_result"
    }
   ],
   "source": [
    "n_tissues = len(tissues)\n",
    "n_tissues"
   ]
  },
  {
   "cell_type": "code",
   "execution_count": 63,
   "metadata": {
    "collapsed": true
   },
   "outputs": [],
   "source": [
    "from matplotlib.colors import rgb2hex"
   ]
  },
  {
   "cell_type": "code",
   "execution_count": 64,
   "metadata": {},
   "outputs": [
    {
     "data": {
      "text/plain": [
       "Aorta                   #1f77b4\n",
       "Bladder                 #aec7e8\n",
       "Brain_FACS_microglia    #ff7f0e\n",
       "Brain_FACS_neurons      #ffbb78\n",
       "Colon                   #2ca02c\n",
       "Diaphragm               #98df8a\n",
       "Fat                     #d62728\n",
       "Heart                   #ff9896\n",
       "Kidney                  #9467bd\n",
       "Liver                   #c5b0d5\n",
       "Lung                    #8c564b\n",
       "Mammary_Gland           #c49c94\n",
       "Marrow                  #e377c2\n",
       "Muscle                  #f7b6d2\n",
       "Pancreas                #7f7f7f\n",
       "Skin                    #c7c7c7\n",
       "Spleen                  #bcbd22\n",
       "Thymus                  #dbdb8d\n",
       "Tongue                  #17becf\n",
       "Trachea                 #9edae5\n",
       "Name: color, dtype: object"
      ]
     },
     "execution_count": 64,
     "metadata": {},
     "output_type": "execute_result"
    }
   ],
   "source": [
    "palette = pd.Series(map(rgb2hex, sns.color_palette('tab20', n_colors=n_tissues)), index=tissues, name='color')\n",
    "palette"
   ]
  },
  {
   "cell_type": "code",
   "execution_count": 65,
   "metadata": {
    "collapsed": true
   },
   "outputs": [],
   "source": [
    "palette.to_csv('/Users/olgabot/code/maca/metadata/tissue_colors.csv', header=True)"
   ]
  },
  {
   "cell_type": "code",
   "execution_count": 66,
   "metadata": {},
   "outputs": [
    {
     "name": "stdout",
     "output_type": "stream",
     "text": [
      ",color\r\n",
      "Aorta,#1f77b4\r\n",
      "Bladder,#aec7e8\r\n",
      "Brain_FACS_microglia,#ff7f0e\r\n",
      "Brain_FACS_neurons,#ffbb78\r\n",
      "Colon,#2ca02c\r\n",
      "Diaphragm,#98df8a\r\n",
      "Fat,#d62728\r\n",
      "Heart,#ff9896\r\n",
      "Kidney,#9467bd\r\n"
     ]
    }
   ],
   "source": [
    "! head /Users/olgabot/code/maca/metadata/tissue_colors.csv"
   ]
  },
  {
   "cell_type": "code",
   "execution_count": 67,
   "metadata": {},
   "outputs": [
    {
     "data": {
      "text/plain": [
       "0                    Aorta\n",
       "1                  Bladder\n",
       "2     Brain_FACS_microglia\n",
       "3       Brain_FACS_neurons\n",
       "4                    Colon\n",
       "5                Diaphragm\n",
       "6                      Fat\n",
       "7                    Heart\n",
       "8                   Kidney\n",
       "9                    Liver\n",
       "10                    Lung\n",
       "11           Mammary_Gland\n",
       "12                  Marrow\n",
       "13                  Muscle\n",
       "14                Pancreas\n",
       "15                    Skin\n",
       "16                  Spleen\n",
       "17                  Thymus\n",
       "18                  Tongue\n",
       "19                 Trachea\n",
       "dtype: object"
      ]
     },
     "execution_count": 67,
     "metadata": {},
     "output_type": "execute_result"
    }
   ],
   "source": [
    "pd.Series(tissues)"
   ]
  },
  {
   "cell_type": "code",
   "execution_count": 68,
   "metadata": {},
   "outputs": [
    {
     "data": {
      "text/plain": [
       "tissue\n",
       "Aorta                    7\n",
       "Bladder                  5\n",
       "Brain_FACS_microglia     2\n",
       "Brain_FACS_neurons      13\n",
       "Colon                    8\n",
       "Diaphragm                5\n",
       "Fat                     10\n",
       "Heart                    9\n",
       "Kidney                   7\n",
       "Liver                    5\n",
       "Lung                    16\n",
       "Mammary_Gland           10\n",
       "Marrow                  13\n",
       "Muscle                   8\n",
       "Pancreas                11\n",
       "Skin                     6\n",
       "Spleen                   6\n",
       "Thymus                   6\n",
       "Tongue                   7\n",
       "Trachea                  7\n",
       "dtype: int64"
      ]
     },
     "execution_count": 68,
     "metadata": {},
     "output_type": "execute_result"
    }
   ],
   "source": [
    "cell_annotations.groupby('tissue').apply(lambda x: len(x.groupby('annotation_subannotation')))"
   ]
  },
  {
   "cell_type": "code",
   "execution_count": 69,
   "metadata": {
    "scrolled": false
   },
   "outputs": [
    {
     "name": "stdout",
     "output_type": "stream",
     "text": [
      "\n",
      "--- Aorta ---\n",
      "annotation_subannotation\n",
      "adipocytes                                  54\n",
      "endothelial_cells                          131\n",
      "extracellular_matrix                        35\n",
      "extracellular_matrix: collagen              46\n",
      "extracellular_matrix: connective_tissue     26\n",
      "extracellular_matrix: lamin                 55\n",
      "hematopoietic_cells                         17\n",
      "dtype: int64\n",
      "7\n",
      "\n",
      "--- Bladder ---\n",
      "annotation_subannotation\n",
      "basal_cells              99\n",
      "luminal_cells: a        436\n",
      "luminal_cells: b         96\n",
      "mesenchymal_cells: a    335\n",
      "mesenchymal_cells: b    321\n",
      "dtype: int64\n",
      "5\n",
      "\n",
      "--- Brain_FACS_microglia ---\n",
      "annotation_subannotation\n",
      "macrophages      36\n",
      "microglia      4329\n",
      "dtype: int64\n",
      "2\n",
      "\n",
      "--- Brain_FACS_neurons ---\n",
      "annotation_subannotation\n",
      "astrocytes: bergmann_glia                     30\n",
      "astrocytes: cerebral_astrocytes              403\n",
      "astrocytes: myelinating_oligodendrocytes      11\n",
      "endothelial_cells: vascular                  625\n",
      "endothelial_cells: vsmcs                      14\n",
      "neural_progenitor_cells                       36\n",
      "neurons: excitatory                           73\n",
      "neurons: inhibitory                           98\n",
      "neurons: undetermined                         25\n",
      "oligodendrocytes                            1175\n",
      "opcs                                         202\n",
      "pericytes                                    132\n",
      "unknown                                      176\n",
      "dtype: int64\n",
      "13\n",
      "\n",
      "--- Colon ---\n",
      "annotation_subannotation\n",
      "amplifying_cells                         889\n",
      "chromaffin_cells                          25\n",
      "enterocytes                              782\n",
      "goblet_cells                             814\n",
      "tuft_cells                                45\n",
      "undifferentiated_cells                   127\n",
      "undifferentiated_cells: proliferating    206\n",
      "undifferentiated_cells: quiescent        571\n",
      "dtype: int64\n",
      "8\n",
      "\n",
      "--- Diaphragm ---\n",
      "annotation_subannotation\n",
      "endothelial_cells                   77\n",
      "fibro_or_adipogenic_progenitors    240\n",
      "immune_cells                        80\n",
      "macrophages                         31\n",
      "satellite_cells                    442\n",
      "dtype: int64\n",
      "5\n",
      "\n",
      "--- Fat ---\n",
      "annotation_subannotation\n",
      "b_cells                     513\n",
      "endothelial_cells           590\n",
      "epithelial_cells             51\n",
      "granulocytes                409\n",
      "multipotent_progenitors    1924\n",
      "muscle_cells                 27\n",
      "myeloid_cells               479\n",
      "natural_killer_cells        129\n",
      "neutrophils                 221\n",
      "t_cells                     366\n",
      "dtype: int64\n",
      "10\n",
      "\n",
      "--- Heart ---\n",
      "annotation_subannotation\n",
      "cardiomyocytes                               140\n",
      "endothelial_cells                            844\n",
      "endothelial_cells: coronary_vascular         293\n",
      "endothelial_cells: endocardial               175\n",
      "fibroblasts                                 2052\n",
      "immune_cells                                 488\n",
      "red_blood_cells                               11\n",
      "smooth_muscle_cells: myofibroblast           175\n",
      "smooth_muscle_cells: smooth_muscle_cells      43\n",
      "dtype: int64\n",
      "9\n",
      "\n",
      "--- Kidney ---\n",
      "annotation_subannotation\n",
      "collecting_duct_cells            44\n",
      "endothelial_cells                40\n",
      "fenestrated_capillaries          69\n",
      "fibroblasts                      65\n",
      "immune_cells                     38\n",
      "thick_ascending_tubule_cells     67\n",
      "tubule: proximal                194\n",
      "dtype: int64\n",
      "7\n",
      "\n",
      "--- Liver ---\n",
      "annotation_subannotation\n",
      "endothelial_cells           180\n",
      "hepatocytes: midlobular     126\n",
      "hepatocytes: pericentral    158\n",
      "hepatocytes: periportal     133\n",
      "non-parenchymal_cells       108\n",
      "dtype: int64\n",
      "5\n",
      "\n",
      "--- Lung ---\n",
      "annotation_subannotation\n",
      "alveolar_epithelial_cells     96\n",
      "b_cells                       55\n",
      "ciliated_cells                14\n",
      "club_cells                    13\n",
      "dendritic_cells               69\n",
      "endothelial_cells            738\n",
      "epithelial_cells               9\n",
      "immune_cells                  31\n",
      "macrophages: alveolar         13\n",
      "macrophages: interstitial     56\n",
      "mesothelial_cells              2\n",
      "monocytes                     65\n",
      "natural_killer_cells          36\n",
      "neuroendocrine_cells           2\n",
      "stromal_cells                366\n",
      "t_cells                       55\n",
      "dtype: int64\n",
      "16\n",
      "\n",
      "--- Mammary_Gland ---\n",
      "annotation_subannotation\n",
      "basal_cells                           588\n",
      "basal_cells: chac1+mthfd2+            390\n",
      "basal_cells: cxcl2+vcam+procr+         57\n",
      "basal_cells: fos+                     111\n",
      "basal_cells: id1+id2+pdfgrl+wnt10a     52\n",
      "basal_cells: ifgbp2+igfbp              77\n",
      "endothelial_cells                      49\n",
      "luminal_cells: hormone_responsive     156\n",
      "luminal_progenitors                   396\n",
      "stromal_cells                         428\n",
      "dtype: int64\n",
      "10\n",
      "\n",
      "--- Marrow ---\n",
      "annotation_subannotation\n",
      "b_cells                           177\n",
      "b_cells: immature                 285\n",
      "b_cells: mature                   700\n",
      "b_cells: maturing                 863\n",
      "granulocytes: quiescent           380\n",
      "hematopoietic_stem_cell          1291\n",
      "monocytes: mature                 205\n",
      "monocytes: progenitor             119\n",
      "neutrophils: proliferating        209\n",
      "neutrophils: quiescent            390\n",
      "t_cells                            80\n",
      "t_cells: natural_killer_cells     136\n",
      "t_cells: unknown                   62\n",
      "dtype: int64\n",
      "13\n",
      "\n",
      "--- Muscle ---\n",
      "annotation_subannotation\n",
      "b_cells                             71\n",
      "endothelial_cells                   25\n",
      "endothelial_cells: jun-negative     53\n",
      "endothelial_cells: jun-positive     51\n",
      "fibro_or_adipogenic_progenitors    246\n",
      "macrophages                         40\n",
      "muscle_stem_cells                  546\n",
      "t_cells                             35\n",
      "dtype: int64\n",
      "8\n",
      "\n",
      "--- Pancreas ---\n",
      "annotation_subannotation\n",
      "alpha_cells               287\n",
      "alpha_cells: pp_cells      39\n",
      "beta_cells                411\n",
      "delta_cells                91\n",
      "duct_cells                131\n",
      "endothelial_cells          49\n",
      "exocrine_cells            177\n",
      "immune_cells: exocrine     24\n",
      "immune_cells: immune       21\n",
      "pp_cells                   68\n",
      "stellate_cells             29\n",
      "dtype: int64\n",
      "11\n",
      "\n",
      "--- Skin ---\n",
      "annotation_subannotation\n",
      "inner_bulge                                      824\n",
      "interfollicular_epidermis: basal_cells           402\n",
      "interfollicular_epidermis: intermediate_cells    259\n",
      "interfollicular_epidermis: outer_cells           186\n",
      "outer_bulge                                      547\n",
      "proliferating_cells                               45\n",
      "dtype: int64\n",
      "6\n",
      "\n",
      "--- Spleen ---\n",
      "annotation_subannotation\n",
      "b_cells: follicular              1085\n",
      "b_cells: marginal_zone            153\n",
      "myeloid_cells                      48\n",
      "t_cells: cd4+                     273\n",
      "t_cells: cd8+                      81\n",
      "t_cells: natural_killer_cells      49\n",
      "dtype: int64\n",
      "6\n",
      "\n",
      "--- Thymus ---\n",
      "annotation_subannotation\n",
      "stromal_mesenchymal_stem_cell                                              33\n",
      "t_cells: double_negative                                                  124\n",
      "t_cells: double_positive                                                   44\n",
      "t_cells: double_positive_favoring_cd8_differentiation                     637\n",
      "t_cells: double_positive_rapidly_dividing_favoring_cd8_differentiation    103\n",
      "t_cells: immature_single_positive_cd                                      342\n",
      "dtype: int64\n",
      "6\n",
      "\n",
      "--- Tongue ---\n",
      "annotation_subannotation\n",
      "basal_cells                      343\n",
      "basal_cells: epcam_high           61\n",
      "basal_cells: epcam_low            82\n",
      "basal_or_differentiating         190\n",
      "filliform_keratinocytes          181\n",
      "proliferating                    192\n",
      "stratified_or_differentiating    345\n",
      "dtype: int64\n",
      "7\n",
      "\n",
      "--- Trachea ---\n",
      "annotation_subannotation\n",
      "endothelial_cells               33\n",
      "epithelial_cells                33\n",
      "epithelial_cells: basal         21\n",
      "epithelial_cells: ciliated      25\n",
      "epithelial_cells: secretory     36\n",
      "immune_cells                   118\n",
      "stromal_cells                  580\n",
      "dtype: int64\n",
      "7\n"
     ]
    }
   ],
   "source": [
    "for tissue, df in cell_annotations.groupby('tissue'):\n",
    "    print(f'\\n--- {tissue} ---')\n",
    "    annotation_subannotation = df.groupby('annotation_subannotation').size()\n",
    "    print(annotation_subannotation)\n",
    "    print(len(annotation_subannotation))"
   ]
  },
  {
   "cell_type": "code",
   "execution_count": null,
   "metadata": {
    "collapsed": true
   },
   "outputs": [],
   "source": []
  },
  {
   "cell_type": "code",
   "execution_count": null,
   "metadata": {
    "collapsed": true
   },
   "outputs": [],
   "source": []
  }
 ],
 "metadata": {
  "kernelspec": {
   "display_name": "Python 3 (MACA)",
   "language": "python",
   "name": "maca"
  },
  "language_info": {
   "codemirror_mode": {
    "name": "ipython",
    "version": 3
   },
   "file_extension": ".py",
   "mimetype": "text/x-python",
   "name": "python",
   "nbconvert_exporter": "python",
   "pygments_lexer": "ipython3",
   "version": "3.6.1"
  }
 },
 "nbformat": 4,
 "nbformat_minor": 2
}
