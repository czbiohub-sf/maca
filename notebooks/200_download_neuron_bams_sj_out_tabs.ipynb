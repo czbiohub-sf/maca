{
 "cells": [
  {
   "cell_type": "code",
   "execution_count": 1,
   "metadata": {},
   "outputs": [
    {
     "name": "stdout",
     "output_type": "stream",
     "text": [
      "mkdir: ../metadata/summary: File exists\r\n"
     ]
    }
   ],
   "source": [
    "import pandas as pd\n",
    "import os\n",
    "\n",
    "from maca import clean_annotation, clean_labels\n",
    "\n",
    "metadata_folder = os.path.join('..', 'metadata' )\n",
    "\n",
    "summary_folder = os.path.join(metadata_folder, 'summary')\n",
    "! mkdir $summary_folder\n",
    "\n",
    "%load_ext autoreload\n",
    "%autoreload 2\n"
   ]
  },
  {
   "cell_type": "code",
   "execution_count": 3,
   "metadata": {},
   "outputs": [
    {
     "name": "stdout",
     "output_type": "stream",
     "text": [
      "(42192, 8)\n"
     ]
    },
    {
     "data": {
      "text/html": [
       "<div>\n",
       "<style>\n",
       "    .dataframe thead tr:only-child th {\n",
       "        text-align: right;\n",
       "    }\n",
       "\n",
       "    .dataframe thead th {\n",
       "        text-align: left;\n",
       "    }\n",
       "\n",
       "    .dataframe tbody tr th {\n",
       "        vertical-align: top;\n",
       "    }\n",
       "</style>\n",
       "<table border=\"1\" class=\"dataframe\">\n",
       "  <thead>\n",
       "    <tr style=\"text-align: right;\">\n",
       "      <th></th>\n",
       "      <th>annotation</th>\n",
       "      <th>plate.barcode</th>\n",
       "      <th>subannotation</th>\n",
       "      <th>tissue</th>\n",
       "      <th>annotation_subannotation</th>\n",
       "      <th>cell_ontology_class</th>\n",
       "      <th>cell_ontology_term_iri</th>\n",
       "      <th>cell_ontology_id</th>\n",
       "    </tr>\n",
       "  </thead>\n",
       "  <tbody>\n",
       "    <tr>\n",
       "      <th>A21.MAA000594.3_8_M.1.1</th>\n",
       "      <td>fibroblasts</td>\n",
       "      <td>MAA000594</td>\n",
       "      <td>NaN</td>\n",
       "      <td>Aorta</td>\n",
       "      <td>fibroblasts</td>\n",
       "      <td>fibroblast</td>\n",
       "      <td>http://purl.obolibrary.org/obo/CL_0000057</td>\n",
       "      <td>CL:0000057</td>\n",
       "    </tr>\n",
       "    <tr>\n",
       "      <th>F8.MAA000594.3_8_M.1.1</th>\n",
       "      <td>unknown</td>\n",
       "      <td>MAA000594</td>\n",
       "      <td>NaN</td>\n",
       "      <td>Aorta</td>\n",
       "      <td>unknown</td>\n",
       "      <td>unknown</td>\n",
       "      <td>NaN</td>\n",
       "      <td>CL:.</td>\n",
       "    </tr>\n",
       "    <tr>\n",
       "      <th>H11.MAA000594.3_8_M.1.1</th>\n",
       "      <td>unknown</td>\n",
       "      <td>MAA000594</td>\n",
       "      <td>NaN</td>\n",
       "      <td>Aorta</td>\n",
       "      <td>unknown</td>\n",
       "      <td>unknown</td>\n",
       "      <td>NaN</td>\n",
       "      <td>CL:.</td>\n",
       "    </tr>\n",
       "    <tr>\n",
       "      <th>A22.MAA000594.3_8_M.1.1</th>\n",
       "      <td>unknown</td>\n",
       "      <td>MAA000594</td>\n",
       "      <td>NaN</td>\n",
       "      <td>Aorta</td>\n",
       "      <td>unknown</td>\n",
       "      <td>unknown</td>\n",
       "      <td>NaN</td>\n",
       "      <td>CL:.</td>\n",
       "    </tr>\n",
       "    <tr>\n",
       "      <th>H12.MAA000594.3_8_M.1.1</th>\n",
       "      <td>adipocytes</td>\n",
       "      <td>MAA000594</td>\n",
       "      <td>NaN</td>\n",
       "      <td>Aorta</td>\n",
       "      <td>adipocytes</td>\n",
       "      <td>epicardial adipocyte</td>\n",
       "      <td>http://purl.obolibrary.org/obo/CL_1000309</td>\n",
       "      <td>CL:1000309</td>\n",
       "    </tr>\n",
       "  </tbody>\n",
       "</table>\n",
       "</div>"
      ],
      "text/plain": [
       "                          annotation plate.barcode subannotation tissue  \\\n",
       "A21.MAA000594.3_8_M.1.1  fibroblasts     MAA000594           NaN  Aorta   \n",
       "F8.MAA000594.3_8_M.1.1       unknown     MAA000594           NaN  Aorta   \n",
       "H11.MAA000594.3_8_M.1.1      unknown     MAA000594           NaN  Aorta   \n",
       "A22.MAA000594.3_8_M.1.1      unknown     MAA000594           NaN  Aorta   \n",
       "H12.MAA000594.3_8_M.1.1   adipocytes     MAA000594           NaN  Aorta   \n",
       "\n",
       "                        annotation_subannotation   cell_ontology_class  \\\n",
       "A21.MAA000594.3_8_M.1.1              fibroblasts            fibroblast   \n",
       "F8.MAA000594.3_8_M.1.1                   unknown               unknown   \n",
       "H11.MAA000594.3_8_M.1.1                  unknown               unknown   \n",
       "A22.MAA000594.3_8_M.1.1                  unknown               unknown   \n",
       "H12.MAA000594.3_8_M.1.1               adipocytes  epicardial adipocyte   \n",
       "\n",
       "                                            cell_ontology_term_iri  \\\n",
       "A21.MAA000594.3_8_M.1.1  http://purl.obolibrary.org/obo/CL_0000057   \n",
       "F8.MAA000594.3_8_M.1.1                                         NaN   \n",
       "H11.MAA000594.3_8_M.1.1                                        NaN   \n",
       "A22.MAA000594.3_8_M.1.1                                        NaN   \n",
       "H12.MAA000594.3_8_M.1.1  http://purl.obolibrary.org/obo/CL_1000309   \n",
       "\n",
       "                        cell_ontology_id  \n",
       "A21.MAA000594.3_8_M.1.1       CL:0000057  \n",
       "F8.MAA000594.3_8_M.1.1              CL:.  \n",
       "H11.MAA000594.3_8_M.1.1             CL:.  \n",
       "A22.MAA000594.3_8_M.1.1             CL:.  \n",
       "H12.MAA000594.3_8_M.1.1       CL:1000309  "
      ]
     },
     "execution_count": 3,
     "metadata": {},
     "output_type": "execute_result"
    }
   ],
   "source": [
    "csv = os.path.join(metadata_folder, 'maca_3month_annotations_plates_ontology.csv')\n",
    "metadata = pd.read_csv(csv, index_col=0)\n",
    "print(metadata.shape)\n",
    "metadata.head()"
   ]
  },
  {
   "cell_type": "code",
   "execution_count": 5,
   "metadata": {},
   "outputs": [
    {
     "name": "stdout",
     "output_type": "stream",
     "text": [
      "(196, 8)\n"
     ]
    },
    {
     "data": {
      "text/html": [
       "<div>\n",
       "<style>\n",
       "    .dataframe thead tr:only-child th {\n",
       "        text-align: right;\n",
       "    }\n",
       "\n",
       "    .dataframe thead th {\n",
       "        text-align: left;\n",
       "    }\n",
       "\n",
       "    .dataframe tbody tr th {\n",
       "        vertical-align: top;\n",
       "    }\n",
       "</style>\n",
       "<table border=\"1\" class=\"dataframe\">\n",
       "  <thead>\n",
       "    <tr style=\"text-align: right;\">\n",
       "      <th></th>\n",
       "      <th>annotation</th>\n",
       "      <th>plate.barcode</th>\n",
       "      <th>subannotation</th>\n",
       "      <th>tissue</th>\n",
       "      <th>annotation_subannotation</th>\n",
       "      <th>cell_ontology_class</th>\n",
       "      <th>cell_ontology_term_iri</th>\n",
       "      <th>cell_ontology_id</th>\n",
       "    </tr>\n",
       "  </thead>\n",
       "  <tbody>\n",
       "    <tr>\n",
       "      <th>H11.MAA000538.3_8_M.1.1</th>\n",
       "      <td>neurons</td>\n",
       "      <td>MAA000538</td>\n",
       "      <td>excitatory</td>\n",
       "      <td>Brain_Neurons</td>\n",
       "      <td>neurons: excitatory</td>\n",
       "      <td>neuron</td>\n",
       "      <td>http://purl.obolibrary.org/obo/CL_0000540</td>\n",
       "      <td>CL:0000540</td>\n",
       "    </tr>\n",
       "    <tr>\n",
       "      <th>O9.MAA000560.3_10_M.1.1</th>\n",
       "      <td>neurons</td>\n",
       "      <td>MAA000560</td>\n",
       "      <td>inhibitory</td>\n",
       "      <td>Brain_Neurons</td>\n",
       "      <td>neurons: inhibitory</td>\n",
       "      <td>neuron</td>\n",
       "      <td>http://purl.obolibrary.org/obo/CL_0000540</td>\n",
       "      <td>CL:0000540</td>\n",
       "    </tr>\n",
       "    <tr>\n",
       "      <th>I16.MAA000561.3_10_M.1.1</th>\n",
       "      <td>neurons</td>\n",
       "      <td>MAA000561</td>\n",
       "      <td>inhibitory</td>\n",
       "      <td>Brain_Neurons</td>\n",
       "      <td>neurons: inhibitory</td>\n",
       "      <td>neuron</td>\n",
       "      <td>http://purl.obolibrary.org/obo/CL_0000540</td>\n",
       "      <td>CL:0000540</td>\n",
       "    </tr>\n",
       "    <tr>\n",
       "      <th>A16.MAA000561.3_10_M.1.1</th>\n",
       "      <td>neurons</td>\n",
       "      <td>MAA000561</td>\n",
       "      <td>excitatory</td>\n",
       "      <td>Brain_Neurons</td>\n",
       "      <td>neurons: excitatory</td>\n",
       "      <td>neuron</td>\n",
       "      <td>http://purl.obolibrary.org/obo/CL_0000540</td>\n",
       "      <td>CL:0000540</td>\n",
       "    </tr>\n",
       "    <tr>\n",
       "      <th>A18.MAA000561.3_10_M.1.1</th>\n",
       "      <td>neurons</td>\n",
       "      <td>MAA000561</td>\n",
       "      <td>excitatory</td>\n",
       "      <td>Brain_Neurons</td>\n",
       "      <td>neurons: excitatory</td>\n",
       "      <td>neuron</td>\n",
       "      <td>http://purl.obolibrary.org/obo/CL_0000540</td>\n",
       "      <td>CL:0000540</td>\n",
       "    </tr>\n",
       "  </tbody>\n",
       "</table>\n",
       "</div>"
      ],
      "text/plain": [
       "                         annotation plate.barcode subannotation  \\\n",
       "H11.MAA000538.3_8_M.1.1     neurons     MAA000538    excitatory   \n",
       "O9.MAA000560.3_10_M.1.1     neurons     MAA000560    inhibitory   \n",
       "I16.MAA000561.3_10_M.1.1    neurons     MAA000561    inhibitory   \n",
       "A16.MAA000561.3_10_M.1.1    neurons     MAA000561    excitatory   \n",
       "A18.MAA000561.3_10_M.1.1    neurons     MAA000561    excitatory   \n",
       "\n",
       "                                 tissue annotation_subannotation  \\\n",
       "H11.MAA000538.3_8_M.1.1   Brain_Neurons      neurons: excitatory   \n",
       "O9.MAA000560.3_10_M.1.1   Brain_Neurons      neurons: inhibitory   \n",
       "I16.MAA000561.3_10_M.1.1  Brain_Neurons      neurons: inhibitory   \n",
       "A16.MAA000561.3_10_M.1.1  Brain_Neurons      neurons: excitatory   \n",
       "A18.MAA000561.3_10_M.1.1  Brain_Neurons      neurons: excitatory   \n",
       "\n",
       "                         cell_ontology_class  \\\n",
       "H11.MAA000538.3_8_M.1.1               neuron   \n",
       "O9.MAA000560.3_10_M.1.1               neuron   \n",
       "I16.MAA000561.3_10_M.1.1              neuron   \n",
       "A16.MAA000561.3_10_M.1.1              neuron   \n",
       "A18.MAA000561.3_10_M.1.1              neuron   \n",
       "\n",
       "                                             cell_ontology_term_iri  \\\n",
       "H11.MAA000538.3_8_M.1.1   http://purl.obolibrary.org/obo/CL_0000540   \n",
       "O9.MAA000560.3_10_M.1.1   http://purl.obolibrary.org/obo/CL_0000540   \n",
       "I16.MAA000561.3_10_M.1.1  http://purl.obolibrary.org/obo/CL_0000540   \n",
       "A16.MAA000561.3_10_M.1.1  http://purl.obolibrary.org/obo/CL_0000540   \n",
       "A18.MAA000561.3_10_M.1.1  http://purl.obolibrary.org/obo/CL_0000540   \n",
       "\n",
       "                         cell_ontology_id  \n",
       "H11.MAA000538.3_8_M.1.1        CL:0000540  \n",
       "O9.MAA000560.3_10_M.1.1        CL:0000540  \n",
       "I16.MAA000561.3_10_M.1.1       CL:0000540  \n",
       "A16.MAA000561.3_10_M.1.1       CL:0000540  \n",
       "A18.MAA000561.3_10_M.1.1       CL:0000540  "
      ]
     },
     "execution_count": 5,
     "metadata": {},
     "output_type": "execute_result"
    }
   ],
   "source": [
    "neurons = metadata.query('cell_ontology_class == \"neuron\"')\n",
    "print(neurons.shape)\n",
    "neurons.head()"
   ]
  },
  {
   "cell_type": "code",
   "execution_count": 6,
   "metadata": {},
   "outputs": [
    {
     "data": {
      "text/plain": [
       "Index(['H11-MAA000538-3_8_M-1-1', 'O9-MAA000560-3_10_M-1-1',\n",
       "       'I16-MAA000561-3_10_M-1-1', 'A16-MAA000561-3_10_M-1-1',\n",
       "       'A18-MAA000561-3_10_M-1-1', 'A17-MAA000561-3_10_M-1-1',\n",
       "       'D22-MAA000561-3_10_M-1-1', 'A19-MAA000561-3_10_M-1-1',\n",
       "       'J15-MAA000561-3_10_M-1-1', 'J16-MAA000561-3_10_M-1-1',\n",
       "       ...\n",
       "       'H20-B003290-3_38_F-1-1', 'A17-B003290-3_38_F-1-1',\n",
       "       'B21-B003290-3_38_F-1-1', 'D19-B003290-3_38_F-1-1',\n",
       "       'A20-B003290-3_38_F-1-1', 'B22-B003290-3_38_F-1-1',\n",
       "       'D22-B003290-3_38_F-1-1', 'F21-B003290-3_38_F-1-1',\n",
       "       'P7-B000404-3_56_F-1-1', 'P8-B000404-3_56_F-1-1'],\n",
       "      dtype='object', length=196)"
      ]
     },
     "execution_count": 6,
     "metadata": {},
     "output_type": "execute_result"
    }
   ],
   "source": [
    "neuron_ids = neurons.index.map(lambda x: x.replace('.', '-'))\n",
    "neuron_ids"
   ]
  },
  {
   "cell_type": "code",
   "execution_count": 9,
   "metadata": {},
   "outputs": [
    {
     "data": {
      "text/plain": [
       "Index(['--include H11-MAA000538-3_8_M-1-1',\n",
       "       '--include O9-MAA000560-3_10_M-1-1',\n",
       "       '--include I16-MAA000561-3_10_M-1-1',\n",
       "       '--include A16-MAA000561-3_10_M-1-1',\n",
       "       '--include A18-MAA000561-3_10_M-1-1',\n",
       "       '--include A17-MAA000561-3_10_M-1-1',\n",
       "       '--include D22-MAA000561-3_10_M-1-1',\n",
       "       '--include A19-MAA000561-3_10_M-1-1',\n",
       "       '--include J15-MAA000561-3_10_M-1-1',\n",
       "       '--include J16-MAA000561-3_10_M-1-1',\n",
       "       ...\n",
       "       '--include H20-B003290-3_38_F-1-1', '--include A17-B003290-3_38_F-1-1',\n",
       "       '--include B21-B003290-3_38_F-1-1', '--include D19-B003290-3_38_F-1-1',\n",
       "       '--include A20-B003290-3_38_F-1-1', '--include B22-B003290-3_38_F-1-1',\n",
       "       '--include D22-B003290-3_38_F-1-1', '--include F21-B003290-3_38_F-1-1',\n",
       "       '--include P7-B000404-3_56_F-1-1', '--include P8-B000404-3_56_F-1-1'],\n",
       "      dtype='object', length=196)"
      ]
     },
     "execution_count": 9,
     "metadata": {},
     "output_type": "execute_result"
    }
   ],
   "source": [
    "flags = '--include ' + neuron_ids\n",
    "flags"
   ]
  },
  {
   "cell_type": "code",
   "execution_count": null,
   "metadata": {
    "collapsed": true
   },
   "outputs": [],
   "source": []
  },
  {
   "cell_type": "code",
   "execution_count": null,
   "metadata": {
    "collapsed": true
   },
   "outputs": [],
   "source": [
    "! aws s3 cp --dryrun s3://czbiohub-maca/remux_data/*/results/"
   ]
  }
 ],
 "metadata": {
  "kernelspec": {
   "display_name": "Python 3 (MACA)",
   "language": "python",
   "name": "maca"
  },
  "language_info": {
   "codemirror_mode": {
    "name": "ipython",
    "version": 3
   },
   "file_extension": ".py",
   "mimetype": "text/x-python",
   "name": "python",
   "nbconvert_exporter": "python",
   "pygments_lexer": "ipython3",
   "version": "3.6.1"
  }
 },
 "nbformat": 4,
 "nbformat_minor": 2
}
