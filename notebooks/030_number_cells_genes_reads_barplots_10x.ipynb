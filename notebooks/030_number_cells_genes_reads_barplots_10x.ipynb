{
 "cells": [
  {
   "cell_type": "code",
   "execution_count": 1,
   "metadata": {
    "collapsed": true
   },
   "outputs": [],
   "source": [
    "import pandas as pd\n",
    "import os\n",
    "\n",
    "from maca import clean_annotation, clean_labels\n",
    "\n",
    "metadata_folder = os.path.join('..', 'metadata' )"
   ]
  },
  {
   "cell_type": "code",
   "execution_count": 2,
   "metadata": {},
   "outputs": [
    {
     "name": "stderr",
     "output_type": "stream",
     "text": [
      "/Users/olgabot/anaconda3/envs/maca/lib/python3.6/site-packages/IPython/html.py:14: ShimWarning: The `IPython.html` package has been deprecated since IPython 4.0. You should import from `notebook` instead. `IPython.html.widgets` has moved to `ipywidgets`.\n",
      "  \"`IPython.html.widgets` has moved to `ipywidgets`.\", ShimWarning)\n"
     ]
    }
   ],
   "source": [
    "import pandas as pd\n",
    "import matplotlib.pyplot as plt\n",
    "import matplotlib\n",
    "import seaborn as sns\n",
    "\n",
    "# Editable text and proper LaTeX fonts in illustrator\n",
    "matplotlib.rcParams['ps.useafm'] = True\n",
    "# matplotlib.rcParams['pdf.use14corefonts'] = True\n",
    "\n",
    "# Editable fonts. 42 is the magic number\n",
    "matplotlib.rcParams['pdf.fonttype'] = 42\n",
    "\n",
    "# Use \"Computer Modern\" (LaTeX font) for math numbers\n",
    "matplotlib.rcParams['mathtext.fontset'] = 'cm'\n",
    "%matplotlib inline\n",
    "\n",
    "sns.set(style='whitegrid', context='paper')"
   ]
  },
  {
   "cell_type": "code",
   "execution_count": 3,
   "metadata": {},
   "outputs": [
    {
     "name": "stdout",
     "output_type": "stream",
     "text": [
      "(94, 14)\n"
     ]
    },
    {
     "data": {
      "text/html": [
       "<div>\n",
       "<style>\n",
       "    .dataframe thead tr:only-child th {\n",
       "        text-align: right;\n",
       "    }\n",
       "\n",
       "    .dataframe thead th {\n",
       "        text-align: left;\n",
       "    }\n",
       "\n",
       "    .dataframe tbody tr th {\n",
       "        vertical-align: top;\n",
       "    }\n",
       "</style>\n",
       "<table border=\"1\" class=\"dataframe\">\n",
       "  <thead>\n",
       "    <tr style=\"text-align: right;\">\n",
       "      <th></th>\n",
       "      <th>tenx.index</th>\n",
       "      <th>mouse.id</th>\n",
       "      <th>tissue</th>\n",
       "      <th>tissue.notes</th>\n",
       "      <th>mouse.age</th>\n",
       "      <th>mouse.sex</th>\n",
       "      <th>mouse.parabiont</th>\n",
       "      <th>mouse.parabiont_pair</th>\n",
       "      <th>pool</th>\n",
       "      <th>url.csv</th>\n",
       "      <th>url.mtx</th>\n",
       "      <th>url.genes</th>\n",
       "      <th>url.barcodes</th>\n",
       "      <th>tissue_v2</th>\n",
       "    </tr>\n",
       "    <tr>\n",
       "      <th>channel</th>\n",
       "      <th></th>\n",
       "      <th></th>\n",
       "      <th></th>\n",
       "      <th></th>\n",
       "      <th></th>\n",
       "      <th></th>\n",
       "      <th></th>\n",
       "      <th></th>\n",
       "      <th></th>\n",
       "      <th></th>\n",
       "      <th></th>\n",
       "      <th></th>\n",
       "      <th></th>\n",
       "      <th></th>\n",
       "    </tr>\n",
       "  </thead>\n",
       "  <tbody>\n",
       "    <tr>\n",
       "      <th>10X_P1_1</th>\n",
       "      <td>A3</td>\n",
       "      <td>30-M-2</td>\n",
       "      <td>Kidney</td>\n",
       "      <td>KIDNEY</td>\n",
       "      <td>30</td>\n",
       "      <td>M</td>\n",
       "      <td>False</td>\n",
       "      <td>NaN</td>\n",
       "      <td>1</td>\n",
       "      <td>https://s3.amazonaws.com/czbiohub-maca/10x_dat...</td>\n",
       "      <td>https://s3.amazonaws.com/czbiohub-maca/10x_dat...</td>\n",
       "      <td>https://s3.amazonaws.com/czbiohub-maca/10x_dat...</td>\n",
       "      <td>https://s3.amazonaws.com/czbiohub-maca/10x_dat...</td>\n",
       "      <td>Kidney</td>\n",
       "    </tr>\n",
       "    <tr>\n",
       "      <th>10X_P1_2</th>\n",
       "      <td>B3</td>\n",
       "      <td>30-M-2</td>\n",
       "      <td>Spleen</td>\n",
       "      <td>SPLEEN</td>\n",
       "      <td>30</td>\n",
       "      <td>M</td>\n",
       "      <td>False</td>\n",
       "      <td>NaN</td>\n",
       "      <td>1</td>\n",
       "      <td>https://s3.amazonaws.com/czbiohub-maca/10x_dat...</td>\n",
       "      <td>https://s3.amazonaws.com/czbiohub-maca/10x_dat...</td>\n",
       "      <td>https://s3.amazonaws.com/czbiohub-maca/10x_dat...</td>\n",
       "      <td>https://s3.amazonaws.com/czbiohub-maca/10x_dat...</td>\n",
       "      <td>Spleen</td>\n",
       "    </tr>\n",
       "    <tr>\n",
       "      <th>10X_P1_3</th>\n",
       "      <td>C3</td>\n",
       "      <td>30-M-2</td>\n",
       "      <td>Heart</td>\n",
       "      <td>HEART (ALL MINUS AORTA)</td>\n",
       "      <td>30</td>\n",
       "      <td>M</td>\n",
       "      <td>False</td>\n",
       "      <td>NaN</td>\n",
       "      <td>1</td>\n",
       "      <td>https://s3.amazonaws.com/czbiohub-maca/10x_dat...</td>\n",
       "      <td>https://s3.amazonaws.com/czbiohub-maca/10x_dat...</td>\n",
       "      <td>https://s3.amazonaws.com/czbiohub-maca/10x_dat...</td>\n",
       "      <td>https://s3.amazonaws.com/czbiohub-maca/10x_dat...</td>\n",
       "      <td>Heart</td>\n",
       "    </tr>\n",
       "    <tr>\n",
       "      <th>10X_P1_4</th>\n",
       "      <td>D3</td>\n",
       "      <td>30-M-2</td>\n",
       "      <td>Heart</td>\n",
       "      <td>HEART (LV+RV ONLY)</td>\n",
       "      <td>30</td>\n",
       "      <td>M</td>\n",
       "      <td>False</td>\n",
       "      <td>NaN</td>\n",
       "      <td>1</td>\n",
       "      <td>https://s3.amazonaws.com/czbiohub-maca/10x_dat...</td>\n",
       "      <td>https://s3.amazonaws.com/czbiohub-maca/10x_dat...</td>\n",
       "      <td>https://s3.amazonaws.com/czbiohub-maca/10x_dat...</td>\n",
       "      <td>https://s3.amazonaws.com/czbiohub-maca/10x_dat...</td>\n",
       "      <td>Heart</td>\n",
       "    </tr>\n",
       "    <tr>\n",
       "      <th>10X_P1_5</th>\n",
       "      <td>E3</td>\n",
       "      <td>30-M-2</td>\n",
       "      <td>Marrow</td>\n",
       "      <td>BM (NON-STC)</td>\n",
       "      <td>30</td>\n",
       "      <td>M</td>\n",
       "      <td>False</td>\n",
       "      <td>NaN</td>\n",
       "      <td>1</td>\n",
       "      <td>https://s3.amazonaws.com/czbiohub-maca/10x_dat...</td>\n",
       "      <td>https://s3.amazonaws.com/czbiohub-maca/10x_dat...</td>\n",
       "      <td>https://s3.amazonaws.com/czbiohub-maca/10x_dat...</td>\n",
       "      <td>https://s3.amazonaws.com/czbiohub-maca/10x_dat...</td>\n",
       "      <td>Marrow</td>\n",
       "    </tr>\n",
       "  </tbody>\n",
       "</table>\n",
       "</div>"
      ],
      "text/plain": [
       "         tenx.index mouse.id  tissue             tissue.notes  mouse.age  \\\n",
       "channel                                                                    \n",
       "10X_P1_1         A3   30-M-2  Kidney                   KIDNEY         30   \n",
       "10X_P1_2         B3   30-M-2  Spleen                   SPLEEN         30   \n",
       "10X_P1_3         C3   30-M-2   Heart  HEART (ALL MINUS AORTA)         30   \n",
       "10X_P1_4         D3   30-M-2   Heart       HEART (LV+RV ONLY)         30   \n",
       "10X_P1_5         E3   30-M-2  Marrow             BM (NON-STC)         30   \n",
       "\n",
       "         mouse.sex  mouse.parabiont mouse.parabiont_pair  pool  \\\n",
       "channel                                                          \n",
       "10X_P1_1         M            False                  NaN     1   \n",
       "10X_P1_2         M            False                  NaN     1   \n",
       "10X_P1_3         M            False                  NaN     1   \n",
       "10X_P1_4         M            False                  NaN     1   \n",
       "10X_P1_5         M            False                  NaN     1   \n",
       "\n",
       "                                                    url.csv  \\\n",
       "channel                                                       \n",
       "10X_P1_1  https://s3.amazonaws.com/czbiohub-maca/10x_dat...   \n",
       "10X_P1_2  https://s3.amazonaws.com/czbiohub-maca/10x_dat...   \n",
       "10X_P1_3  https://s3.amazonaws.com/czbiohub-maca/10x_dat...   \n",
       "10X_P1_4  https://s3.amazonaws.com/czbiohub-maca/10x_dat...   \n",
       "10X_P1_5  https://s3.amazonaws.com/czbiohub-maca/10x_dat...   \n",
       "\n",
       "                                                    url.mtx  \\\n",
       "channel                                                       \n",
       "10X_P1_1  https://s3.amazonaws.com/czbiohub-maca/10x_dat...   \n",
       "10X_P1_2  https://s3.amazonaws.com/czbiohub-maca/10x_dat...   \n",
       "10X_P1_3  https://s3.amazonaws.com/czbiohub-maca/10x_dat...   \n",
       "10X_P1_4  https://s3.amazonaws.com/czbiohub-maca/10x_dat...   \n",
       "10X_P1_5  https://s3.amazonaws.com/czbiohub-maca/10x_dat...   \n",
       "\n",
       "                                                  url.genes  \\\n",
       "channel                                                       \n",
       "10X_P1_1  https://s3.amazonaws.com/czbiohub-maca/10x_dat...   \n",
       "10X_P1_2  https://s3.amazonaws.com/czbiohub-maca/10x_dat...   \n",
       "10X_P1_3  https://s3.amazonaws.com/czbiohub-maca/10x_dat...   \n",
       "10X_P1_4  https://s3.amazonaws.com/czbiohub-maca/10x_dat...   \n",
       "10X_P1_5  https://s3.amazonaws.com/czbiohub-maca/10x_dat...   \n",
       "\n",
       "                                               url.barcodes tissue_v2  \n",
       "channel                                                                \n",
       "10X_P1_1  https://s3.amazonaws.com/czbiohub-maca/10x_dat...    Kidney  \n",
       "10X_P1_2  https://s3.amazonaws.com/czbiohub-maca/10x_dat...    Spleen  \n",
       "10X_P1_3  https://s3.amazonaws.com/czbiohub-maca/10x_dat...     Heart  \n",
       "10X_P1_4  https://s3.amazonaws.com/czbiohub-maca/10x_dat...     Heart  \n",
       "10X_P1_5  https://s3.amazonaws.com/czbiohub-maca/10x_dat...    Marrow  "
      ]
     },
     "execution_count": 3,
     "metadata": {},
     "output_type": "execute_result"
    }
   ],
   "source": [
    "csv = os.path.join(metadata_folder, 'MACA_10x.csv')\n",
    "tenx_metadata = pd.read_csv(csv, index_col=0)\n",
    "print(tenx_metadata.shape)\n",
    "tenx_metadata.head()"
   ]
  },
  {
   "cell_type": "code",
   "execution_count": 4,
   "metadata": {
    "collapsed": true
   },
   "outputs": [],
   "source": [
    "# tenx_metadata = tenx_metadata.replace(\"Mammary\", 'Mammary_Gland')"
   ]
  },
  {
   "cell_type": "code",
   "execution_count": 5,
   "metadata": {},
   "outputs": [
    {
     "name": "stdout",
     "output_type": "stream",
     "text": [
      "(28, 14)\n"
     ]
    },
    {
     "data": {
      "text/html": [
       "<div>\n",
       "<style>\n",
       "    .dataframe thead tr:only-child th {\n",
       "        text-align: right;\n",
       "    }\n",
       "\n",
       "    .dataframe thead th {\n",
       "        text-align: left;\n",
       "    }\n",
       "\n",
       "    .dataframe tbody tr th {\n",
       "        vertical-align: top;\n",
       "    }\n",
       "</style>\n",
       "<table border=\"1\" class=\"dataframe\">\n",
       "  <thead>\n",
       "    <tr style=\"text-align: right;\">\n",
       "      <th></th>\n",
       "      <th>tenx.index</th>\n",
       "      <th>mouse.id</th>\n",
       "      <th>tissue</th>\n",
       "      <th>tissue.notes</th>\n",
       "      <th>mouse.age</th>\n",
       "      <th>mouse.sex</th>\n",
       "      <th>mouse.parabiont</th>\n",
       "      <th>mouse.parabiont_pair</th>\n",
       "      <th>pool</th>\n",
       "      <th>url.csv</th>\n",
       "      <th>url.mtx</th>\n",
       "      <th>url.genes</th>\n",
       "      <th>url.barcodes</th>\n",
       "      <th>tissue_v2</th>\n",
       "    </tr>\n",
       "    <tr>\n",
       "      <th>channel</th>\n",
       "      <th></th>\n",
       "      <th></th>\n",
       "      <th></th>\n",
       "      <th></th>\n",
       "      <th></th>\n",
       "      <th></th>\n",
       "      <th></th>\n",
       "      <th></th>\n",
       "      <th></th>\n",
       "      <th></th>\n",
       "      <th></th>\n",
       "      <th></th>\n",
       "      <th></th>\n",
       "      <th></th>\n",
       "    </tr>\n",
       "  </thead>\n",
       "  <tbody>\n",
       "    <tr>\n",
       "      <th>10X_P4_0</th>\n",
       "      <td>A8</td>\n",
       "      <td>3-M-8</td>\n",
       "      <td>Tongue</td>\n",
       "      <td>TONGUE</td>\n",
       "      <td>3</td>\n",
       "      <td>M</td>\n",
       "      <td>False</td>\n",
       "      <td>NaN</td>\n",
       "      <td>4</td>\n",
       "      <td>https://s3.amazonaws.com/czbiohub-maca/10x_dat...</td>\n",
       "      <td>https://s3.amazonaws.com/czbiohub-maca/10x_dat...</td>\n",
       "      <td>https://s3.amazonaws.com/czbiohub-maca/10x_dat...</td>\n",
       "      <td>https://s3.amazonaws.com/czbiohub-maca/10x_dat...</td>\n",
       "      <td>Tongue</td>\n",
       "    </tr>\n",
       "    <tr>\n",
       "      <th>10X_P4_1</th>\n",
       "      <td>B8</td>\n",
       "      <td>3-M-9</td>\n",
       "      <td>Tongue</td>\n",
       "      <td>TONGUE</td>\n",
       "      <td>3</td>\n",
       "      <td>M</td>\n",
       "      <td>False</td>\n",
       "      <td>NaN</td>\n",
       "      <td>4</td>\n",
       "      <td>https://s3.amazonaws.com/czbiohub-maca/10x_dat...</td>\n",
       "      <td>https://s3.amazonaws.com/czbiohub-maca/10x_dat...</td>\n",
       "      <td>https://s3.amazonaws.com/czbiohub-maca/10x_dat...</td>\n",
       "      <td>https://s3.amazonaws.com/czbiohub-maca/10x_dat...</td>\n",
       "      <td>Tongue</td>\n",
       "    </tr>\n",
       "    <tr>\n",
       "      <th>10X_P4_2</th>\n",
       "      <td>C8</td>\n",
       "      <td>3-M-8/9</td>\n",
       "      <td>Liver</td>\n",
       "      <td>HEPATOCYTES</td>\n",
       "      <td>3</td>\n",
       "      <td>M</td>\n",
       "      <td>False</td>\n",
       "      <td>NaN</td>\n",
       "      <td>4</td>\n",
       "      <td>https://s3.amazonaws.com/czbiohub-maca/10x_dat...</td>\n",
       "      <td>https://s3.amazonaws.com/czbiohub-maca/10x_dat...</td>\n",
       "      <td>https://s3.amazonaws.com/czbiohub-maca/10x_dat...</td>\n",
       "      <td>https://s3.amazonaws.com/czbiohub-maca/10x_dat...</td>\n",
       "      <td>Liver</td>\n",
       "    </tr>\n",
       "    <tr>\n",
       "      <th>10X_P4_3</th>\n",
       "      <td>D8</td>\n",
       "      <td>3-M-8</td>\n",
       "      <td>Bladder</td>\n",
       "      <td>BLADDER</td>\n",
       "      <td>3</td>\n",
       "      <td>M</td>\n",
       "      <td>False</td>\n",
       "      <td>NaN</td>\n",
       "      <td>4</td>\n",
       "      <td>https://s3.amazonaws.com/czbiohub-maca/10x_dat...</td>\n",
       "      <td>https://s3.amazonaws.com/czbiohub-maca/10x_dat...</td>\n",
       "      <td>https://s3.amazonaws.com/czbiohub-maca/10x_dat...</td>\n",
       "      <td>https://s3.amazonaws.com/czbiohub-maca/10x_dat...</td>\n",
       "      <td>Bladder</td>\n",
       "    </tr>\n",
       "    <tr>\n",
       "      <th>10X_P4_4</th>\n",
       "      <td>E8</td>\n",
       "      <td>3-M-9</td>\n",
       "      <td>Bladder</td>\n",
       "      <td>BLADDER</td>\n",
       "      <td>3</td>\n",
       "      <td>M</td>\n",
       "      <td>False</td>\n",
       "      <td>NaN</td>\n",
       "      <td>4</td>\n",
       "      <td>https://s3.amazonaws.com/czbiohub-maca/10x_dat...</td>\n",
       "      <td>https://s3.amazonaws.com/czbiohub-maca/10x_dat...</td>\n",
       "      <td>https://s3.amazonaws.com/czbiohub-maca/10x_dat...</td>\n",
       "      <td>https://s3.amazonaws.com/czbiohub-maca/10x_dat...</td>\n",
       "      <td>Bladder</td>\n",
       "    </tr>\n",
       "  </tbody>\n",
       "</table>\n",
       "</div>"
      ],
      "text/plain": [
       "         tenx.index mouse.id   tissue tissue.notes  mouse.age mouse.sex  \\\n",
       "channel                                                                   \n",
       "10X_P4_0         A8    3-M-8   Tongue       TONGUE          3         M   \n",
       "10X_P4_1         B8    3-M-9   Tongue       TONGUE          3         M   \n",
       "10X_P4_2         C8  3-M-8/9    Liver  HEPATOCYTES          3         M   \n",
       "10X_P4_3         D8    3-M-8  Bladder      BLADDER          3         M   \n",
       "10X_P4_4         E8    3-M-9  Bladder      BLADDER          3         M   \n",
       "\n",
       "          mouse.parabiont mouse.parabiont_pair  pool  \\\n",
       "channel                                                \n",
       "10X_P4_0            False                  NaN     4   \n",
       "10X_P4_1            False                  NaN     4   \n",
       "10X_P4_2            False                  NaN     4   \n",
       "10X_P4_3            False                  NaN     4   \n",
       "10X_P4_4            False                  NaN     4   \n",
       "\n",
       "                                                    url.csv  \\\n",
       "channel                                                       \n",
       "10X_P4_0  https://s3.amazonaws.com/czbiohub-maca/10x_dat...   \n",
       "10X_P4_1  https://s3.amazonaws.com/czbiohub-maca/10x_dat...   \n",
       "10X_P4_2  https://s3.amazonaws.com/czbiohub-maca/10x_dat...   \n",
       "10X_P4_3  https://s3.amazonaws.com/czbiohub-maca/10x_dat...   \n",
       "10X_P4_4  https://s3.amazonaws.com/czbiohub-maca/10x_dat...   \n",
       "\n",
       "                                                    url.mtx  \\\n",
       "channel                                                       \n",
       "10X_P4_0  https://s3.amazonaws.com/czbiohub-maca/10x_dat...   \n",
       "10X_P4_1  https://s3.amazonaws.com/czbiohub-maca/10x_dat...   \n",
       "10X_P4_2  https://s3.amazonaws.com/czbiohub-maca/10x_dat...   \n",
       "10X_P4_3  https://s3.amazonaws.com/czbiohub-maca/10x_dat...   \n",
       "10X_P4_4  https://s3.amazonaws.com/czbiohub-maca/10x_dat...   \n",
       "\n",
       "                                                  url.genes  \\\n",
       "channel                                                       \n",
       "10X_P4_0  https://s3.amazonaws.com/czbiohub-maca/10x_dat...   \n",
       "10X_P4_1  https://s3.amazonaws.com/czbiohub-maca/10x_dat...   \n",
       "10X_P4_2  https://s3.amazonaws.com/czbiohub-maca/10x_dat...   \n",
       "10X_P4_3  https://s3.amazonaws.com/czbiohub-maca/10x_dat...   \n",
       "10X_P4_4  https://s3.amazonaws.com/czbiohub-maca/10x_dat...   \n",
       "\n",
       "                                               url.barcodes tissue_v2  \n",
       "channel                                                                \n",
       "10X_P4_0  https://s3.amazonaws.com/czbiohub-maca/10x_dat...    Tongue  \n",
       "10X_P4_1  https://s3.amazonaws.com/czbiohub-maca/10x_dat...    Tongue  \n",
       "10X_P4_2  https://s3.amazonaws.com/czbiohub-maca/10x_dat...     Liver  \n",
       "10X_P4_3  https://s3.amazonaws.com/czbiohub-maca/10x_dat...   Bladder  \n",
       "10X_P4_4  https://s3.amazonaws.com/czbiohub-maca/10x_dat...   Bladder  "
      ]
     },
     "execution_count": 5,
     "metadata": {},
     "output_type": "execute_result"
    }
   ],
   "source": [
    "tenx_metadata_3month = tenx_metadata.loc[tenx_metadata['mouse.age'] == 3]\n",
    "print(tenx_metadata_3month.shape)\n",
    "tenx_metadata_3month.head()"
   ]
  },
  {
   "cell_type": "code",
   "execution_count": 6,
   "metadata": {},
   "outputs": [
    {
     "data": {
      "text/plain": [
       "tissue_v2\n",
       "Bladder    3\n",
       "Heart      1\n",
       "Kidney     3\n",
       "Liver      3\n",
       "Lung       4\n",
       "Mammary    2\n",
       "Marrow     2\n",
       "Muscle     2\n",
       "Spleen     2\n",
       "Thymus     1\n",
       "Tongue     3\n",
       "Trachea    2\n",
       "dtype: int64"
      ]
     },
     "execution_count": 6,
     "metadata": {},
     "output_type": "execute_result"
    }
   ],
   "source": [
    "tissue_n_channels = tenx_metadata_3month.groupby('tissue_v2').size()\n",
    "tissue_n_channels"
   ]
  },
  {
   "cell_type": "code",
   "execution_count": 7,
   "metadata": {
    "collapsed": true
   },
   "outputs": [],
   "source": [
    "tissues = tissue_n_channels.index"
   ]
  },
  {
   "cell_type": "code",
   "execution_count": 8,
   "metadata": {},
   "outputs": [
    {
     "data": {
      "text/plain": [
       "12"
      ]
     },
     "execution_count": 8,
     "metadata": {},
     "output_type": "execute_result"
    }
   ],
   "source": [
    "len(tissue_n_channels)"
   ]
  },
  {
   "cell_type": "code",
   "execution_count": 9,
   "metadata": {},
   "outputs": [
    {
     "name": "stdout",
     "output_type": "stream",
     "text": [
      "(54837, 7)\n"
     ]
    },
    {
     "data": {
      "text/html": [
       "<div>\n",
       "<style>\n",
       "    .dataframe thead tr:only-child th {\n",
       "        text-align: right;\n",
       "    }\n",
       "\n",
       "    .dataframe thead th {\n",
       "        text-align: left;\n",
       "    }\n",
       "\n",
       "    .dataframe tbody tr th {\n",
       "        vertical-align: top;\n",
       "    }\n",
       "</style>\n",
       "<table border=\"1\" class=\"dataframe\">\n",
       "  <thead>\n",
       "    <tr style=\"text-align: right;\">\n",
       "      <th></th>\n",
       "      <th>annotation</th>\n",
       "      <th>subannotation</th>\n",
       "      <th>tissue</th>\n",
       "      <th>annotation_subannotation</th>\n",
       "      <th>cell_ontology_class</th>\n",
       "      <th>cell_ontology_term_iri</th>\n",
       "      <th>cell_ontology_id</th>\n",
       "    </tr>\n",
       "  </thead>\n",
       "  <tbody>\n",
       "    <tr>\n",
       "      <th>10X_P4_3_AAAGTAGAGATGCCAG</th>\n",
       "      <td>mesenchymal</td>\n",
       "      <td>b</td>\n",
       "      <td>Bladder</td>\n",
       "      <td>mesenchymal: b</td>\n",
       "      <td>mesenchymal cell</td>\n",
       "      <td>http://purl.obolibrary.org/obo/CL_0008019</td>\n",
       "      <td>CL:0008019</td>\n",
       "    </tr>\n",
       "    <tr>\n",
       "      <th>10X_P4_3_AACCGCGTCCAACCAA</th>\n",
       "      <td>mesenchymal</td>\n",
       "      <td>a</td>\n",
       "      <td>Bladder</td>\n",
       "      <td>mesenchymal: a</td>\n",
       "      <td>mesenchymal cell</td>\n",
       "      <td>http://purl.obolibrary.org/obo/CL_0008019</td>\n",
       "      <td>CL:0008019</td>\n",
       "    </tr>\n",
       "    <tr>\n",
       "      <th>10X_P4_3_AACTCCCGTCGGGTCT</th>\n",
       "      <td>mesenchymal</td>\n",
       "      <td>a</td>\n",
       "      <td>Bladder</td>\n",
       "      <td>mesenchymal: a</td>\n",
       "      <td>mesenchymal cell</td>\n",
       "      <td>http://purl.obolibrary.org/obo/CL_0008019</td>\n",
       "      <td>CL:0008019</td>\n",
       "    </tr>\n",
       "    <tr>\n",
       "      <th>10X_P4_3_AACTCTTAGTTGCAGG</th>\n",
       "      <td>luminal</td>\n",
       "      <td>a</td>\n",
       "      <td>Bladder</td>\n",
       "      <td>luminal: a</td>\n",
       "      <td>bladder cell</td>\n",
       "      <td>http://purl.obolibrary.org/obo/CL_1001319</td>\n",
       "      <td>CL:1001319</td>\n",
       "    </tr>\n",
       "    <tr>\n",
       "      <th>10X_P4_3_AACTCTTTCATAACCG</th>\n",
       "      <td>mesenchymal</td>\n",
       "      <td>a</td>\n",
       "      <td>Bladder</td>\n",
       "      <td>mesenchymal: a</td>\n",
       "      <td>mesenchymal cell</td>\n",
       "      <td>http://purl.obolibrary.org/obo/CL_0008019</td>\n",
       "      <td>CL:0008019</td>\n",
       "    </tr>\n",
       "  </tbody>\n",
       "</table>\n",
       "</div>"
      ],
      "text/plain": [
       "                            annotation subannotation   tissue  \\\n",
       "10X_P4_3_AAAGTAGAGATGCCAG  mesenchymal             b  Bladder   \n",
       "10X_P4_3_AACCGCGTCCAACCAA  mesenchymal             a  Bladder   \n",
       "10X_P4_3_AACTCCCGTCGGGTCT  mesenchymal             a  Bladder   \n",
       "10X_P4_3_AACTCTTAGTTGCAGG      luminal             a  Bladder   \n",
       "10X_P4_3_AACTCTTTCATAACCG  mesenchymal             a  Bladder   \n",
       "\n",
       "                          annotation_subannotation cell_ontology_class  \\\n",
       "10X_P4_3_AAAGTAGAGATGCCAG           mesenchymal: b    mesenchymal cell   \n",
       "10X_P4_3_AACCGCGTCCAACCAA           mesenchymal: a    mesenchymal cell   \n",
       "10X_P4_3_AACTCCCGTCGGGTCT           mesenchymal: a    mesenchymal cell   \n",
       "10X_P4_3_AACTCTTAGTTGCAGG               luminal: a        bladder cell   \n",
       "10X_P4_3_AACTCTTTCATAACCG           mesenchymal: a    mesenchymal cell   \n",
       "\n",
       "                                              cell_ontology_term_iri  \\\n",
       "10X_P4_3_AAAGTAGAGATGCCAG  http://purl.obolibrary.org/obo/CL_0008019   \n",
       "10X_P4_3_AACCGCGTCCAACCAA  http://purl.obolibrary.org/obo/CL_0008019   \n",
       "10X_P4_3_AACTCCCGTCGGGTCT  http://purl.obolibrary.org/obo/CL_0008019   \n",
       "10X_P4_3_AACTCTTAGTTGCAGG  http://purl.obolibrary.org/obo/CL_1001319   \n",
       "10X_P4_3_AACTCTTTCATAACCG  http://purl.obolibrary.org/obo/CL_0008019   \n",
       "\n",
       "                          cell_ontology_id  \n",
       "10X_P4_3_AAAGTAGAGATGCCAG       CL:0008019  \n",
       "10X_P4_3_AACCGCGTCCAACCAA       CL:0008019  \n",
       "10X_P4_3_AACTCCCGTCGGGTCT       CL:0008019  \n",
       "10X_P4_3_AACTCTTAGTTGCAGG       CL:1001319  \n",
       "10X_P4_3_AACTCTTTCATAACCG       CL:0008019  "
      ]
     },
     "execution_count": 9,
     "metadata": {},
     "output_type": "execute_result"
    }
   ],
   "source": [
    "csv = os.path.join(metadata_folder, 'maca_3month_annotations_10x_ontology.csv')\n",
    "cell_annotations = pd.read_csv(csv, index_col=0)\n",
    "print(cell_annotations.shape)\n",
    "cell_annotations.head()"
   ]
  },
  {
   "cell_type": "code",
   "execution_count": 10,
   "metadata": {},
   "outputs": [
    {
     "name": "stdout",
     "output_type": "stream",
     "text": [
      "figure1_folder: \"/Users/olgabot/googledrive/MACA_3mo_manuscript/Main figures/Fig1/10x\"\n",
      "figure2_folder: \"/Users/olgabot/googledrive/MACA_3mo_manuscript/Main figures/Fig2/10x\"\n"
     ]
    }
   ],
   "source": [
    "figure_folder = '/Users/olgabot/googledrive/MACA_3mo_manuscript/Main figures'\n",
    "\n",
    "figure1_folder = f'{figure_folder}/Fig1/10x'\n",
    "figure2_folder = f'{figure_folder}/Fig2/10x'\n",
    "\n",
    "print(f'figure1_folder: \"{figure1_folder}\"')\n",
    "print(f'figure2_folder: \"{figure2_folder}\"')\n",
    "\n",
    "! mkdir -p \"$figure1_folder\"\n",
    "! mkdir -p \"$figure2_folder\""
   ]
  },
  {
   "cell_type": "code",
   "execution_count": 11,
   "metadata": {
    "collapsed": true
   },
   "outputs": [],
   "source": [
    "folder = '/Users/olgabot/code/maca/metadata/number_of_cells_reads_genes_10x/'"
   ]
  },
  {
   "cell_type": "code",
   "execution_count": 12,
   "metadata": {},
   "outputs": [
    {
     "name": "stdout",
     "output_type": "stream",
     "text": [
      "/Users/olgabot/code/maca/metadata/number_of_cells_reads_genes_10x//Bladder_nreads_ngenes.csv\r\n",
      "/Users/olgabot/code/maca/metadata/number_of_cells_reads_genes_10x//Heart_nreads_ngenes.csv\r\n",
      "/Users/olgabot/code/maca/metadata/number_of_cells_reads_genes_10x//Kidney_nreads_ngenes.csv\r\n",
      "/Users/olgabot/code/maca/metadata/number_of_cells_reads_genes_10x//Liver_nreads_ngenes.csv\r\n",
      "/Users/olgabot/code/maca/metadata/number_of_cells_reads_genes_10x//Lung_nreads_ngenes.csv\r\n",
      "/Users/olgabot/code/maca/metadata/number_of_cells_reads_genes_10x//Mammary_nreads_ngenes.csv\r\n",
      "/Users/olgabot/code/maca/metadata/number_of_cells_reads_genes_10x//Marrow_nreads_ngenes.csv\r\n",
      "/Users/olgabot/code/maca/metadata/number_of_cells_reads_genes_10x//Muscle_nreads_ngenes.csv\r\n",
      "/Users/olgabot/code/maca/metadata/number_of_cells_reads_genes_10x//Spleen_nreads_ngenes.csv\r\n",
      "/Users/olgabot/code/maca/metadata/number_of_cells_reads_genes_10x//Thymus_nreads_ngenes.csv\r\n",
      "/Users/olgabot/code/maca/metadata/number_of_cells_reads_genes_10x//Tongue_nreads_ngenes.csv\r\n",
      "/Users/olgabot/code/maca/metadata/number_of_cells_reads_genes_10x//Trachea_nreads_ngenes.csv\r\n"
     ]
    }
   ],
   "source": [
    "ls $folder/*_nreads_ngenes.csv"
   ]
  },
  {
   "cell_type": "code",
   "execution_count": 13,
   "metadata": {
    "collapsed": true
   },
   "outputs": [],
   "source": [
    "import hermione as hm"
   ]
  },
  {
   "cell_type": "code",
   "execution_count": 14,
   "metadata": {},
   "outputs": [
    {
     "name": "stdout",
     "output_type": "stream",
     "text": [
      "==> /Users/olgabot/code/maca/metadata/number_of_cells_reads_genes_10x//Bladder_cell_numbers.csv <==\r\n",
      "\"\",\"Bladder\"\r\n",
      "\"n_genes\",14749\r\n",
      "\"n_cells_pass_qc\",2500\r\n",
      "\"n_cells_sequenced\",2500\r\n",
      "\r\n",
      "==> /Users/olgabot/code/maca/metadata/number_of_cells_reads_genes_10x//Bladder_nreads_ngenes.csv <==\r\n",
      "\"\",\"nGene\",\"nUMI\",\"orig.ident\"\r\n",
      "\"10X_P4_3_AAAGTAGAGATGCCAG\",2853,10291,\"10X\"\r\n",
      "\"10X_P4_3_AACCGCGTCCAACCAA\",4194,17520,\"10X\"\r\n",
      "\"10X_P4_3_AACTCCCGTCGGGTCT\",3347,12944,\"10X\"\r\n",
      "\"10X_P4_3_AACTCTTAGTTGCAGG\",3851,19594,\"10X\"\r\n",
      "\"10X_P4_3_AACTCTTTCATAACCG\",3809,14594,\"10X\"\r\n",
      "\"10X_P4_3_AAGACCTAGATCCGAG\",3608,19190,\"10X\"\r\n",
      "\"10X_P4_3_AAGACCTAGGTGGGTT\",4347,24484,\"10X\"\r\n",
      "\"10X_P4_3_AAGGAGCGTGCAACTT\",1960,5005,\"10X\"\r\n",
      "\"10X_P4_3_AAGTCTGAGATAGTCA\",2236,6253,\"10X\"\r\n"
     ]
    }
   ],
   "source": [
    "! head $folder/Bladder*"
   ]
  },
  {
   "cell_type": "code",
   "execution_count": 15,
   "metadata": {},
   "outputs": [
    {
     "name": "stdout",
     "output_type": "stream",
     "text": [
      "(51529, 4)\n",
      "number of tissues:  12\n"
     ]
    },
    {
     "data": {
      "text/html": [
       "<div>\n",
       "<style>\n",
       "    .dataframe thead tr:only-child th {\n",
       "        text-align: right;\n",
       "    }\n",
       "\n",
       "    .dataframe thead th {\n",
       "        text-align: left;\n",
       "    }\n",
       "\n",
       "    .dataframe tbody tr th {\n",
       "        vertical-align: top;\n",
       "    }\n",
       "</style>\n",
       "<table border=\"1\" class=\"dataframe\">\n",
       "  <thead>\n",
       "    <tr style=\"text-align: right;\">\n",
       "      <th></th>\n",
       "      <th>nGene</th>\n",
       "      <th>nUMI</th>\n",
       "      <th>orig.ident</th>\n",
       "      <th>tissue</th>\n",
       "    </tr>\n",
       "  </thead>\n",
       "  <tbody>\n",
       "    <tr>\n",
       "      <th>10X_P4_3_AAAGTAGAGATGCCAG</th>\n",
       "      <td>2853</td>\n",
       "      <td>10291</td>\n",
       "      <td>10X</td>\n",
       "      <td>Bladder</td>\n",
       "    </tr>\n",
       "    <tr>\n",
       "      <th>10X_P4_3_AACCGCGTCCAACCAA</th>\n",
       "      <td>4194</td>\n",
       "      <td>17520</td>\n",
       "      <td>10X</td>\n",
       "      <td>Bladder</td>\n",
       "    </tr>\n",
       "    <tr>\n",
       "      <th>10X_P4_3_AACTCCCGTCGGGTCT</th>\n",
       "      <td>3347</td>\n",
       "      <td>12944</td>\n",
       "      <td>10X</td>\n",
       "      <td>Bladder</td>\n",
       "    </tr>\n",
       "    <tr>\n",
       "      <th>10X_P4_3_AACTCTTAGTTGCAGG</th>\n",
       "      <td>3851</td>\n",
       "      <td>19594</td>\n",
       "      <td>10X</td>\n",
       "      <td>Bladder</td>\n",
       "    </tr>\n",
       "    <tr>\n",
       "      <th>10X_P4_3_AACTCTTTCATAACCG</th>\n",
       "      <td>3809</td>\n",
       "      <td>14594</td>\n",
       "      <td>10X</td>\n",
       "      <td>Bladder</td>\n",
       "    </tr>\n",
       "  </tbody>\n",
       "</table>\n",
       "</div>"
      ],
      "text/plain": [
       "                           nGene   nUMI orig.ident   tissue\n",
       "10X_P4_3_AAAGTAGAGATGCCAG   2853  10291        10X  Bladder\n",
       "10X_P4_3_AACCGCGTCCAACCAA   4194  17520        10X  Bladder\n",
       "10X_P4_3_AACTCCCGTCGGGTCT   3347  12944        10X  Bladder\n",
       "10X_P4_3_AACTCTTAGTTGCAGG   3851  19594        10X  Bladder\n",
       "10X_P4_3_AACTCTTTCATAACCG   3809  14594        10X  Bladder"
      ]
     },
     "execution_count": 15,
     "metadata": {},
     "output_type": "execute_result"
    }
   ],
   "source": [
    "import glob\n",
    "import os \n",
    " \n",
    "globber = f'{folder}/*_nreads_ngenes.csv'\n",
    "\n",
    "dfs = []\n",
    "\n",
    "for filename in glob.iglob(globber):\n",
    "    df = pd.read_csv(filename, index_col=0)\n",
    "    df['tissue'] = os.path.basename(filename).split('_nreads_ngenes.csv')[0]\n",
    "    dfs.append(df)\n",
    "nreads_ngenes = pd.concat(dfs)\n",
    "print(nreads_ngenes.shape)\n",
    "print('number of tissues: ', len(nreads_ngenes.groupby('tissue')))\n",
    "nreads_ngenes.head()"
   ]
  },
  {
   "cell_type": "code",
   "execution_count": 16,
   "metadata": {
    "collapsed": true
   },
   "outputs": [],
   "source": [
    "import numpy as np"
   ]
  },
  {
   "cell_type": "code",
   "execution_count": 17,
   "metadata": {
    "collapsed": true
   },
   "outputs": [],
   "source": [
    "nreads_ngenes['log10_nUMI'] = np.log10(nreads_ngenes['nUMI'])"
   ]
  },
  {
   "cell_type": "code",
   "execution_count": 18,
   "metadata": {},
   "outputs": [
    {
     "data": {
      "text/plain": [
       "{'Aorta': '#1f77b4',\n",
       " 'Bladder': '#aec7e8',\n",
       " 'Brain_Microglia': '#ff7f0e',\n",
       " 'Brain_Neurons': '#ffbb78',\n",
       " 'Colon': '#2ca02c',\n",
       " 'Diaphragm': '#98df8a',\n",
       " 'Fat': '#d62728',\n",
       " 'Heart': '#ff9896',\n",
       " 'Kidney': '#9467bd',\n",
       " 'Liver': '#c5b0d5',\n",
       " 'Lung': '#8c564b',\n",
       " 'Mammary': '#c49c94',\n",
       " 'Marrow': '#e377c2',\n",
       " 'Muscle': '#f7b6d2',\n",
       " 'Pancreas': '#7f7f7f',\n",
       " 'Skin': '#c7c7c7',\n",
       " 'Spleen': '#bcbd22',\n",
       " 'Thymus': '#dbdb8d',\n",
       " 'Tongue': '#17becf',\n",
       " 'Trachea': '#9edae5'}"
      ]
     },
     "execution_count": 18,
     "metadata": {},
     "output_type": "execute_result"
    }
   ],
   "source": [
    "colors = pd.read_csv(os.path.join(metadata_folder, 'tissue_colors.csv'), index_col=0, squeeze=True)\n",
    "\n",
    "# Convert to dictionary to make sure the colors match up\n",
    "colors = colors.to_dict()\n",
    "colors"
   ]
  },
  {
   "cell_type": "code",
   "execution_count": 19,
   "metadata": {},
   "outputs": [
    {
     "data": {
      "text/plain": [
       "Index(['Bladder', 'Heart', 'Kidney', 'Liver', 'Lung', 'Mammary', 'Marrow',\n",
       "       'Muscle', 'Spleen', 'Thymus', 'Tongue', 'Trachea'],\n",
       "      dtype='object', name='tissue_v2')"
      ]
     },
     "execution_count": 19,
     "metadata": {},
     "output_type": "execute_result"
    }
   ],
   "source": [
    "# tissues = sorted(nreads_ngenes['tissue'].unique())\n",
    "tissues"
   ]
  },
  {
   "cell_type": "code",
   "execution_count": 20,
   "metadata": {
    "collapsed": true
   },
   "outputs": [],
   "source": [
    "kwargs = dict(data=nreads_ngenes, row='tissue', kdeplot_kws=dict(zorder=-1),\n",
    "               row_order=tissues, palette=colors, xlabel_suffix='')"
   ]
  },
  {
   "cell_type": "code",
   "execution_count": 21,
   "metadata": {},
   "outputs": [
    {
     "data": {
      "image/png": "[encoded data removed]",
      "text/plain": [
       "<matplotlib.figure.Figure at 0x10548a0b8>"
      ]
     },
     "metadata": {},
     "output_type": "display_data"
    }
   ],
   "source": [
    "g = hm.horizonplot(x='nGene', **kwargs)\n",
    "g.set_xlabels('Genes per cell')\n",
    "\n",
    "for ax in g.axes.flatten():    \n",
    "    # Add white gridlines\n",
    "#     xticks = ax.get_xticks()\n",
    "#     xmin, xmax, ymin, ymax = ax.axis()\n",
    "#     ax.vlines(xticks, ymin, 1.2*ymax, color='white', clip_on=False, linewidth=1)\n",
    "#     ax.set(xlim=(xmin, xmax), ylim=(ymin, ymax))\n",
    "    \n",
    "    # Remove ticklabels except for last row\n",
    "    if not ax.is_last_row():\n",
    "        plt.setp(ax.get_xticklabels(), visible=False)\n",
    "\n",
    "\n",
    "g.savefig(f'{figure1_folder}/horizonplot_genes_per_cell.pdf', bbox_inches='tight')"
   ]
  },
  {
   "cell_type": "code",
   "execution_count": 22,
   "metadata": {},
   "outputs": [
    {
     "data": {
      "image/png": "[encoded data removed]",
      "text/plain": [
       "<matplotlib.figure.Figure at 0x10f0d5d30>"
      ]
     },
     "metadata": {},
     "output_type": "display_data"
    }
   ],
   "source": [
    "g = hm.horizonplot(x='log10_nUMI', **kwargs)\n",
    "g.set_xlabels('log10(UMI per cell)')\n",
    "for ax in g.axes.flatten():\n",
    "\n",
    "#     # Add white gridlines\n",
    "#     xticks = ax.get_xticks()\n",
    "#     xmin, xmax, ymin, ymax = ax.axis()\n",
    "#     ax.vlines(xticks, ymin, 1.2*ymax, color='white', clip_on=False, linewidth=1)\n",
    "#     ax.set(xlim=(xmin, xmax), ylim=(ymin, ymax))\n",
    "    \n",
    "    # Remove ticklabels except for last row\n",
    "    if not ax.is_last_row():\n",
    "        plt.setp(ax.get_xticklabels(), visible=False)\n",
    "\n",
    "\n",
    "g.savefig(f'{figure1_folder}/horizonplot_log10_UMI_per_cell.pdf')"
   ]
  },
  {
   "cell_type": "code",
   "execution_count": 23,
   "metadata": {},
   "outputs": [
    {
     "data": {
      "text/html": [
       "<div>\n",
       "<style>\n",
       "    .dataframe thead tr:only-child th {\n",
       "        text-align: right;\n",
       "    }\n",
       "\n",
       "    .dataframe thead th {\n",
       "        text-align: left;\n",
       "    }\n",
       "\n",
       "    .dataframe tbody tr th {\n",
       "        vertical-align: top;\n",
       "    }\n",
       "</style>\n",
       "<table border=\"1\" class=\"dataframe\">\n",
       "  <thead>\n",
       "    <tr style=\"text-align: right;\">\n",
       "      <th></th>\n",
       "      <th>tissue</th>\n",
       "      <th>n_cells</th>\n",
       "    </tr>\n",
       "  </thead>\n",
       "  <tbody>\n",
       "    <tr>\n",
       "      <th>0</th>\n",
       "      <td>Bladder</td>\n",
       "      <td>2500</td>\n",
       "    </tr>\n",
       "    <tr>\n",
       "      <th>1</th>\n",
       "      <td>Heart</td>\n",
       "      <td>624</td>\n",
       "    </tr>\n",
       "    <tr>\n",
       "      <th>2</th>\n",
       "      <td>Kidney</td>\n",
       "      <td>2781</td>\n",
       "    </tr>\n",
       "    <tr>\n",
       "      <th>3</th>\n",
       "      <td>Liver</td>\n",
       "      <td>1026</td>\n",
       "    </tr>\n",
       "    <tr>\n",
       "      <th>4</th>\n",
       "      <td>Lung</td>\n",
       "      <td>2141</td>\n",
       "    </tr>\n",
       "    <tr>\n",
       "      <th>5</th>\n",
       "      <td>Mammary</td>\n",
       "      <td>4481</td>\n",
       "    </tr>\n",
       "    <tr>\n",
       "      <th>6</th>\n",
       "      <td>Marrow</td>\n",
       "      <td>3652</td>\n",
       "    </tr>\n",
       "    <tr>\n",
       "      <th>7</th>\n",
       "      <td>Muscle</td>\n",
       "      <td>4536</td>\n",
       "    </tr>\n",
       "    <tr>\n",
       "      <th>8</th>\n",
       "      <td>Spleen</td>\n",
       "      <td>9552</td>\n",
       "    </tr>\n",
       "    <tr>\n",
       "      <th>9</th>\n",
       "      <td>Thymus</td>\n",
       "      <td>1429</td>\n",
       "    </tr>\n",
       "    <tr>\n",
       "      <th>10</th>\n",
       "      <td>Tongue</td>\n",
       "      <td>7538</td>\n",
       "    </tr>\n",
       "    <tr>\n",
       "      <th>11</th>\n",
       "      <td>Trachea</td>\n",
       "      <td>11269</td>\n",
       "    </tr>\n",
       "  </tbody>\n",
       "</table>\n",
       "</div>"
      ],
      "text/plain": [
       "     tissue  n_cells\n",
       "0   Bladder     2500\n",
       "1     Heart      624\n",
       "2    Kidney     2781\n",
       "3     Liver     1026\n",
       "4      Lung     2141\n",
       "5   Mammary     4481\n",
       "6    Marrow     3652\n",
       "7    Muscle     4536\n",
       "8    Spleen     9552\n",
       "9    Thymus     1429\n",
       "10   Tongue     7538\n",
       "11  Trachea    11269"
      ]
     },
     "execution_count": 23,
     "metadata": {},
     "output_type": "execute_result"
    }
   ],
   "source": [
    "n_cells_per_tissue = nreads_ngenes.groupby('tissue').size().reset_index()\n",
    "n_cells_per_tissue = n_cells_per_tissue.rename(columns={0: 'n_cells'})\n",
    "n_cells_per_tissue"
   ]
  },
  {
   "cell_type": "code",
   "execution_count": 24,
   "metadata": {},
   "outputs": [
    {
     "data": {
      "image/png": "[encoded data removed]",
      "text/plain": [
       "<matplotlib.figure.Figure at 0x110d5a438>"
      ]
     },
     "metadata": {},
     "output_type": "display_data"
    }
   ],
   "source": [
    "fig, ax = plt.subplots()\n",
    "sns.barplot(x='n_cells', y='tissue', data=n_cells_per_tissue, palette=colors, order=tissues)\n",
    "ax.set(xlabel='Number of cells')\n",
    "fig.tight_layout()\n",
    "fig.savefig(f'{figure1_folder}/barplot_n_cells_per_tissue.pdf')"
   ]
  },
  {
   "cell_type": "code",
   "execution_count": 39,
   "metadata": {
    "scrolled": false
   },
   "outputs": [
    {
     "name": "stdout",
     "output_type": "stream",
     "text": [
      "width: 2.9921259842400003, height: 10.6299212598\n",
      "\n",
      "--- Bladder ---\n",
      "\n",
      "--- Heart ---\n",
      "\n",
      "--- Kidney ---\n",
      "\n",
      "--- Liver ---\n",
      "\n",
      "--- Lung ---\n",
      "\n",
      "--- Mammary ---\n",
      "\n",
      "--- Marrow ---\n",
      "\n",
      "--- Muscle ---\n",
      "\n",
      "--- Spleen ---\n",
      "\n",
      "--- Thymus ---\n",
      "\n",
      "--- Tongue ---\n",
      "\n",
      "--- Trachea ---\n"
     ]
    },
    {
     "data": {
      "image/png": "[encoded data removed]",
      "text/plain": [
       "<matplotlib.figure.Figure at 0x110daafd0>"
      ]
     },
     "metadata": {},
     "output_type": "display_data"
    },
    {
     "data": {
      "image/png": "[encoded data removed]",
      "text/plain": [
       "<matplotlib.figure.Figure at 0x1163fb160>"
      ]
     },
     "metadata": {},
     "output_type": "display_data"
    },
    {
     "data": {
      "image/png": "[encoded data removed]",
      "text/plain": [
       "<matplotlib.figure.Figure at 0x1158b8a90>"
      ]
     },
     "metadata": {},
     "output_type": "display_data"
    },
    {
     "data": {
      "image/png": "[encoded data removed]",
      "text/plain": [
       "<matplotlib.figure.Figure at 0x117008a58>"
      ]
     },
     "metadata": {},
     "output_type": "display_data"
    },
    {
     "data": {
      "image/png": "[encoded data removed]",
      "text/plain": [
       "<matplotlib.figure.Figure at 0x11566cfd0>"
      ]
     },
     "metadata": {},
     "output_type": "display_data"
    },
    {
     "data": {
      "image/png": "[encoded data removed]",
      "text/plain": [
       "<matplotlib.figure.Figure at 0x115952ac8>"
      ]
     },
     "metadata": {},
     "output_type": "display_data"
    },
    {
     "data": {
      "image/png": "[encoded data removed]",
      "text/plain": [
       "<matplotlib.figure.Figure at 0x116ce3fd0>"
      ]
     },
     "metadata": {},
     "output_type": "display_data"
    },
    {
     "data": {
      "image/png": "[encoded data removed]",
      "text/plain": [
       "<matplotlib.figure.Figure at 0x1141a62b0>"
      ]
     },
     "metadata": {},
     "output_type": "display_data"
    },
    {
     "data": {
      "image/png": "[encoded data removed]",
      "text/plain": [
       "<matplotlib.figure.Figure at 0x116e91828>"
      ]
     },
     "metadata": {},
     "output_type": "display_data"
    },
    {
     "data": {
      "image/png": "[encoded data removed]",
      "text/plain": [
       "<matplotlib.figure.Figure at 0x1159dbdd8>"
      ]
     },
     "metadata": {},
     "output_type": "display_data"
    },
    {
     "data": {
      "image/png": "[encoded data removed]",
      "text/plain": [
       "<matplotlib.figure.Figure at 0x114aff048>"
      ]
     },
     "metadata": {},
     "output_type": "display_data"
    },
    {
     "data": {
      "image/png": "[encoded data removed]",
      "text/plain": [
       "<matplotlib.figure.Figure at 0x11439a5c0>"
      ]
     },
     "metadata": {},
     "output_type": "display_data"
    },
    {
     "data": {
      "image/png": "[encoded data removed]",
      "text/plain": [
       "<matplotlib.figure.Figure at 0x116392390>"
      ]
     },
     "metadata": {},
     "output_type": "display_data"
    }
   ],
   "source": [
    "mm_to_inch = 0.03937007874\n",
    "\n",
    "width = 76 * mm_to_inch\n",
    "height = 270 * mm_to_inch\n",
    "\n",
    "print(f'width: {width}, height: {height}')\n",
    "\n",
    "col = 'cell_ontology_class'\n",
    "\n",
    "height_ratios = cell_annotations.groupby('tissue').apply(lambda x: len(x[col].unique()))\n",
    "\n",
    "fig, axes = plt.subplots(figsize=(width, height), nrows=len(tissues), sharex=True, \n",
    "                         gridspec_kw=dict(height_ratios=height_ratios))\n",
    "\n",
    "def barplot(x, y, data, palette=None, ax=None, zorder=-1, title=''):\n",
    "    order = sorted(data[y], key=lambda s: s.lower())\n",
    "    \n",
    "#     ax.set_xscale('log')\n",
    "    sns.barplot(x=x, y=y, data=data, palette=palette, ax=ax, zorder=zorder, order=order)\n",
    "    ax.set(xlabel='', ylabel='')\n",
    "\n",
    "    # Remove \"FACS\"\n",
    "    title = title.replace('_FACS', '').replace('_', ' ')\n",
    "    ax.set_title(title, va='top', fontweight='bold', size=8)\n",
    "    \n",
    "    ax.yaxis.set_ticks_position(\"right\")\n",
    "\n",
    "    # only y-axis grid\n",
    "    ax.grid(axis='x', zorder=100, color='white')\n",
    "    ax.grid('off', axis='y')\n",
    "    \n",
    "    ax.spines['left'].set_visible(False)\n",
    "\n",
    "    if ax.is_last_row():\n",
    "        xticks = list(range(1, max(map(int, ax.get_xticks()))))\n",
    "        xticklabels = [f'$10^{int(i)}$' for i in xticks]\n",
    "        ax.set_xlabel('Number of cells', va='center')\n",
    "        ax.set_xticks(xticks)\n",
    "        ax.set_xticklabels(xticklabels, va='center')\n",
    "        ax.invert_xaxis()\n",
    "\n",
    "    ax.spines['top'].set_visible(False)\n",
    "    ax.spines['bottom'].set_visible(False)\n",
    "\n",
    "\n",
    "palette = sns.color_palette('Set2', n_colors=8) + sns.color_palette('Dark2', n_colors=8)\n",
    "\n",
    "for (tissue, df), ax in zip(cell_annotations.groupby('tissue'), axes):\n",
    "    print(f'\\n--- {tissue} ---')\n",
    "    annotation_subannotation = df.groupby(col).size().reset_index()\n",
    "    annotation_subannotation = annotation_subannotation.rename(columns={0: 'n_cells'})\n",
    "    annotation_subannotation['log10_n_cells'] = np.log10(annotation_subannotation['n_cells'])\n",
    "    \n",
    "    barplot(x='log10_n_cells', y=col, data=annotation_subannotation, palette=palette, ax=ax, title=tissue)\n",
    "    \n",
    "    tissue_height = height * (height_ratios[tissue]/height_ratios.sum()) + 1\n",
    "    fig_tissue, ax_tissue = plt.subplots(figsize=(width, tissue_height))\n",
    "    barplot('log10_n_cells', col, annotation_subannotation, palette, ax=ax_tissue, title=tissue)\n",
    "\n",
    "    left, right = -0.05, 1.04\n",
    "    bottom, top = -0.015, 1.01\n",
    "    fig_tissue.tight_layout(h_pad=-0.1, rect=[left, bottom, right, top])\n",
    "    fig_tissue.savefig(f'{figure2_folder}/barplot_n_cells_per_annotation_{tissue}.pdf')\n",
    "    \n",
    "        \n",
    " \n",
    "left, right = -0.05, 1.04\n",
    "bottom, top = -0.015, 1.01\n",
    "fig.tight_layout(h_pad=-0.1, rect=[left, bottom, right, top])\n",
    "fig.savefig(f'{figure2_folder}/barplot_n_cells_per_annotation_all.pdf')\n"
   ]
  },
  {
   "cell_type": "code",
   "execution_count": 36,
   "metadata": {},
   "outputs": [
    {
     "data": {
      "text/html": [
       "<div>\n",
       "<style>\n",
       "    .dataframe thead tr:only-child th {\n",
       "        text-align: right;\n",
       "    }\n",
       "\n",
       "    .dataframe thead th {\n",
       "        text-align: left;\n",
       "    }\n",
       "\n",
       "    .dataframe tbody tr th {\n",
       "        vertical-align: top;\n",
       "    }\n",
       "</style>\n",
       "<table border=\"1\" class=\"dataframe\">\n",
       "  <thead>\n",
       "    <tr style=\"text-align: right;\">\n",
       "      <th></th>\n",
       "      <th>cell_ontology_class</th>\n",
       "      <th>n_cells</th>\n",
       "      <th>log10_n_cells</th>\n",
       "    </tr>\n",
       "  </thead>\n",
       "  <tbody>\n",
       "    <tr>\n",
       "      <th>0</th>\n",
       "      <td>basal cell of epithelium of trachea</td>\n",
       "      <td>36</td>\n",
       "      <td>1.556303</td>\n",
       "    </tr>\n",
       "    <tr>\n",
       "      <th>1</th>\n",
       "      <td>ciliated epithelial cell</td>\n",
       "      <td>20</td>\n",
       "      <td>1.301030</td>\n",
       "    </tr>\n",
       "    <tr>\n",
       "      <th>2</th>\n",
       "      <td>endothelial cell</td>\n",
       "      <td>1039</td>\n",
       "      <td>3.016616</td>\n",
       "    </tr>\n",
       "    <tr>\n",
       "      <th>3</th>\n",
       "      <td>epithelial cell</td>\n",
       "      <td>829</td>\n",
       "      <td>2.918555</td>\n",
       "    </tr>\n",
       "    <tr>\n",
       "      <th>4</th>\n",
       "      <td>leukocyte</td>\n",
       "      <td>898</td>\n",
       "      <td>2.953276</td>\n",
       "    </tr>\n",
       "    <tr>\n",
       "      <th>5</th>\n",
       "      <td>neuroendocrine cell</td>\n",
       "      <td>543</td>\n",
       "      <td>2.734800</td>\n",
       "    </tr>\n",
       "    <tr>\n",
       "      <th>6</th>\n",
       "      <td>stromal cell</td>\n",
       "      <td>7904</td>\n",
       "      <td>3.897847</td>\n",
       "    </tr>\n",
       "  </tbody>\n",
       "</table>\n",
       "</div>"
      ],
      "text/plain": [
       "                   cell_ontology_class  n_cells  log10_n_cells\n",
       "0  basal cell of epithelium of trachea       36       1.556303\n",
       "1             ciliated epithelial cell       20       1.301030\n",
       "2                     endothelial cell     1039       3.016616\n",
       "3                      epithelial cell      829       2.918555\n",
       "4                            leukocyte      898       2.953276\n",
       "5                  neuroendocrine cell      543       2.734800\n",
       "6                         stromal cell     7904       3.897847"
      ]
     },
     "execution_count": 36,
     "metadata": {},
     "output_type": "execute_result"
    }
   ],
   "source": [
    "annotation_subannotation"
   ]
  },
  {
   "cell_type": "code",
   "execution_count": 26,
   "metadata": {},
   "outputs": [
    {
     "data": {
      "text/plain": [
       "array([ 0. ,  2.5,  5. ])"
      ]
     },
     "execution_count": 26,
     "metadata": {},
     "output_type": "execute_result"
    }
   ],
   "source": [
    "ax.get_xticks()"
   ]
  },
  {
   "cell_type": "code",
   "execution_count": 27,
   "metadata": {},
   "outputs": [
    {
     "data": {
      "text/html": [
       "<div>\n",
       "<style>\n",
       "    .dataframe thead tr:only-child th {\n",
       "        text-align: right;\n",
       "    }\n",
       "\n",
       "    .dataframe thead th {\n",
       "        text-align: left;\n",
       "    }\n",
       "\n",
       "    .dataframe tbody tr th {\n",
       "        vertical-align: top;\n",
       "    }\n",
       "</style>\n",
       "<table border=\"1\" class=\"dataframe\">\n",
       "  <thead>\n",
       "    <tr style=\"text-align: right;\">\n",
       "      <th></th>\n",
       "      <th>cell_ontology_class</th>\n",
       "      <th>n_cells</th>\n",
       "    </tr>\n",
       "  </thead>\n",
       "  <tbody>\n",
       "    <tr>\n",
       "      <th>0</th>\n",
       "      <td>basal cell of epithelium of trachea</td>\n",
       "      <td>1.556303</td>\n",
       "    </tr>\n",
       "    <tr>\n",
       "      <th>1</th>\n",
       "      <td>ciliated epithelial cell</td>\n",
       "      <td>1.301030</td>\n",
       "    </tr>\n",
       "    <tr>\n",
       "      <th>2</th>\n",
       "      <td>endothelial cell</td>\n",
       "      <td>3.016616</td>\n",
       "    </tr>\n",
       "    <tr>\n",
       "      <th>3</th>\n",
       "      <td>epithelial cell</td>\n",
       "      <td>2.918555</td>\n",
       "    </tr>\n",
       "    <tr>\n",
       "      <th>4</th>\n",
       "      <td>leukocyte</td>\n",
       "      <td>2.953276</td>\n",
       "    </tr>\n",
       "    <tr>\n",
       "      <th>5</th>\n",
       "      <td>neuroendocrine cell</td>\n",
       "      <td>2.734800</td>\n",
       "    </tr>\n",
       "    <tr>\n",
       "      <th>6</th>\n",
       "      <td>stromal cell</td>\n",
       "      <td>3.897847</td>\n",
       "    </tr>\n",
       "  </tbody>\n",
       "</table>\n",
       "</div>"
      ],
      "text/plain": [
       "                   cell_ontology_class   n_cells\n",
       "0  basal cell of epithelium of trachea  1.556303\n",
       "1             ciliated epithelial cell  1.301030\n",
       "2                     endothelial cell  3.016616\n",
       "3                      epithelial cell  2.918555\n",
       "4                            leukocyte  2.953276\n",
       "5                  neuroendocrine cell  2.734800\n",
       "6                         stromal cell  3.897847"
      ]
     },
     "execution_count": 27,
     "metadata": {},
     "output_type": "execute_result"
    }
   ],
   "source": [
    "annotation_subannotation"
   ]
  },
  {
   "cell_type": "code",
   "execution_count": 28,
   "metadata": {},
   "outputs": [
    {
     "data": {
      "text/html": [
       "<div>\n",
       "<style>\n",
       "    .dataframe thead tr:only-child th {\n",
       "        text-align: right;\n",
       "    }\n",
       "\n",
       "    .dataframe thead th {\n",
       "        text-align: left;\n",
       "    }\n",
       "\n",
       "    .dataframe tbody tr th {\n",
       "        vertical-align: top;\n",
       "    }\n",
       "</style>\n",
       "<table border=\"1\" class=\"dataframe\">\n",
       "  <thead>\n",
       "    <tr style=\"text-align: right;\">\n",
       "      <th></th>\n",
       "      <th>cell_ontology_class</th>\n",
       "      <th>n_cells</th>\n",
       "    </tr>\n",
       "  </thead>\n",
       "  <tbody>\n",
       "    <tr>\n",
       "      <th>0</th>\n",
       "      <td>basal cell of epithelium of trachea</td>\n",
       "      <td>1.556303</td>\n",
       "    </tr>\n",
       "    <tr>\n",
       "      <th>1</th>\n",
       "      <td>ciliated epithelial cell</td>\n",
       "      <td>1.301030</td>\n",
       "    </tr>\n",
       "    <tr>\n",
       "      <th>2</th>\n",
       "      <td>endothelial cell</td>\n",
       "      <td>3.016616</td>\n",
       "    </tr>\n",
       "    <tr>\n",
       "      <th>3</th>\n",
       "      <td>epithelial cell</td>\n",
       "      <td>2.918555</td>\n",
       "    </tr>\n",
       "    <tr>\n",
       "      <th>4</th>\n",
       "      <td>leukocyte</td>\n",
       "      <td>2.953276</td>\n",
       "    </tr>\n",
       "    <tr>\n",
       "      <th>5</th>\n",
       "      <td>neuroendocrine cell</td>\n",
       "      <td>2.734800</td>\n",
       "    </tr>\n",
       "    <tr>\n",
       "      <th>6</th>\n",
       "      <td>stromal cell</td>\n",
       "      <td>3.897847</td>\n",
       "    </tr>\n",
       "  </tbody>\n",
       "</table>\n",
       "</div>"
      ],
      "text/plain": [
       "                   cell_ontology_class   n_cells\n",
       "0  basal cell of epithelium of trachea  1.556303\n",
       "1             ciliated epithelial cell  1.301030\n",
       "2                     endothelial cell  3.016616\n",
       "3                      epithelial cell  2.918555\n",
       "4                            leukocyte  2.953276\n",
       "5                  neuroendocrine cell  2.734800\n",
       "6                         stromal cell  3.897847"
      ]
     },
     "execution_count": 28,
     "metadata": {},
     "output_type": "execute_result"
    }
   ],
   "source": [
    "annotation_subannotation"
   ]
  },
  {
   "cell_type": "code",
   "execution_count": null,
   "metadata": {
    "collapsed": true
   },
   "outputs": [],
   "source": []
  },
  {
   "cell_type": "code",
   "execution_count": null,
   "metadata": {
    "collapsed": true
   },
   "outputs": [],
   "source": []
  }
 ],
 "metadata": {
  "kernelspec": {
   "display_name": "Python 3 (MACA)",
   "language": "python",
   "name": "maca"
  },
  "language_info": {
   "codemirror_mode": {
    "name": "ipython",
    "version": 3
   },
   "file_extension": ".py",
   "mimetype": "text/x-python",
   "name": "python",
   "nbconvert_exporter": "python",
   "pygments_lexer": "ipython3",
   "version": "3.6.1"
  }
 },
 "nbformat": 4,
 "nbformat_minor": 2
}
